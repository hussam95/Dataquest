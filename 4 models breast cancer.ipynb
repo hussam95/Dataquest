{
  "nbformat": 4,
  "nbformat_minor": 0,
  "metadata": {
    "colab": {
      "name": "Decision Tree and Logistic Regression Comparison.ipynb",
      "provenance": [],
      "collapsed_sections": []
    },
    "kernelspec": {
      "name": "python3",
      "display_name": "Python 3"
    },
    "language_info": {
      "name": "python"
    }
  },
  "cells": [
    {
      "cell_type": "markdown",
      "source": [
        "# Background\n",
        "\n",
        "Logisitic regression helps us classify a dependent variable. In this project, we will use this technique to classify breast cancer patients as having moderately malignant(1), malignant(2), extremly malignant(3) tumor. We'll use **one-versus-all appraoch** (details later) in our logistic regression model.\n",
        "\n",
        "We will use [data](https://archive.ics.uci.edu/ml/datasets/Breast+Cancer) having 9 categorical features. We'll engineer new features in this project to train and test our logistic regression model. \n",
        "\n",
        "Remember, the probability of correctly predicting the extent of breast cancer malignancy with three classes is 33.3%. This is because we have to pick 1 out of 3 options randomly. If our model gives us results better than this, it means the logistic regression has improved our capability of assigning degree of malignancy to a certain cancer patient. "
      ],
      "metadata": {
        "id": "eBO9AoGg8k9f"
      }
    },
    {
      "cell_type": "markdown",
      "source": [
        "# Reading Data"
      ],
      "metadata": {
        "id": "sHJX9k518sGT"
      }
    },
    {
      "cell_type": "code",
      "source": [
        "import pandas as pd\n",
        "cols=['class','age','menopause','tumor_size','inv_nodes','node_caps','deg_malig','breast','breast-quad','irradiat']\n",
        "data= pd.read_csv('breast-cancer.data',delimiter=',',names=cols)\n",
        "data"
      ],
      "metadata": {
        "colab": {
          "base_uri": "https://localhost:8080/",
          "height": 424
        },
        "id": "wkdcVgMA0iGE",
        "outputId": "0ec9a464-9417-42fb-951a-0d5f8397904e"
      },
      "execution_count": 1,
      "outputs": [
        {
          "output_type": "execute_result",
          "data": {
            "text/html": [
              "<div>\n",
              "<style scoped>\n",
              "    .dataframe tbody tr th:only-of-type {\n",
              "        vertical-align: middle;\n",
              "    }\n",
              "\n",
              "    .dataframe tbody tr th {\n",
              "        vertical-align: top;\n",
              "    }\n",
              "\n",
              "    .dataframe thead th {\n",
              "        text-align: right;\n",
              "    }\n",
              "</style>\n",
              "<table border=\"1\" class=\"dataframe\">\n",
              "  <thead>\n",
              "    <tr style=\"text-align: right;\">\n",
              "      <th></th>\n",
              "      <th>class</th>\n",
              "      <th>age</th>\n",
              "      <th>menopause</th>\n",
              "      <th>tumor_size</th>\n",
              "      <th>inv_nodes</th>\n",
              "      <th>node_caps</th>\n",
              "      <th>deg_malig</th>\n",
              "      <th>breast</th>\n",
              "      <th>breast-quad</th>\n",
              "      <th>irradiat</th>\n",
              "    </tr>\n",
              "  </thead>\n",
              "  <tbody>\n",
              "    <tr>\n",
              "      <th>0</th>\n",
              "      <td>no-recurrence-events</td>\n",
              "      <td>30-39</td>\n",
              "      <td>premeno</td>\n",
              "      <td>30-34</td>\n",
              "      <td>0-2</td>\n",
              "      <td>no</td>\n",
              "      <td>3</td>\n",
              "      <td>left</td>\n",
              "      <td>left_low</td>\n",
              "      <td>no</td>\n",
              "    </tr>\n",
              "    <tr>\n",
              "      <th>1</th>\n",
              "      <td>no-recurrence-events</td>\n",
              "      <td>40-49</td>\n",
              "      <td>premeno</td>\n",
              "      <td>20-24</td>\n",
              "      <td>0-2</td>\n",
              "      <td>no</td>\n",
              "      <td>2</td>\n",
              "      <td>right</td>\n",
              "      <td>right_up</td>\n",
              "      <td>no</td>\n",
              "    </tr>\n",
              "    <tr>\n",
              "      <th>2</th>\n",
              "      <td>no-recurrence-events</td>\n",
              "      <td>40-49</td>\n",
              "      <td>premeno</td>\n",
              "      <td>20-24</td>\n",
              "      <td>0-2</td>\n",
              "      <td>no</td>\n",
              "      <td>2</td>\n",
              "      <td>left</td>\n",
              "      <td>left_low</td>\n",
              "      <td>no</td>\n",
              "    </tr>\n",
              "    <tr>\n",
              "      <th>3</th>\n",
              "      <td>no-recurrence-events</td>\n",
              "      <td>60-69</td>\n",
              "      <td>ge40</td>\n",
              "      <td>15-19</td>\n",
              "      <td>0-2</td>\n",
              "      <td>no</td>\n",
              "      <td>2</td>\n",
              "      <td>right</td>\n",
              "      <td>left_up</td>\n",
              "      <td>no</td>\n",
              "    </tr>\n",
              "    <tr>\n",
              "      <th>4</th>\n",
              "      <td>no-recurrence-events</td>\n",
              "      <td>40-49</td>\n",
              "      <td>premeno</td>\n",
              "      <td>0-4</td>\n",
              "      <td>0-2</td>\n",
              "      <td>no</td>\n",
              "      <td>2</td>\n",
              "      <td>right</td>\n",
              "      <td>right_low</td>\n",
              "      <td>no</td>\n",
              "    </tr>\n",
              "    <tr>\n",
              "      <th>...</th>\n",
              "      <td>...</td>\n",
              "      <td>...</td>\n",
              "      <td>...</td>\n",
              "      <td>...</td>\n",
              "      <td>...</td>\n",
              "      <td>...</td>\n",
              "      <td>...</td>\n",
              "      <td>...</td>\n",
              "      <td>...</td>\n",
              "      <td>...</td>\n",
              "    </tr>\n",
              "    <tr>\n",
              "      <th>281</th>\n",
              "      <td>recurrence-events</td>\n",
              "      <td>30-39</td>\n",
              "      <td>premeno</td>\n",
              "      <td>30-34</td>\n",
              "      <td>0-2</td>\n",
              "      <td>no</td>\n",
              "      <td>2</td>\n",
              "      <td>left</td>\n",
              "      <td>left_up</td>\n",
              "      <td>no</td>\n",
              "    </tr>\n",
              "    <tr>\n",
              "      <th>282</th>\n",
              "      <td>recurrence-events</td>\n",
              "      <td>30-39</td>\n",
              "      <td>premeno</td>\n",
              "      <td>20-24</td>\n",
              "      <td>0-2</td>\n",
              "      <td>no</td>\n",
              "      <td>3</td>\n",
              "      <td>left</td>\n",
              "      <td>left_up</td>\n",
              "      <td>yes</td>\n",
              "    </tr>\n",
              "    <tr>\n",
              "      <th>283</th>\n",
              "      <td>recurrence-events</td>\n",
              "      <td>60-69</td>\n",
              "      <td>ge40</td>\n",
              "      <td>20-24</td>\n",
              "      <td>0-2</td>\n",
              "      <td>no</td>\n",
              "      <td>1</td>\n",
              "      <td>right</td>\n",
              "      <td>left_up</td>\n",
              "      <td>no</td>\n",
              "    </tr>\n",
              "    <tr>\n",
              "      <th>284</th>\n",
              "      <td>recurrence-events</td>\n",
              "      <td>40-49</td>\n",
              "      <td>ge40</td>\n",
              "      <td>30-34</td>\n",
              "      <td>3-5</td>\n",
              "      <td>no</td>\n",
              "      <td>3</td>\n",
              "      <td>left</td>\n",
              "      <td>left_low</td>\n",
              "      <td>no</td>\n",
              "    </tr>\n",
              "    <tr>\n",
              "      <th>285</th>\n",
              "      <td>recurrence-events</td>\n",
              "      <td>50-59</td>\n",
              "      <td>ge40</td>\n",
              "      <td>30-34</td>\n",
              "      <td>3-5</td>\n",
              "      <td>no</td>\n",
              "      <td>3</td>\n",
              "      <td>left</td>\n",
              "      <td>left_low</td>\n",
              "      <td>no</td>\n",
              "    </tr>\n",
              "  </tbody>\n",
              "</table>\n",
              "<p>286 rows × 10 columns</p>\n",
              "</div>"
            ],
            "text/plain": [
              "                    class    age menopause  ... breast breast-quad irradiat\n",
              "0    no-recurrence-events  30-39   premeno  ...   left    left_low       no\n",
              "1    no-recurrence-events  40-49   premeno  ...  right    right_up       no\n",
              "2    no-recurrence-events  40-49   premeno  ...   left    left_low       no\n",
              "3    no-recurrence-events  60-69      ge40  ...  right     left_up       no\n",
              "4    no-recurrence-events  40-49   premeno  ...  right   right_low       no\n",
              "..                    ...    ...       ...  ...    ...         ...      ...\n",
              "281     recurrence-events  30-39   premeno  ...   left     left_up       no\n",
              "282     recurrence-events  30-39   premeno  ...   left     left_up      yes\n",
              "283     recurrence-events  60-69      ge40  ...  right     left_up       no\n",
              "284     recurrence-events  40-49      ge40  ...   left    left_low       no\n",
              "285     recurrence-events  50-59      ge40  ...   left    left_low       no\n",
              "\n",
              "[286 rows x 10 columns]"
            ]
          },
          "metadata": {},
          "execution_count": 1
        }
      ]
    },
    {
      "cell_type": "markdown",
      "source": [
        "# Data Cleaning"
      ],
      "metadata": {
        "id": "yh10wI9K81fV"
      }
    },
    {
      "cell_type": "code",
      "source": [
        "# Let's find missing values (?) and replace them with suitable aggregates\n",
        "import numpy as np\n",
        "data=data.replace('?',np.nan)\n",
        "data=data.fillna(data.mode())"
      ],
      "metadata": {
        "id": "1cXtVPoX85no"
      },
      "execution_count": 2,
      "outputs": []
    },
    {
      "cell_type": "code",
      "source": [
        "# Let's now convert all the obj columns to categorical and then make their dummies\n",
        "obj_cols=data.select_dtypes(include='object').columns\n",
        "\n",
        "for col in obj_cols:\n",
        "  # change to category type\n",
        "  cat_col=data[col].astype('category')\n",
        "  # get dummies for cat_col\n",
        "  dummy_cols= pd.get_dummies(cat_col,prefix=col)\n",
        "  # concatenate dummy_cols to data\n",
        "  data=pd.concat([data,dummy_cols],axis=1)\n",
        "  # drop original col\n",
        "  data.drop(col,axis=1,inplace=True)\n",
        "\n"
      ],
      "metadata": {
        "id": "qxHIcnPV9AEO"
      },
      "execution_count": 3,
      "outputs": []
    },
    {
      "cell_type": "code",
      "source": [
        "data"
      ],
      "metadata": {
        "colab": {
          "base_uri": "https://localhost:8080/",
          "height": 478
        },
        "id": "HP80k5vA9ELN",
        "outputId": "3340eefa-12a4-4fee-e3f9-43c583ef5577"
      },
      "execution_count": 4,
      "outputs": [
        {
          "output_type": "execute_result",
          "data": {
            "text/html": [
              "<div>\n",
              "<style scoped>\n",
              "    .dataframe tbody tr th:only-of-type {\n",
              "        vertical-align: middle;\n",
              "    }\n",
              "\n",
              "    .dataframe tbody tr th {\n",
              "        vertical-align: top;\n",
              "    }\n",
              "\n",
              "    .dataframe thead th {\n",
              "        text-align: right;\n",
              "    }\n",
              "</style>\n",
              "<table border=\"1\" class=\"dataframe\">\n",
              "  <thead>\n",
              "    <tr style=\"text-align: right;\">\n",
              "      <th></th>\n",
              "      <th>deg_malig</th>\n",
              "      <th>class_no-recurrence-events</th>\n",
              "      <th>class_recurrence-events</th>\n",
              "      <th>age_20-29</th>\n",
              "      <th>age_30-39</th>\n",
              "      <th>age_40-49</th>\n",
              "      <th>age_50-59</th>\n",
              "      <th>age_60-69</th>\n",
              "      <th>age_70-79</th>\n",
              "      <th>menopause_ge40</th>\n",
              "      <th>menopause_lt40</th>\n",
              "      <th>menopause_premeno</th>\n",
              "      <th>tumor_size_0-4</th>\n",
              "      <th>tumor_size_10-14</th>\n",
              "      <th>tumor_size_15-19</th>\n",
              "      <th>tumor_size_20-24</th>\n",
              "      <th>tumor_size_25-29</th>\n",
              "      <th>tumor_size_30-34</th>\n",
              "      <th>tumor_size_35-39</th>\n",
              "      <th>tumor_size_40-44</th>\n",
              "      <th>tumor_size_45-49</th>\n",
              "      <th>tumor_size_5-9</th>\n",
              "      <th>tumor_size_50-54</th>\n",
              "      <th>inv_nodes_0-2</th>\n",
              "      <th>inv_nodes_12-14</th>\n",
              "      <th>inv_nodes_15-17</th>\n",
              "      <th>inv_nodes_24-26</th>\n",
              "      <th>inv_nodes_3-5</th>\n",
              "      <th>inv_nodes_6-8</th>\n",
              "      <th>inv_nodes_9-11</th>\n",
              "      <th>node_caps_no</th>\n",
              "      <th>node_caps_yes</th>\n",
              "      <th>breast_left</th>\n",
              "      <th>breast_right</th>\n",
              "      <th>breast-quad_central</th>\n",
              "      <th>breast-quad_left_low</th>\n",
              "      <th>breast-quad_left_up</th>\n",
              "      <th>breast-quad_right_low</th>\n",
              "      <th>breast-quad_right_up</th>\n",
              "      <th>irradiat_no</th>\n",
              "      <th>irradiat_yes</th>\n",
              "    </tr>\n",
              "  </thead>\n",
              "  <tbody>\n",
              "    <tr>\n",
              "      <th>0</th>\n",
              "      <td>3</td>\n",
              "      <td>1</td>\n",
              "      <td>0</td>\n",
              "      <td>0</td>\n",
              "      <td>1</td>\n",
              "      <td>0</td>\n",
              "      <td>0</td>\n",
              "      <td>0</td>\n",
              "      <td>0</td>\n",
              "      <td>0</td>\n",
              "      <td>0</td>\n",
              "      <td>1</td>\n",
              "      <td>0</td>\n",
              "      <td>0</td>\n",
              "      <td>0</td>\n",
              "      <td>0</td>\n",
              "      <td>0</td>\n",
              "      <td>1</td>\n",
              "      <td>0</td>\n",
              "      <td>0</td>\n",
              "      <td>0</td>\n",
              "      <td>0</td>\n",
              "      <td>0</td>\n",
              "      <td>1</td>\n",
              "      <td>0</td>\n",
              "      <td>0</td>\n",
              "      <td>0</td>\n",
              "      <td>0</td>\n",
              "      <td>0</td>\n",
              "      <td>0</td>\n",
              "      <td>1</td>\n",
              "      <td>0</td>\n",
              "      <td>1</td>\n",
              "      <td>0</td>\n",
              "      <td>0</td>\n",
              "      <td>1</td>\n",
              "      <td>0</td>\n",
              "      <td>0</td>\n",
              "      <td>0</td>\n",
              "      <td>1</td>\n",
              "      <td>0</td>\n",
              "    </tr>\n",
              "    <tr>\n",
              "      <th>1</th>\n",
              "      <td>2</td>\n",
              "      <td>1</td>\n",
              "      <td>0</td>\n",
              "      <td>0</td>\n",
              "      <td>0</td>\n",
              "      <td>1</td>\n",
              "      <td>0</td>\n",
              "      <td>0</td>\n",
              "      <td>0</td>\n",
              "      <td>0</td>\n",
              "      <td>0</td>\n",
              "      <td>1</td>\n",
              "      <td>0</td>\n",
              "      <td>0</td>\n",
              "      <td>0</td>\n",
              "      <td>1</td>\n",
              "      <td>0</td>\n",
              "      <td>0</td>\n",
              "      <td>0</td>\n",
              "      <td>0</td>\n",
              "      <td>0</td>\n",
              "      <td>0</td>\n",
              "      <td>0</td>\n",
              "      <td>1</td>\n",
              "      <td>0</td>\n",
              "      <td>0</td>\n",
              "      <td>0</td>\n",
              "      <td>0</td>\n",
              "      <td>0</td>\n",
              "      <td>0</td>\n",
              "      <td>1</td>\n",
              "      <td>0</td>\n",
              "      <td>0</td>\n",
              "      <td>1</td>\n",
              "      <td>0</td>\n",
              "      <td>0</td>\n",
              "      <td>0</td>\n",
              "      <td>0</td>\n",
              "      <td>1</td>\n",
              "      <td>1</td>\n",
              "      <td>0</td>\n",
              "    </tr>\n",
              "    <tr>\n",
              "      <th>2</th>\n",
              "      <td>2</td>\n",
              "      <td>1</td>\n",
              "      <td>0</td>\n",
              "      <td>0</td>\n",
              "      <td>0</td>\n",
              "      <td>1</td>\n",
              "      <td>0</td>\n",
              "      <td>0</td>\n",
              "      <td>0</td>\n",
              "      <td>0</td>\n",
              "      <td>0</td>\n",
              "      <td>1</td>\n",
              "      <td>0</td>\n",
              "      <td>0</td>\n",
              "      <td>0</td>\n",
              "      <td>1</td>\n",
              "      <td>0</td>\n",
              "      <td>0</td>\n",
              "      <td>0</td>\n",
              "      <td>0</td>\n",
              "      <td>0</td>\n",
              "      <td>0</td>\n",
              "      <td>0</td>\n",
              "      <td>1</td>\n",
              "      <td>0</td>\n",
              "      <td>0</td>\n",
              "      <td>0</td>\n",
              "      <td>0</td>\n",
              "      <td>0</td>\n",
              "      <td>0</td>\n",
              "      <td>1</td>\n",
              "      <td>0</td>\n",
              "      <td>1</td>\n",
              "      <td>0</td>\n",
              "      <td>0</td>\n",
              "      <td>1</td>\n",
              "      <td>0</td>\n",
              "      <td>0</td>\n",
              "      <td>0</td>\n",
              "      <td>1</td>\n",
              "      <td>0</td>\n",
              "    </tr>\n",
              "    <tr>\n",
              "      <th>3</th>\n",
              "      <td>2</td>\n",
              "      <td>1</td>\n",
              "      <td>0</td>\n",
              "      <td>0</td>\n",
              "      <td>0</td>\n",
              "      <td>0</td>\n",
              "      <td>0</td>\n",
              "      <td>1</td>\n",
              "      <td>0</td>\n",
              "      <td>1</td>\n",
              "      <td>0</td>\n",
              "      <td>0</td>\n",
              "      <td>0</td>\n",
              "      <td>0</td>\n",
              "      <td>1</td>\n",
              "      <td>0</td>\n",
              "      <td>0</td>\n",
              "      <td>0</td>\n",
              "      <td>0</td>\n",
              "      <td>0</td>\n",
              "      <td>0</td>\n",
              "      <td>0</td>\n",
              "      <td>0</td>\n",
              "      <td>1</td>\n",
              "      <td>0</td>\n",
              "      <td>0</td>\n",
              "      <td>0</td>\n",
              "      <td>0</td>\n",
              "      <td>0</td>\n",
              "      <td>0</td>\n",
              "      <td>1</td>\n",
              "      <td>0</td>\n",
              "      <td>0</td>\n",
              "      <td>1</td>\n",
              "      <td>0</td>\n",
              "      <td>0</td>\n",
              "      <td>1</td>\n",
              "      <td>0</td>\n",
              "      <td>0</td>\n",
              "      <td>1</td>\n",
              "      <td>0</td>\n",
              "    </tr>\n",
              "    <tr>\n",
              "      <th>4</th>\n",
              "      <td>2</td>\n",
              "      <td>1</td>\n",
              "      <td>0</td>\n",
              "      <td>0</td>\n",
              "      <td>0</td>\n",
              "      <td>1</td>\n",
              "      <td>0</td>\n",
              "      <td>0</td>\n",
              "      <td>0</td>\n",
              "      <td>0</td>\n",
              "      <td>0</td>\n",
              "      <td>1</td>\n",
              "      <td>1</td>\n",
              "      <td>0</td>\n",
              "      <td>0</td>\n",
              "      <td>0</td>\n",
              "      <td>0</td>\n",
              "      <td>0</td>\n",
              "      <td>0</td>\n",
              "      <td>0</td>\n",
              "      <td>0</td>\n",
              "      <td>0</td>\n",
              "      <td>0</td>\n",
              "      <td>1</td>\n",
              "      <td>0</td>\n",
              "      <td>0</td>\n",
              "      <td>0</td>\n",
              "      <td>0</td>\n",
              "      <td>0</td>\n",
              "      <td>0</td>\n",
              "      <td>1</td>\n",
              "      <td>0</td>\n",
              "      <td>0</td>\n",
              "      <td>1</td>\n",
              "      <td>0</td>\n",
              "      <td>0</td>\n",
              "      <td>0</td>\n",
              "      <td>1</td>\n",
              "      <td>0</td>\n",
              "      <td>1</td>\n",
              "      <td>0</td>\n",
              "    </tr>\n",
              "    <tr>\n",
              "      <th>...</th>\n",
              "      <td>...</td>\n",
              "      <td>...</td>\n",
              "      <td>...</td>\n",
              "      <td>...</td>\n",
              "      <td>...</td>\n",
              "      <td>...</td>\n",
              "      <td>...</td>\n",
              "      <td>...</td>\n",
              "      <td>...</td>\n",
              "      <td>...</td>\n",
              "      <td>...</td>\n",
              "      <td>...</td>\n",
              "      <td>...</td>\n",
              "      <td>...</td>\n",
              "      <td>...</td>\n",
              "      <td>...</td>\n",
              "      <td>...</td>\n",
              "      <td>...</td>\n",
              "      <td>...</td>\n",
              "      <td>...</td>\n",
              "      <td>...</td>\n",
              "      <td>...</td>\n",
              "      <td>...</td>\n",
              "      <td>...</td>\n",
              "      <td>...</td>\n",
              "      <td>...</td>\n",
              "      <td>...</td>\n",
              "      <td>...</td>\n",
              "      <td>...</td>\n",
              "      <td>...</td>\n",
              "      <td>...</td>\n",
              "      <td>...</td>\n",
              "      <td>...</td>\n",
              "      <td>...</td>\n",
              "      <td>...</td>\n",
              "      <td>...</td>\n",
              "      <td>...</td>\n",
              "      <td>...</td>\n",
              "      <td>...</td>\n",
              "      <td>...</td>\n",
              "      <td>...</td>\n",
              "    </tr>\n",
              "    <tr>\n",
              "      <th>281</th>\n",
              "      <td>2</td>\n",
              "      <td>0</td>\n",
              "      <td>1</td>\n",
              "      <td>0</td>\n",
              "      <td>1</td>\n",
              "      <td>0</td>\n",
              "      <td>0</td>\n",
              "      <td>0</td>\n",
              "      <td>0</td>\n",
              "      <td>0</td>\n",
              "      <td>0</td>\n",
              "      <td>1</td>\n",
              "      <td>0</td>\n",
              "      <td>0</td>\n",
              "      <td>0</td>\n",
              "      <td>0</td>\n",
              "      <td>0</td>\n",
              "      <td>1</td>\n",
              "      <td>0</td>\n",
              "      <td>0</td>\n",
              "      <td>0</td>\n",
              "      <td>0</td>\n",
              "      <td>0</td>\n",
              "      <td>1</td>\n",
              "      <td>0</td>\n",
              "      <td>0</td>\n",
              "      <td>0</td>\n",
              "      <td>0</td>\n",
              "      <td>0</td>\n",
              "      <td>0</td>\n",
              "      <td>1</td>\n",
              "      <td>0</td>\n",
              "      <td>1</td>\n",
              "      <td>0</td>\n",
              "      <td>0</td>\n",
              "      <td>0</td>\n",
              "      <td>1</td>\n",
              "      <td>0</td>\n",
              "      <td>0</td>\n",
              "      <td>1</td>\n",
              "      <td>0</td>\n",
              "    </tr>\n",
              "    <tr>\n",
              "      <th>282</th>\n",
              "      <td>3</td>\n",
              "      <td>0</td>\n",
              "      <td>1</td>\n",
              "      <td>0</td>\n",
              "      <td>1</td>\n",
              "      <td>0</td>\n",
              "      <td>0</td>\n",
              "      <td>0</td>\n",
              "      <td>0</td>\n",
              "      <td>0</td>\n",
              "      <td>0</td>\n",
              "      <td>1</td>\n",
              "      <td>0</td>\n",
              "      <td>0</td>\n",
              "      <td>0</td>\n",
              "      <td>1</td>\n",
              "      <td>0</td>\n",
              "      <td>0</td>\n",
              "      <td>0</td>\n",
              "      <td>0</td>\n",
              "      <td>0</td>\n",
              "      <td>0</td>\n",
              "      <td>0</td>\n",
              "      <td>1</td>\n",
              "      <td>0</td>\n",
              "      <td>0</td>\n",
              "      <td>0</td>\n",
              "      <td>0</td>\n",
              "      <td>0</td>\n",
              "      <td>0</td>\n",
              "      <td>1</td>\n",
              "      <td>0</td>\n",
              "      <td>1</td>\n",
              "      <td>0</td>\n",
              "      <td>0</td>\n",
              "      <td>0</td>\n",
              "      <td>1</td>\n",
              "      <td>0</td>\n",
              "      <td>0</td>\n",
              "      <td>0</td>\n",
              "      <td>1</td>\n",
              "    </tr>\n",
              "    <tr>\n",
              "      <th>283</th>\n",
              "      <td>1</td>\n",
              "      <td>0</td>\n",
              "      <td>1</td>\n",
              "      <td>0</td>\n",
              "      <td>0</td>\n",
              "      <td>0</td>\n",
              "      <td>0</td>\n",
              "      <td>1</td>\n",
              "      <td>0</td>\n",
              "      <td>1</td>\n",
              "      <td>0</td>\n",
              "      <td>0</td>\n",
              "      <td>0</td>\n",
              "      <td>0</td>\n",
              "      <td>0</td>\n",
              "      <td>1</td>\n",
              "      <td>0</td>\n",
              "      <td>0</td>\n",
              "      <td>0</td>\n",
              "      <td>0</td>\n",
              "      <td>0</td>\n",
              "      <td>0</td>\n",
              "      <td>0</td>\n",
              "      <td>1</td>\n",
              "      <td>0</td>\n",
              "      <td>0</td>\n",
              "      <td>0</td>\n",
              "      <td>0</td>\n",
              "      <td>0</td>\n",
              "      <td>0</td>\n",
              "      <td>1</td>\n",
              "      <td>0</td>\n",
              "      <td>0</td>\n",
              "      <td>1</td>\n",
              "      <td>0</td>\n",
              "      <td>0</td>\n",
              "      <td>1</td>\n",
              "      <td>0</td>\n",
              "      <td>0</td>\n",
              "      <td>1</td>\n",
              "      <td>0</td>\n",
              "    </tr>\n",
              "    <tr>\n",
              "      <th>284</th>\n",
              "      <td>3</td>\n",
              "      <td>0</td>\n",
              "      <td>1</td>\n",
              "      <td>0</td>\n",
              "      <td>0</td>\n",
              "      <td>1</td>\n",
              "      <td>0</td>\n",
              "      <td>0</td>\n",
              "      <td>0</td>\n",
              "      <td>1</td>\n",
              "      <td>0</td>\n",
              "      <td>0</td>\n",
              "      <td>0</td>\n",
              "      <td>0</td>\n",
              "      <td>0</td>\n",
              "      <td>0</td>\n",
              "      <td>0</td>\n",
              "      <td>1</td>\n",
              "      <td>0</td>\n",
              "      <td>0</td>\n",
              "      <td>0</td>\n",
              "      <td>0</td>\n",
              "      <td>0</td>\n",
              "      <td>0</td>\n",
              "      <td>0</td>\n",
              "      <td>0</td>\n",
              "      <td>0</td>\n",
              "      <td>1</td>\n",
              "      <td>0</td>\n",
              "      <td>0</td>\n",
              "      <td>1</td>\n",
              "      <td>0</td>\n",
              "      <td>1</td>\n",
              "      <td>0</td>\n",
              "      <td>0</td>\n",
              "      <td>1</td>\n",
              "      <td>0</td>\n",
              "      <td>0</td>\n",
              "      <td>0</td>\n",
              "      <td>1</td>\n",
              "      <td>0</td>\n",
              "    </tr>\n",
              "    <tr>\n",
              "      <th>285</th>\n",
              "      <td>3</td>\n",
              "      <td>0</td>\n",
              "      <td>1</td>\n",
              "      <td>0</td>\n",
              "      <td>0</td>\n",
              "      <td>0</td>\n",
              "      <td>1</td>\n",
              "      <td>0</td>\n",
              "      <td>0</td>\n",
              "      <td>1</td>\n",
              "      <td>0</td>\n",
              "      <td>0</td>\n",
              "      <td>0</td>\n",
              "      <td>0</td>\n",
              "      <td>0</td>\n",
              "      <td>0</td>\n",
              "      <td>0</td>\n",
              "      <td>1</td>\n",
              "      <td>0</td>\n",
              "      <td>0</td>\n",
              "      <td>0</td>\n",
              "      <td>0</td>\n",
              "      <td>0</td>\n",
              "      <td>0</td>\n",
              "      <td>0</td>\n",
              "      <td>0</td>\n",
              "      <td>0</td>\n",
              "      <td>1</td>\n",
              "      <td>0</td>\n",
              "      <td>0</td>\n",
              "      <td>1</td>\n",
              "      <td>0</td>\n",
              "      <td>1</td>\n",
              "      <td>0</td>\n",
              "      <td>0</td>\n",
              "      <td>1</td>\n",
              "      <td>0</td>\n",
              "      <td>0</td>\n",
              "      <td>0</td>\n",
              "      <td>1</td>\n",
              "      <td>0</td>\n",
              "    </tr>\n",
              "  </tbody>\n",
              "</table>\n",
              "<p>286 rows × 41 columns</p>\n",
              "</div>"
            ],
            "text/plain": [
              "     deg_malig  class_no-recurrence-events  ...  irradiat_no  irradiat_yes\n",
              "0            3                           1  ...            1             0\n",
              "1            2                           1  ...            1             0\n",
              "2            2                           1  ...            1             0\n",
              "3            2                           1  ...            1             0\n",
              "4            2                           1  ...            1             0\n",
              "..         ...                         ...  ...          ...           ...\n",
              "281          2                           0  ...            1             0\n",
              "282          3                           0  ...            0             1\n",
              "283          1                           0  ...            1             0\n",
              "284          3                           0  ...            1             0\n",
              "285          3                           0  ...            1             0\n",
              "\n",
              "[286 rows x 41 columns]"
            ]
          },
          "metadata": {},
          "execution_count": 4
        }
      ]
    },
    {
      "cell_type": "markdown",
      "source": [
        "# Training and Testing Logistic Regression Model \n",
        "\n",
        "In this step, we'll use all the available data points to train a multi-class logistic regression model. Once trained, we'll use the same data points to test the accuracy of the model. Testing on the same dataset is a good first step to take the feel of the model. It gives us an idea about the quality of data and whether it can give us some generic correlations or not.\n"
      ],
      "metadata": {
        "id": "58LDn2M4NrXC"
      }
    },
    {
      "cell_type": "markdown",
      "source": [
        "To train our model, we will use what is called a **one-vs-all appraoch**. In the one-vs-all approach, we're essentially converting an n-class (in our case n is 3) classification problem into n binary classification problems. For our case, we'll need to train 3 models:\n",
        "\n",
        "1. A model where all patients having 3rd degree malignant breast cancer are considered Positive (1) and those with 2nd and 1st degree malignancy are considered Negative (0).\n",
        "2. A model where all patients having 2nd degree malignant breast cancer are considered Positive (1) and those with 1st and 3rd degree malignancy are considered Negative (0).\n",
        "3. A model where all patients having 1st degree malignant breast cancer are considered Positive (1) and those with 2nd and 3rd degree malignancy Negative (0)."
      ],
      "metadata": {
        "id": "XpYDk2o9wEIE"
      }
    },
    {
      "cell_type": "code",
      "source": [
        "# Let's employ one-versus-all strategy\n",
        "\n",
        "from sklearn.linear_model import LogisticRegression\n",
        "# let's get unique values in target column\n",
        "unique_deg_malig=data['deg_malig'].unique()\n",
        "unique_deg_malig.sort()\n",
        "#dropping target column to generate attributes\n",
        "attributes= data.drop('deg_malig',axis=1).columns\n",
        "\n",
        "models={}\n",
        "# lets initialize an empty df to store probability values returned by the model\n",
        "predicted_probabilities= pd.DataFrame(columns=unique_deg_malig)\n",
        "for deg_malig in unique_deg_malig:\n",
        "  model=LogisticRegression()\n",
        "  X_train= data[attributes]\n",
        "  y_train= data['deg_malig']==deg_malig\n",
        "  model.fit(X_train,y_train)\n",
        "  pred_prob= model.predict_proba(X_train)\n",
        "  predicted_probabilities[deg_malig]=pred_prob[0:,1]\n",
        "\n",
        "# let's get the index of column having highest probability as predicted label\n",
        "predicted_deg_malig=predicted_probabilities.idxmax(axis=1)\n",
        "# let's add predicted lables to original df\n",
        "data['predicted_deg_malig']=predicted_deg_malig\n",
        "# let's calculate accuracy of the model\n",
        "accuracy = (data['deg_malig']==data['predicted_deg_malig']).sum()/len(data)\n",
        "print('Accuracy:',round(accuracy*100,2),'%')"
      ],
      "metadata": {
        "colab": {
          "base_uri": "https://localhost:8080/"
        },
        "id": "gbnFOpOLNJpm",
        "outputId": "d5d6c503-d933-4ed2-970c-4ba5600b0745"
      },
      "execution_count": 5,
      "outputs": [
        {
          "output_type": "stream",
          "name": "stdout",
          "text": [
            "Accuracy: 59.79 %\n"
          ]
        }
      ]
    },
    {
      "cell_type": "markdown",
      "source": [
        "# Train/Test Validation \n",
        "As we can see, we have improved our ability to classify the extent of tumor in patients by almost a factor of 2. However, we tested on the same data we trained our model on. This creates a bias in the model.\n",
        "\n",
        "Let's solve the issue of bias by splitting our datset into separate train and test dataframes. Also, let's keep this ratio as 70/30. Doing this allows us to train our model on one part of original data and to test it on another thus helping us reduce bias.\n",
        "\n",
        "In this step, we will randomize our dataset so that we can train and test our model without having any bias. Also, we will develop 100 such random train and test sets from original data. And for each train and test set, we will:\n",
        "\n",
        "1. Train our multiclass model on the train dataset\n",
        "2. Test our model on test dataset\n",
        "3. Calculate Accuracy\n",
        "\n",
        "Finally, we will also compute average accuracy score for 100 train and test sets."
      ],
      "metadata": {
        "id": "Kdpmr35UWh5-"
      }
    },
    {
      "cell_type": "code",
      "source": [
        "accuracies=[]\n",
        "for i in range(100):\n",
        "  # Let's randomize data\n",
        "  indices=np.random.permutation(len(data))\n",
        "  data=data.iloc[indices]\n",
        "  # Let's do a 70-30 split bw train and test\n",
        "  train=data[:int(len(data)*0.70)]\n",
        "  test=data[int(len(data)*0.70):]\n",
        "  # Let's train a logistic regression model on train dataset\n",
        "  predicted_probabilities= pd.DataFrame(columns=unique_deg_malig)\n",
        "  for deg_malig in unique_deg_malig:\n",
        "    model=LogisticRegression()\n",
        "    X_train= train[attributes]\n",
        "    y_train= train['deg_malig']==deg_malig\n",
        "    model.fit(X_train,y_train)\n",
        "    predictions= model.predict_proba(test[attributes])[0:,1]\n",
        "    predicted_probabilities[deg_malig]= predictions\n",
        "\n",
        "  predicted_deg_malig= predicted_probabilities.idxmax(axis=1)\n",
        "  # rest index of series formed from test df to make it match with the series we are comparing it with\n",
        "  accuracy= (test['deg_malig'].reset_index(drop=True)==predicted_deg_malig).sum()/len(test)\n",
        "  # print('Accuracy:',round(accuracy*100,2),'%')\n",
        "  accuracies.append(accuracy*100)\n",
        "\n",
        "print('The average accuracy for 100 random train/test samples:', round((sum(accuracies)/len(accuracies)),2),'%')"
      ],
      "metadata": {
        "colab": {
          "base_uri": "https://localhost:8080/"
        },
        "id": "hr7HMXYeWwvq",
        "outputId": "71818a2a-9893-424c-81a2-fd75aa6f5182"
      },
      "execution_count": 6,
      "outputs": [
        {
          "output_type": "stream",
          "name": "stdout",
          "text": [
            "The average accuracy for 100 random train/test samples: 46.12 %\n"
          ]
        }
      ]
    },
    {
      "cell_type": "markdown",
      "source": [
        "As we can see, the accuracy of our model has dropped as we reduced bias from our model. Let's now visualize how each of the 100 random train-test combination performed in terms of accuracy."
      ],
      "metadata": {
        "id": "WV9C6plyz859"
      }
    },
    {
      "cell_type": "code",
      "source": [
        "import matplotlib.pyplot as plt\n",
        "plt.figure(figsize=(8,6))\n",
        "plt.plot(accuracies)\n",
        "plt.axhline(min(accuracies),color='red')\n",
        "plt.axhline(max(accuracies),color='green')\n",
        "plt.axhline(sum(accuracies)/len(accuracies))\n",
        "plt.ylabel('Model Accuracy (%)')\n",
        "plt.title('Model Accuracy for 100 Random Train/Test Samples',size=14)\n",
        "plt.show()"
      ],
      "metadata": {
        "colab": {
          "base_uri": "https://localhost:8080/",
          "height": 391
        },
        "id": "9fpKn0o9qwrq",
        "outputId": "56e380dd-4c53-4bf9-8b83-d9fc50264bfc"
      },
      "execution_count": 7,
      "outputs": [
        {
          "output_type": "display_data",
          "data": {
            "image/png": "[encoded data removed]",
            "text/plain": [
              "<Figure size 576x432 with 1 Axes>"
            ]
          },
          "metadata": {
            "needs_background": "light"
          }
        }
      ]
    },
    {
      "cell_type": "markdown",
      "source": [
        "From the above graph we can see that our ability to classify the extent of malignancy for a breast cancer patient has improved by a factor of 13%. This happened because instead of taking a wild guess to classify (1/3), we used data to train a multiclass logistic model which helped us predict better. "
      ],
      "metadata": {
        "id": "jsqTSKMv072u"
      }
    },
    {
      "cell_type": "markdown",
      "source": [
        "# Decision Tree"
      ],
      "metadata": {
        "id": "5dHeBPsTQIzr"
      }
    },
    {
      "cell_type": "code",
      "source": [
        "from sklearn.tree import DecisionTreeClassifier\n",
        "from sklearn.metrics import roc_auc_score"
      ],
      "metadata": {
        "id": "TFTW0LOiP56V"
      },
      "execution_count": 8,
      "outputs": []
    },
    {
      "cell_type": "code",
      "source": [
        "train_accuracies=[]\n",
        "test_accuracies=[]\n",
        "for i in range(100):\n",
        "  # Let's randomize data\n",
        "  indices=np.random.permutation(len(data))\n",
        "  data=data.iloc[indices]\n",
        "  # Let's do a 70-30 split bw train and test\n",
        "  train=data[:int(len(data)*0.70)]\n",
        "  test=data[int(len(data)*0.70):]\n",
        "  model= DecisionTreeClassifier() # we're gonna keep the tree depth default\n",
        "  model.fit(train[attributes],train['deg_malig'])\n",
        "  train_predictions=model.predict(train[attributes])\n",
        "  train_accuracy=(train_predictions==train['deg_malig']).sum()/len(train)\n",
        "  train_accuracies.append(train_accuracy)\n",
        "\n",
        "  test_predictions= model.predict(test[attributes])\n",
        "  test_accuracy=(test_predictions==test['deg_malig']).sum()/len(test)\n",
        "  test_accuracies.append(test_accuracy)\n",
        "plt.figure(figsize=(8,6))\n",
        "plt.plot(test_accuracies,label='test')\n",
        "plt.plot(train_accuracies,label='train')\n",
        "plt.axhline(np.mean(test_accuracies))\n",
        "plt.ylabel('Accuracy')\n",
        "plt.title('Decision Tree Models Performance for 100 Random Train/Test Samples')\n",
        "plt.legend()\n",
        "plt.show()\n"
      ],
      "metadata": {
        "colab": {
          "base_uri": "https://localhost:8080/",
          "height": 390
        },
        "id": "4jt5rHFIQU-h",
        "outputId": "d03402b8-48aa-4ac6-dff5-83c6675ebda1"
      },
      "execution_count": 9,
      "outputs": [
        {
          "output_type": "display_data",
          "data": {
            "image/png": "[encoded data removed]",
            "text/plain": [
              "<Figure size 576x432 with 1 Axes>"
            ]
          },
          "metadata": {
            "needs_background": "light"
          }
        }
      ]
    },
    {
      "cell_type": "markdown",
      "source": [
        "**The above graph shows that when decision tree model is applied on the data it got trained on, it performed splendidly well. Nonetheless, it did not do well on the test set. This shows that the algorithm tends to overfit the training data and fails to generalize predictions when given new information (test data).**\n",
        "\n",
        "**In comparison, the regression model did not overfit as extensively. In that case, there was smaller difference in accuracies of models when they were applied on train and test datasets.** "
      ],
      "metadata": {
        "id": "lrGxDKDGZY4J"
      }
    },
    {
      "cell_type": "markdown",
      "source": [
        "# SVM With RBF Kernel"
      ],
      "metadata": {
        "id": "G4XJOdchST1W"
      }
    },
    {
      "cell_type": "code",
      "source": [
        "from sklearn.svm import SVC\n",
        "from sklearn.metrics import plot_confusion_matrix"
      ],
      "metadata": {
        "id": "HAjSn35NSWE6"
      },
      "execution_count": 10,
      "outputs": []
    },
    {
      "cell_type": "code",
      "source": [
        "model= SVC(C=25,gamma='scale',random_state=1)\n",
        "model.fit(train[attributes],train['deg_malig'])\n",
        "predictions=model.predict(test[attributes])\n",
        "accuracy=(predictions==test['deg_malig']).sum()/len(test)\n",
        "print('SVM accuracy is:', round(accuracy*100,2), '%')"
      ],
      "metadata": {
        "colab": {
          "base_uri": "https://localhost:8080/"
        },
        "id": "cnl20G4HSpQ9",
        "outputId": "f98304b4-2703-4336-a840-568839473639"
      },
      "execution_count": 11,
      "outputs": [
        {
          "output_type": "stream",
          "name": "stdout",
          "text": [
            "SVM accuracy is: 41.86 %\n"
          ]
        }
      ]
    },
    {
      "cell_type": "code",
      "source": [
        "plot_confusion_matrix(model,test[attributes],test['deg_malig'])\n",
        "plt.show()"
      ],
      "metadata": {
        "colab": {
          "base_uri": "https://localhost:8080/",
          "height": 338
        },
        "id": "HsTPOBEeSzCi",
        "outputId": "830054e6-cf5c-4d34-c6aa-12f194a5f7f0"
      },
      "execution_count": 12,
      "outputs": [
        {
          "output_type": "stream",
          "name": "stderr",
          "text": [
            "/usr/local/lib/python3.7/dist-packages/sklearn/utils/deprecation.py:87: FutureWarning: Function plot_confusion_matrix is deprecated; Function `plot_confusion_matrix` is deprecated in 1.0 and will be removed in 1.2. Use one of the class methods: ConfusionMatrixDisplay.from_predictions or ConfusionMatrixDisplay.from_estimator.\n",
            "  warnings.warn(msg, category=FutureWarning)\n"
          ]
        },
        {
          "output_type": "display_data",
          "data": {
            "image/png": "[encoded data removed]",
            "text/plain": [
              "<Figure size 432x288 with 2 Axes>"
            ]
          },
          "metadata": {
            "needs_background": "light"
          }
        }
      ]
    },
    {
      "cell_type": "markdown",
      "source": [
        "The above confusion matrix for SVM model shows that there is little it can do to improve accuracy of predictions for us. The accuracy of predictions improved only slightly as comapred with logistic regression and deicison tree models. In fact, accuracy seems to converge in high 40s for all the models we have tried so far. Above confusion matrix also revelas that:\n",
        "\n",
        "- Out of 24 patients who had 1st degree malignant disease, SVM model correctly predicted 5 (21% accuracy)\n",
        "- Out of 33 patients who had 2nd degree malignant disease, SVM model correctly predicted 22 (67% accuracy)\n",
        "- Out of 26 patients who had 3rd degree malignant disease, SVM model correctly predicted 11 (42% accuracy)\n"
      ],
      "metadata": {
        "id": "sMDvFHEdlY8H"
      }
    },
    {
      "cell_type": "markdown",
      "source": [
        "# Random Forest"
      ],
      "metadata": {
        "id": "WI6SvKxadVfJ"
      }
    },
    {
      "cell_type": "code",
      "source": [
        "from sklearn.ensemble import RandomForestClassifier\n",
        "model=RandomForestClassifier(n_estimators=100,max_depth=40,min_samples_leaf=1,random_state=42)\n",
        "model.fit(train[attributes],train['deg_malig'])\n",
        "predictions=model.predict(test[attributes])\n",
        "accuracy=(test['deg_malig']==predictions).sum()/len(test)\n",
        "print('Random Forest accuracy:',round(accuracy*100,2), \"%\")"
      ],
      "metadata": {
        "colab": {
          "base_uri": "https://localhost:8080/"
        },
        "id": "k8AsCDXDW1Sc",
        "outputId": "7a9b9a44-0e95-4d01-9b51-a30ebaca5a00"
      },
      "execution_count": 13,
      "outputs": [
        {
          "output_type": "stream",
          "name": "stdout",
          "text": [
            "Random Forest accuracy: 48.84 %\n"
          ]
        }
      ]
    },
    {
      "cell_type": "code",
      "source": [
        "plot_confusion_matrix(model,test[attributes],test['deg_malig'])"
      ],
      "metadata": {
        "colab": {
          "base_uri": "https://localhost:8080/",
          "height": 355
        },
        "id": "9KmI4veTdcSG",
        "outputId": "904a7989-5ab8-4ace-85d3-1cbe8e6eae97"
      },
      "execution_count": 14,
      "outputs": [
        {
          "output_type": "stream",
          "name": "stderr",
          "text": [
            "/usr/local/lib/python3.7/dist-packages/sklearn/utils/deprecation.py:87: FutureWarning: Function plot_confusion_matrix is deprecated; Function `plot_confusion_matrix` is deprecated in 1.0 and will be removed in 1.2. Use one of the class methods: ConfusionMatrixDisplay.from_predictions or ConfusionMatrixDisplay.from_estimator.\n",
            "  warnings.warn(msg, category=FutureWarning)\n"
          ]
        },
        {
          "output_type": "execute_result",
          "data": {
            "text/plain": [
              "<sklearn.metrics._plot.confusion_matrix.ConfusionMatrixDisplay at 0x7f196652b390>"
            ]
          },
          "metadata": {},
          "execution_count": 14
        },
        {
          "output_type": "display_data",
          "data": {
            "image/png": "[encoded data removed]",
            "text/plain": [
              "<Figure size 432x288 with 2 Axes>"
            ]
          },
          "metadata": {
            "needs_background": "light"
          }
        }
      ]
    },
    {
      "cell_type": "markdown",
      "source": [
        "Once again, with Random Forest model, the accuracy of our predictions din't go up drastically and hovered in the range of high 40s. The above confusion matrix for random forest model shows that:\n",
        "- Out of 24 patients who had 1st degree malignant disease, SVM model correctly predicted 2 (79% accuracy)\n",
        "- Out of 33 patients who had 2nd degree malignant disease, SVM model correctly predicted 26 (67% accuracy)\n",
        "- Out of 26 patients who had 3rd degree malignant disease, SVM model correctly predicted 14 (53% accuracy)\n",
        "\n"
      ],
      "metadata": {
        "id": "sNvDzFdpm1lJ"
      }
    },
    {
      "cell_type": "markdown",
      "source": [
        "In this project, we tried 4 different ML models on our dataset to classify breast cancer patients wrt to the degree of disease malignancy. The models we trained and tested include:\n",
        "1. Logistic Regression\n",
        "2. Simple Decision Tree\n",
        "3. Support Vector Machine with RBF kernel\n",
        "4. Ensembled Decision Tree/Random Forest\n",
        "\n",
        "**The overall accuracy for all these models (with near optimal parameters) seemed to converge in high 40s range. Our models generally are as good as the data they get. And since we have tried different classification models to rule out the possibility of inherent limitations of a single model, it only makes sense to say that we acheived the best we could given the data we had.**\n",
        " \n",
        "**Moreover, it is also important to highlight that different models classify different target classes with varying accuracies. And depending upon which class we want to predict the best, we can select a model accordingly.**"
      ],
      "metadata": {
        "id": "fZiqIB7SnZtQ"
      }
    }
  ]
}