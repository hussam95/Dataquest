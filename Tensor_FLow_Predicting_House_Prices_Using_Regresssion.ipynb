{
  "nbformat": 4,
  "nbformat_minor": 0,
  "metadata": {
    "colab": {
      "name": "Tensor FLow Predicting House Prices Using Regresssion.ipynb",
      "provenance": [],
      "collapsed_sections": []
    },
    "kernelspec": {
      "name": "python3",
      "display_name": "Python 3"
    },
    "language_info": {
      "name": "python"
    }
  },
  "cells": [
    {
      "cell_type": "markdown",
      "source": [
        "# Predicting House Prices Using Regression in Tensor Flow\n",
        "\n",
        "In this project, I'll use house price [data](https://github.com/TahaSherif/Predicting-House-Prices-with-Regression-Tensorflow/blob/master/data.csv) to build, train, and test a neural network model for house price predictions.\n",
        "\n",
        "Steps inolved to acheive this goal are:\n",
        "1. Loading environment \n",
        "2. Loading Data\n",
        "3. Data Cleaning\n",
        "4. Data Normalization\n",
        "5. Building Neural Network Model\n",
        "6. Compiling Model\n",
        "7. Training Model\n",
        "8. Validating Model\n",
        "9. Visual Representation of Model's Performance"
      ],
      "metadata": {
        "id": "UwglBcRRDBrU"
      }
    },
    {
      "cell_type": "markdown",
      "source": [
        "## Loading Environment"
      ],
      "metadata": {
        "id": "UxgP12AS2ViB"
      }
    },
    {
      "cell_type": "code",
      "execution_count": 1,
      "metadata": {
        "id": "d_n-Xr2h22xH",
        "colab": {
          "base_uri": "https://localhost:8080/"
        },
        "outputId": "33266813-89a7-46f1-b64a-924a2ff3f3b5"
      },
      "outputs": [
        {
          "output_type": "stream",
          "name": "stdout",
          "text": [
            "Python Version: 3.7.12\n",
            "Tensor Flow Version: 2.7.0\n",
            "Pandas Version: 1.1.5\n",
            "Numpy  Version: 1.19.5\n",
            "Scikit-learn Version: 1.0.1\n"
          ]
        }
      ],
      "source": [
        "from platform import python_version\n",
        "import pandas as pd\n",
        "import tensorflow as tf\n",
        "import matplotlib.pyplot as plt\n",
        "import numpy as np\n",
        "import sklearn\n",
        "from sklearn.model_selection import train_test_split\n",
        "from tensorflow.keras.models import Sequential\n",
        "from tensorflow.keras.layers import Dense, Dropout\n",
        "from tensorflow.keras.callbacks import EarlyStopping, LambdaCallback\n",
        "%matplotlib inline\n",
        "print(\"Python Version:\", python_version())\n",
        "print(\"Tensor Flow Version:\", tf.__version__)\n",
        "print(\"Pandas Version:\", pd.__version__)\n",
        "print(\"Numpy  Version:\", np.__version__)\n",
        "print(\"Scikit-learn Version:\", sklearn.__version__)\n"
      ]
    },
    {
      "cell_type": "markdown",
      "source": [
        "## Loading, Cleaning, and Normalizing the Data\n",
        "\n",
        "The [dataset](https://github.com/TahaSherif/Predicting-House-Prices-with-Regression-Tensorflow/blob/master/data.csv) used in this project contains 7 feature columns:\n",
        "- serial\n",
        "- date\n",
        "- age (years bw construction and date of data collection)\n",
        "- distance (from nearby urban center)\n",
        "- stores\n",
        "- latitude\n",
        "- longitude\n"
      ],
      "metadata": {
        "id": "fnC0bCr-2hZY"
      }
    },
    {
      "cell_type": "code",
      "source": [
        "column_names = ['serial', 'date', 'age', 'distance', 'stores', 'latitude', 'longitude', 'price']\n",
        "data= pd.read_csv('data.csv',names=column_names)\n",
        "data.head()"
      ],
      "metadata": {
        "colab": {
          "base_uri": "https://localhost:8080/",
          "height": 206
        },
        "id": "xaZocJYe3bRP",
        "outputId": "26479fcb-1bad-44f4-d5f0-51613fd75fe5"
      },
      "execution_count": 2,
      "outputs": [
        {
          "output_type": "execute_result",
          "data": {
            "text/html": [
              "\n",
              "  <div id=\"df-0197639f-31c2-4ceb-8699-8116c4f8e96d\">\n",
              "    <div class=\"colab-df-container\">\n",
              "      <div>\n",
              "<style scoped>\n",
              "    .dataframe tbody tr th:only-of-type {\n",
              "        vertical-align: middle;\n",
              "    }\n",
              "\n",
              "    .dataframe tbody tr th {\n",
              "        vertical-align: top;\n",
              "    }\n",
              "\n",
              "    .dataframe thead th {\n",
              "        text-align: right;\n",
              "    }\n",
              "</style>\n",
              "<table border=\"1\" class=\"dataframe\">\n",
              "  <thead>\n",
              "    <tr style=\"text-align: right;\">\n",
              "      <th></th>\n",
              "      <th>serial</th>\n",
              "      <th>date</th>\n",
              "      <th>age</th>\n",
              "      <th>distance</th>\n",
              "      <th>stores</th>\n",
              "      <th>latitude</th>\n",
              "      <th>longitude</th>\n",
              "      <th>price</th>\n",
              "    </tr>\n",
              "  </thead>\n",
              "  <tbody>\n",
              "    <tr>\n",
              "      <th>0</th>\n",
              "      <td>0</td>\n",
              "      <td>2009</td>\n",
              "      <td>21</td>\n",
              "      <td>9</td>\n",
              "      <td>6</td>\n",
              "      <td>84</td>\n",
              "      <td>121</td>\n",
              "      <td>14264</td>\n",
              "    </tr>\n",
              "    <tr>\n",
              "      <th>1</th>\n",
              "      <td>1</td>\n",
              "      <td>2007</td>\n",
              "      <td>4</td>\n",
              "      <td>2</td>\n",
              "      <td>3</td>\n",
              "      <td>86</td>\n",
              "      <td>121</td>\n",
              "      <td>12032</td>\n",
              "    </tr>\n",
              "    <tr>\n",
              "      <th>2</th>\n",
              "      <td>2</td>\n",
              "      <td>2016</td>\n",
              "      <td>18</td>\n",
              "      <td>3</td>\n",
              "      <td>7</td>\n",
              "      <td>90</td>\n",
              "      <td>120</td>\n",
              "      <td>13560</td>\n",
              "    </tr>\n",
              "    <tr>\n",
              "      <th>3</th>\n",
              "      <td>3</td>\n",
              "      <td>2002</td>\n",
              "      <td>13</td>\n",
              "      <td>2</td>\n",
              "      <td>2</td>\n",
              "      <td>80</td>\n",
              "      <td>128</td>\n",
              "      <td>12029</td>\n",
              "    </tr>\n",
              "    <tr>\n",
              "      <th>4</th>\n",
              "      <td>4</td>\n",
              "      <td>2014</td>\n",
              "      <td>25</td>\n",
              "      <td>5</td>\n",
              "      <td>8</td>\n",
              "      <td>81</td>\n",
              "      <td>122</td>\n",
              "      <td>14157</td>\n",
              "    </tr>\n",
              "  </tbody>\n",
              "</table>\n",
              "</div>\n",
              "      <button class=\"colab-df-convert\" onclick=\"convertToInteractive('df-0197639f-31c2-4ceb-8699-8116c4f8e96d')\"\n",
              "              title=\"Convert this dataframe to an interactive table.\"\n",
              "              style=\"display:none;\">\n",
              "        \n",
              "  <svg xmlns=\"http://www.w3.org/2000/svg\" height=\"24px\"viewBox=\"0 0 24 24\"\n",
              "       width=\"24px\">\n",
              "    <path d=\"M0 0h24v24H0V0z\" fill=\"none\"/>\n",
              "    <path d=\"M18.56 5.44l.94 2.06.94-2.06 2.06-.94-2.06-.94-.94-2.06-.94 2.06-2.06.94zm-11 1L8.5 8.5l.94-2.06 2.06-.94-2.06-.94L8.5 2.5l-.94 2.06-2.06.94zm10 10l.94 2.06.94-2.06 2.06-.94-2.06-.94-.94-2.06-.94 2.06-2.06.94z\"/><path d=\"M17.41 7.96l-1.37-1.37c-.4-.4-.92-.59-1.43-.59-.52 0-1.04.2-1.43.59L10.3 9.45l-7.72 7.72c-.78.78-.78 2.05 0 2.83L4 21.41c.39.39.9.59 1.41.59.51 0 1.02-.2 1.41-.59l7.78-7.78 2.81-2.81c.8-.78.8-2.07 0-2.86zM5.41 20L4 18.59l7.72-7.72 1.47 1.35L5.41 20z\"/>\n",
              "  </svg>\n",
              "      </button>\n",
              "      \n",
              "  <style>\n",
              "    .colab-df-container {\n",
              "      display:flex;\n",
              "      flex-wrap:wrap;\n",
              "      gap: 12px;\n",
              "    }\n",
              "\n",
              "    .colab-df-convert {\n",
              "      background-color: #E8F0FE;\n",
              "      border: none;\n",
              "      border-radius: 50%;\n",
              "      cursor: pointer;\n",
              "      display: none;\n",
              "      fill: #1967D2;\n",
              "      height: 32px;\n",
              "      padding: 0 0 0 0;\n",
              "      width: 32px;\n",
              "    }\n",
              "\n",
              "    .colab-df-convert:hover {\n",
              "      background-color: #E2EBFA;\n",
              "      box-shadow: 0px 1px 2px rgba(60, 64, 67, 0.3), 0px 1px 3px 1px rgba(60, 64, 67, 0.15);\n",
              "      fill: #174EA6;\n",
              "    }\n",
              "\n",
              "    [theme=dark] .colab-df-convert {\n",
              "      background-color: #3B4455;\n",
              "      fill: #D2E3FC;\n",
              "    }\n",
              "\n",
              "    [theme=dark] .colab-df-convert:hover {\n",
              "      background-color: #434B5C;\n",
              "      box-shadow: 0px 1px 3px 1px rgba(0, 0, 0, 0.15);\n",
              "      filter: drop-shadow(0px 1px 2px rgba(0, 0, 0, 0.3));\n",
              "      fill: #FFFFFF;\n",
              "    }\n",
              "  </style>\n",
              "\n",
              "      <script>\n",
              "        const buttonEl =\n",
              "          document.querySelector('#df-0197639f-31c2-4ceb-8699-8116c4f8e96d button.colab-df-convert');\n",
              "        buttonEl.style.display =\n",
              "          google.colab.kernel.accessAllowed ? 'block' : 'none';\n",
              "\n",
              "        async function convertToInteractive(key) {\n",
              "          const element = document.querySelector('#df-0197639f-31c2-4ceb-8699-8116c4f8e96d');\n",
              "          const dataTable =\n",
              "            await google.colab.kernel.invokeFunction('convertToInteractive',\n",
              "                                                     [key], {});\n",
              "          if (!dataTable) return;\n",
              "\n",
              "          const docLinkHtml = 'Like what you see? Visit the ' +\n",
              "            '<a target=\"_blank\" href=https://colab.research.google.com/notebooks/data_table.ipynb>data table notebook</a>'\n",
              "            + ' to learn more about interactive tables.';\n",
              "          element.innerHTML = '';\n",
              "          dataTable['output_type'] = 'display_data';\n",
              "          await google.colab.output.renderOutput(dataTable, element);\n",
              "          const docLink = document.createElement('div');\n",
              "          docLink.innerHTML = docLinkHtml;\n",
              "          element.appendChild(docLink);\n",
              "        }\n",
              "      </script>\n",
              "    </div>\n",
              "  </div>\n",
              "  "
            ],
            "text/plain": [
              "   serial  date  age  distance  stores  latitude  longitude  price\n",
              "0       0  2009   21         9       6        84        121  14264\n",
              "1       1  2007    4         2       3        86        121  12032\n",
              "2       2  2016   18         3       7        90        120  13560\n",
              "3       3  2002   13         2       2        80        128  12029\n",
              "4       4  2014   25         5       8        81        122  14157"
            ]
          },
          "metadata": {},
          "execution_count": 2
        }
      ]
    },
    {
      "cell_type": "code",
      "source": [
        "data.describe()"
      ],
      "metadata": {
        "colab": {
          "base_uri": "https://localhost:8080/",
          "height": 300
        },
        "id": "Wi4Ad0MS4Yof",
        "outputId": "1e1dd50f-24fc-4197-9737-8be9fcddf7e4"
      },
      "execution_count": 3,
      "outputs": [
        {
          "output_type": "execute_result",
          "data": {
            "text/html": [
              "\n",
              "  <div id=\"df-e5f1349d-56fe-4324-b4e4-4ee6afcecaf5\">\n",
              "    <div class=\"colab-df-container\">\n",
              "      <div>\n",
              "<style scoped>\n",
              "    .dataframe tbody tr th:only-of-type {\n",
              "        vertical-align: middle;\n",
              "    }\n",
              "\n",
              "    .dataframe tbody tr th {\n",
              "        vertical-align: top;\n",
              "    }\n",
              "\n",
              "    .dataframe thead th {\n",
              "        text-align: right;\n",
              "    }\n",
              "</style>\n",
              "<table border=\"1\" class=\"dataframe\">\n",
              "  <thead>\n",
              "    <tr style=\"text-align: right;\">\n",
              "      <th></th>\n",
              "      <th>serial</th>\n",
              "      <th>date</th>\n",
              "      <th>age</th>\n",
              "      <th>distance</th>\n",
              "      <th>stores</th>\n",
              "      <th>latitude</th>\n",
              "      <th>longitude</th>\n",
              "      <th>price</th>\n",
              "    </tr>\n",
              "  </thead>\n",
              "  <tbody>\n",
              "    <tr>\n",
              "      <th>count</th>\n",
              "      <td>5000.000000</td>\n",
              "      <td>5000.000000</td>\n",
              "      <td>5000.000000</td>\n",
              "      <td>5000.000000</td>\n",
              "      <td>5000.000000</td>\n",
              "      <td>5000.00000</td>\n",
              "      <td>5000.000000</td>\n",
              "      <td>5000.000000</td>\n",
              "    </tr>\n",
              "    <tr>\n",
              "      <th>mean</th>\n",
              "      <td>2499.500000</td>\n",
              "      <td>2008.912800</td>\n",
              "      <td>18.945000</td>\n",
              "      <td>4.977800</td>\n",
              "      <td>4.915000</td>\n",
              "      <td>84.97140</td>\n",
              "      <td>124.994200</td>\n",
              "      <td>13906.638600</td>\n",
              "    </tr>\n",
              "    <tr>\n",
              "      <th>std</th>\n",
              "      <td>1443.520003</td>\n",
              "      <td>5.457578</td>\n",
              "      <td>11.329539</td>\n",
              "      <td>3.199837</td>\n",
              "      <td>3.142889</td>\n",
              "      <td>3.16199</td>\n",
              "      <td>3.167992</td>\n",
              "      <td>1020.774876</td>\n",
              "    </tr>\n",
              "    <tr>\n",
              "      <th>min</th>\n",
              "      <td>0.000000</td>\n",
              "      <td>2000.000000</td>\n",
              "      <td>0.000000</td>\n",
              "      <td>0.000000</td>\n",
              "      <td>0.000000</td>\n",
              "      <td>80.00000</td>\n",
              "      <td>120.000000</td>\n",
              "      <td>11263.000000</td>\n",
              "    </tr>\n",
              "    <tr>\n",
              "      <th>25%</th>\n",
              "      <td>1249.750000</td>\n",
              "      <td>2004.000000</td>\n",
              "      <td>9.000000</td>\n",
              "      <td>2.000000</td>\n",
              "      <td>2.000000</td>\n",
              "      <td>82.00000</td>\n",
              "      <td>122.000000</td>\n",
              "      <td>13197.750000</td>\n",
              "    </tr>\n",
              "    <tr>\n",
              "      <th>50%</th>\n",
              "      <td>2499.500000</td>\n",
              "      <td>2009.000000</td>\n",
              "      <td>19.000000</td>\n",
              "      <td>5.000000</td>\n",
              "      <td>5.000000</td>\n",
              "      <td>85.00000</td>\n",
              "      <td>125.000000</td>\n",
              "      <td>13893.500000</td>\n",
              "    </tr>\n",
              "    <tr>\n",
              "      <th>75%</th>\n",
              "      <td>3749.250000</td>\n",
              "      <td>2014.000000</td>\n",
              "      <td>29.000000</td>\n",
              "      <td>8.000000</td>\n",
              "      <td>8.000000</td>\n",
              "      <td>88.00000</td>\n",
              "      <td>128.000000</td>\n",
              "      <td>14614.000000</td>\n",
              "    </tr>\n",
              "    <tr>\n",
              "      <th>max</th>\n",
              "      <td>4999.000000</td>\n",
              "      <td>2018.000000</td>\n",
              "      <td>38.000000</td>\n",
              "      <td>10.000000</td>\n",
              "      <td>10.000000</td>\n",
              "      <td>90.00000</td>\n",
              "      <td>130.000000</td>\n",
              "      <td>16964.000000</td>\n",
              "    </tr>\n",
              "  </tbody>\n",
              "</table>\n",
              "</div>\n",
              "      <button class=\"colab-df-convert\" onclick=\"convertToInteractive('df-e5f1349d-56fe-4324-b4e4-4ee6afcecaf5')\"\n",
              "              title=\"Convert this dataframe to an interactive table.\"\n",
              "              style=\"display:none;\">\n",
              "        \n",
              "  <svg xmlns=\"http://www.w3.org/2000/svg\" height=\"24px\"viewBox=\"0 0 24 24\"\n",
              "       width=\"24px\">\n",
              "    <path d=\"M0 0h24v24H0V0z\" fill=\"none\"/>\n",
              "    <path d=\"M18.56 5.44l.94 2.06.94-2.06 2.06-.94-2.06-.94-.94-2.06-.94 2.06-2.06.94zm-11 1L8.5 8.5l.94-2.06 2.06-.94-2.06-.94L8.5 2.5l-.94 2.06-2.06.94zm10 10l.94 2.06.94-2.06 2.06-.94-2.06-.94-.94-2.06-.94 2.06-2.06.94z\"/><path d=\"M17.41 7.96l-1.37-1.37c-.4-.4-.92-.59-1.43-.59-.52 0-1.04.2-1.43.59L10.3 9.45l-7.72 7.72c-.78.78-.78 2.05 0 2.83L4 21.41c.39.39.9.59 1.41.59.51 0 1.02-.2 1.41-.59l7.78-7.78 2.81-2.81c.8-.78.8-2.07 0-2.86zM5.41 20L4 18.59l7.72-7.72 1.47 1.35L5.41 20z\"/>\n",
              "  </svg>\n",
              "      </button>\n",
              "      \n",
              "  <style>\n",
              "    .colab-df-container {\n",
              "      display:flex;\n",
              "      flex-wrap:wrap;\n",
              "      gap: 12px;\n",
              "    }\n",
              "\n",
              "    .colab-df-convert {\n",
              "      background-color: #E8F0FE;\n",
              "      border: none;\n",
              "      border-radius: 50%;\n",
              "      cursor: pointer;\n",
              "      display: none;\n",
              "      fill: #1967D2;\n",
              "      height: 32px;\n",
              "      padding: 0 0 0 0;\n",
              "      width: 32px;\n",
              "    }\n",
              "\n",
              "    .colab-df-convert:hover {\n",
              "      background-color: #E2EBFA;\n",
              "      box-shadow: 0px 1px 2px rgba(60, 64, 67, 0.3), 0px 1px 3px 1px rgba(60, 64, 67, 0.15);\n",
              "      fill: #174EA6;\n",
              "    }\n",
              "\n",
              "    [theme=dark] .colab-df-convert {\n",
              "      background-color: #3B4455;\n",
              "      fill: #D2E3FC;\n",
              "    }\n",
              "\n",
              "    [theme=dark] .colab-df-convert:hover {\n",
              "      background-color: #434B5C;\n",
              "      box-shadow: 0px 1px 3px 1px rgba(0, 0, 0, 0.15);\n",
              "      filter: drop-shadow(0px 1px 2px rgba(0, 0, 0, 0.3));\n",
              "      fill: #FFFFFF;\n",
              "    }\n",
              "  </style>\n",
              "\n",
              "      <script>\n",
              "        const buttonEl =\n",
              "          document.querySelector('#df-e5f1349d-56fe-4324-b4e4-4ee6afcecaf5 button.colab-df-convert');\n",
              "        buttonEl.style.display =\n",
              "          google.colab.kernel.accessAllowed ? 'block' : 'none';\n",
              "\n",
              "        async function convertToInteractive(key) {\n",
              "          const element = document.querySelector('#df-e5f1349d-56fe-4324-b4e4-4ee6afcecaf5');\n",
              "          const dataTable =\n",
              "            await google.colab.kernel.invokeFunction('convertToInteractive',\n",
              "                                                     [key], {});\n",
              "          if (!dataTable) return;\n",
              "\n",
              "          const docLinkHtml = 'Like what you see? Visit the ' +\n",
              "            '<a target=\"_blank\" href=https://colab.research.google.com/notebooks/data_table.ipynb>data table notebook</a>'\n",
              "            + ' to learn more about interactive tables.';\n",
              "          element.innerHTML = '';\n",
              "          dataTable['output_type'] = 'display_data';\n",
              "          await google.colab.output.renderOutput(dataTable, element);\n",
              "          const docLink = document.createElement('div');\n",
              "          docLink.innerHTML = docLinkHtml;\n",
              "          element.appendChild(docLink);\n",
              "        }\n",
              "      </script>\n",
              "    </div>\n",
              "  </div>\n",
              "  "
            ],
            "text/plain": [
              "            serial         date  ...    longitude         price\n",
              "count  5000.000000  5000.000000  ...  5000.000000   5000.000000\n",
              "mean   2499.500000  2008.912800  ...   124.994200  13906.638600\n",
              "std    1443.520003     5.457578  ...     3.167992   1020.774876\n",
              "min       0.000000  2000.000000  ...   120.000000  11263.000000\n",
              "25%    1249.750000  2004.000000  ...   122.000000  13197.750000\n",
              "50%    2499.500000  2009.000000  ...   125.000000  13893.500000\n",
              "75%    3749.250000  2014.000000  ...   128.000000  14614.000000\n",
              "max    4999.000000  2018.000000  ...   130.000000  16964.000000\n",
              "\n",
              "[8 rows x 8 columns]"
            ]
          },
          "metadata": {},
          "execution_count": 3
        }
      ]
    },
    {
      "cell_type": "code",
      "source": [
        "# Let's check if the dataset has any missing values\n",
        "data.isnull().sum()"
      ],
      "metadata": {
        "colab": {
          "base_uri": "https://localhost:8080/"
        },
        "id": "MNqg327n4wdA",
        "outputId": "7593bae4-3d14-4f14-d280-ee994ea9e8f5"
      },
      "execution_count": 4,
      "outputs": [
        {
          "output_type": "execute_result",
          "data": {
            "text/plain": [
              "serial       0\n",
              "date         0\n",
              "age          0\n",
              "distance     0\n",
              "stores       0\n",
              "latitude     0\n",
              "longitude    0\n",
              "price        0\n",
              "dtype: int64"
            ]
          },
          "metadata": {},
          "execution_count": 4
        }
      ]
    },
    {
      "cell_type": "code",
      "source": [
        "# Let's drop the label and any useless column to define our feature space|\n",
        "features= data.drop([\"price\",\"serial\"],axis=1)\n",
        "features.head()"
      ],
      "metadata": {
        "colab": {
          "base_uri": "https://localhost:8080/",
          "height": 206
        },
        "id": "bICjU75RCuFJ",
        "outputId": "736b1690-ad4d-4031-9786-481993c41cd5"
      },
      "execution_count": 5,
      "outputs": [
        {
          "output_type": "execute_result",
          "data": {
            "text/html": [
              "\n",
              "  <div id=\"df-72429530-6731-46c8-a9c8-0a001d60b317\">\n",
              "    <div class=\"colab-df-container\">\n",
              "      <div>\n",
              "<style scoped>\n",
              "    .dataframe tbody tr th:only-of-type {\n",
              "        vertical-align: middle;\n",
              "    }\n",
              "\n",
              "    .dataframe tbody tr th {\n",
              "        vertical-align: top;\n",
              "    }\n",
              "\n",
              "    .dataframe thead th {\n",
              "        text-align: right;\n",
              "    }\n",
              "</style>\n",
              "<table border=\"1\" class=\"dataframe\">\n",
              "  <thead>\n",
              "    <tr style=\"text-align: right;\">\n",
              "      <th></th>\n",
              "      <th>date</th>\n",
              "      <th>age</th>\n",
              "      <th>distance</th>\n",
              "      <th>stores</th>\n",
              "      <th>latitude</th>\n",
              "      <th>longitude</th>\n",
              "    </tr>\n",
              "  </thead>\n",
              "  <tbody>\n",
              "    <tr>\n",
              "      <th>0</th>\n",
              "      <td>2009</td>\n",
              "      <td>21</td>\n",
              "      <td>9</td>\n",
              "      <td>6</td>\n",
              "      <td>84</td>\n",
              "      <td>121</td>\n",
              "    </tr>\n",
              "    <tr>\n",
              "      <th>1</th>\n",
              "      <td>2007</td>\n",
              "      <td>4</td>\n",
              "      <td>2</td>\n",
              "      <td>3</td>\n",
              "      <td>86</td>\n",
              "      <td>121</td>\n",
              "    </tr>\n",
              "    <tr>\n",
              "      <th>2</th>\n",
              "      <td>2016</td>\n",
              "      <td>18</td>\n",
              "      <td>3</td>\n",
              "      <td>7</td>\n",
              "      <td>90</td>\n",
              "      <td>120</td>\n",
              "    </tr>\n",
              "    <tr>\n",
              "      <th>3</th>\n",
              "      <td>2002</td>\n",
              "      <td>13</td>\n",
              "      <td>2</td>\n",
              "      <td>2</td>\n",
              "      <td>80</td>\n",
              "      <td>128</td>\n",
              "    </tr>\n",
              "    <tr>\n",
              "      <th>4</th>\n",
              "      <td>2014</td>\n",
              "      <td>25</td>\n",
              "      <td>5</td>\n",
              "      <td>8</td>\n",
              "      <td>81</td>\n",
              "      <td>122</td>\n",
              "    </tr>\n",
              "  </tbody>\n",
              "</table>\n",
              "</div>\n",
              "      <button class=\"colab-df-convert\" onclick=\"convertToInteractive('df-72429530-6731-46c8-a9c8-0a001d60b317')\"\n",
              "              title=\"Convert this dataframe to an interactive table.\"\n",
              "              style=\"display:none;\">\n",
              "        \n",
              "  <svg xmlns=\"http://www.w3.org/2000/svg\" height=\"24px\"viewBox=\"0 0 24 24\"\n",
              "       width=\"24px\">\n",
              "    <path d=\"M0 0h24v24H0V0z\" fill=\"none\"/>\n",
              "    <path d=\"M18.56 5.44l.94 2.06.94-2.06 2.06-.94-2.06-.94-.94-2.06-.94 2.06-2.06.94zm-11 1L8.5 8.5l.94-2.06 2.06-.94-2.06-.94L8.5 2.5l-.94 2.06-2.06.94zm10 10l.94 2.06.94-2.06 2.06-.94-2.06-.94-.94-2.06-.94 2.06-2.06.94z\"/><path d=\"M17.41 7.96l-1.37-1.37c-.4-.4-.92-.59-1.43-.59-.52 0-1.04.2-1.43.59L10.3 9.45l-7.72 7.72c-.78.78-.78 2.05 0 2.83L4 21.41c.39.39.9.59 1.41.59.51 0 1.02-.2 1.41-.59l7.78-7.78 2.81-2.81c.8-.78.8-2.07 0-2.86zM5.41 20L4 18.59l7.72-7.72 1.47 1.35L5.41 20z\"/>\n",
              "  </svg>\n",
              "      </button>\n",
              "      \n",
              "  <style>\n",
              "    .colab-df-container {\n",
              "      display:flex;\n",
              "      flex-wrap:wrap;\n",
              "      gap: 12px;\n",
              "    }\n",
              "\n",
              "    .colab-df-convert {\n",
              "      background-color: #E8F0FE;\n",
              "      border: none;\n",
              "      border-radius: 50%;\n",
              "      cursor: pointer;\n",
              "      display: none;\n",
              "      fill: #1967D2;\n",
              "      height: 32px;\n",
              "      padding: 0 0 0 0;\n",
              "      width: 32px;\n",
              "    }\n",
              "\n",
              "    .colab-df-convert:hover {\n",
              "      background-color: #E2EBFA;\n",
              "      box-shadow: 0px 1px 2px rgba(60, 64, 67, 0.3), 0px 1px 3px 1px rgba(60, 64, 67, 0.15);\n",
              "      fill: #174EA6;\n",
              "    }\n",
              "\n",
              "    [theme=dark] .colab-df-convert {\n",
              "      background-color: #3B4455;\n",
              "      fill: #D2E3FC;\n",
              "    }\n",
              "\n",
              "    [theme=dark] .colab-df-convert:hover {\n",
              "      background-color: #434B5C;\n",
              "      box-shadow: 0px 1px 3px 1px rgba(0, 0, 0, 0.15);\n",
              "      filter: drop-shadow(0px 1px 2px rgba(0, 0, 0, 0.3));\n",
              "      fill: #FFFFFF;\n",
              "    }\n",
              "  </style>\n",
              "\n",
              "      <script>\n",
              "        const buttonEl =\n",
              "          document.querySelector('#df-72429530-6731-46c8-a9c8-0a001d60b317 button.colab-df-convert');\n",
              "        buttonEl.style.display =\n",
              "          google.colab.kernel.accessAllowed ? 'block' : 'none';\n",
              "\n",
              "        async function convertToInteractive(key) {\n",
              "          const element = document.querySelector('#df-72429530-6731-46c8-a9c8-0a001d60b317');\n",
              "          const dataTable =\n",
              "            await google.colab.kernel.invokeFunction('convertToInteractive',\n",
              "                                                     [key], {});\n",
              "          if (!dataTable) return;\n",
              "\n",
              "          const docLinkHtml = 'Like what you see? Visit the ' +\n",
              "            '<a target=\"_blank\" href=https://colab.research.google.com/notebooks/data_table.ipynb>data table notebook</a>'\n",
              "            + ' to learn more about interactive tables.';\n",
              "          element.innerHTML = '';\n",
              "          dataTable['output_type'] = 'display_data';\n",
              "          await google.colab.output.renderOutput(dataTable, element);\n",
              "          const docLink = document.createElement('div');\n",
              "          docLink.innerHTML = docLinkHtml;\n",
              "          element.appendChild(docLink);\n",
              "        }\n",
              "      </script>\n",
              "    </div>\n",
              "  </div>\n",
              "  "
            ],
            "text/plain": [
              "   date  age  distance  stores  latitude  longitude\n",
              "0  2009   21         9       6        84        121\n",
              "1  2007    4         2       3        86        121\n",
              "2  2016   18         3       7        90        120\n",
              "3  2002   13         2       2        80        128\n",
              "4  2014   25         5       8        81        122"
            ]
          },
          "metadata": {},
          "execution_count": 5
        }
      ]
    },
    {
      "cell_type": "markdown",
      "source": [
        "Let's normalize our feature space. This helps us reduce the number of iterations our optimizer function needs to minimize the defined loss function.\n"
      ],
      "metadata": {
        "id": "T6krf5H440tA"
      }
    },
    {
      "cell_type": "code",
      "source": [
        "# Let's normalize our feature space. This helps reducing the number of iterations our optimizer function needs to minimize the loss\n",
        "normalized_features=(features-features.mean())/features.std()\n",
        "normalized_features.head()"
      ],
      "metadata": {
        "colab": {
          "base_uri": "https://localhost:8080/",
          "height": 206
        },
        "id": "LHdtGm21DFcA",
        "outputId": "42bf8b3f-d058-417e-bacf-728661fffcda"
      },
      "execution_count": 6,
      "outputs": [
        {
          "output_type": "execute_result",
          "data": {
            "text/html": [
              "\n",
              "  <div id=\"df-3953d471-747e-4bca-9a07-4a9ff67f9e36\">\n",
              "    <div class=\"colab-df-container\">\n",
              "      <div>\n",
              "<style scoped>\n",
              "    .dataframe tbody tr th:only-of-type {\n",
              "        vertical-align: middle;\n",
              "    }\n",
              "\n",
              "    .dataframe tbody tr th {\n",
              "        vertical-align: top;\n",
              "    }\n",
              "\n",
              "    .dataframe thead th {\n",
              "        text-align: right;\n",
              "    }\n",
              "</style>\n",
              "<table border=\"1\" class=\"dataframe\">\n",
              "  <thead>\n",
              "    <tr style=\"text-align: right;\">\n",
              "      <th></th>\n",
              "      <th>date</th>\n",
              "      <th>age</th>\n",
              "      <th>distance</th>\n",
              "      <th>stores</th>\n",
              "      <th>latitude</th>\n",
              "      <th>longitude</th>\n",
              "    </tr>\n",
              "  </thead>\n",
              "  <tbody>\n",
              "    <tr>\n",
              "      <th>0</th>\n",
              "      <td>0.015978</td>\n",
              "      <td>0.181384</td>\n",
              "      <td>1.257002</td>\n",
              "      <td>0.345224</td>\n",
              "      <td>-0.307212</td>\n",
              "      <td>-1.260799</td>\n",
              "    </tr>\n",
              "    <tr>\n",
              "      <th>1</th>\n",
              "      <td>-0.350485</td>\n",
              "      <td>-1.319118</td>\n",
              "      <td>-0.930610</td>\n",
              "      <td>-0.609312</td>\n",
              "      <td>0.325301</td>\n",
              "      <td>-1.260799</td>\n",
              "    </tr>\n",
              "    <tr>\n",
              "      <th>2</th>\n",
              "      <td>1.298598</td>\n",
              "      <td>-0.083410</td>\n",
              "      <td>-0.618094</td>\n",
              "      <td>0.663402</td>\n",
              "      <td>1.590328</td>\n",
              "      <td>-1.576456</td>\n",
              "    </tr>\n",
              "    <tr>\n",
              "      <th>3</th>\n",
              "      <td>-1.266643</td>\n",
              "      <td>-0.524735</td>\n",
              "      <td>-0.930610</td>\n",
              "      <td>-0.927491</td>\n",
              "      <td>-1.572238</td>\n",
              "      <td>0.948803</td>\n",
              "    </tr>\n",
              "    <tr>\n",
              "      <th>4</th>\n",
              "      <td>0.932135</td>\n",
              "      <td>0.534444</td>\n",
              "      <td>0.006938</td>\n",
              "      <td>0.981581</td>\n",
              "      <td>-1.255981</td>\n",
              "      <td>-0.945141</td>\n",
              "    </tr>\n",
              "  </tbody>\n",
              "</table>\n",
              "</div>\n",
              "      <button class=\"colab-df-convert\" onclick=\"convertToInteractive('df-3953d471-747e-4bca-9a07-4a9ff67f9e36')\"\n",
              "              title=\"Convert this dataframe to an interactive table.\"\n",
              "              style=\"display:none;\">\n",
              "        \n",
              "  <svg xmlns=\"http://www.w3.org/2000/svg\" height=\"24px\"viewBox=\"0 0 24 24\"\n",
              "       width=\"24px\">\n",
              "    <path d=\"M0 0h24v24H0V0z\" fill=\"none\"/>\n",
              "    <path d=\"M18.56 5.44l.94 2.06.94-2.06 2.06-.94-2.06-.94-.94-2.06-.94 2.06-2.06.94zm-11 1L8.5 8.5l.94-2.06 2.06-.94-2.06-.94L8.5 2.5l-.94 2.06-2.06.94zm10 10l.94 2.06.94-2.06 2.06-.94-2.06-.94-.94-2.06-.94 2.06-2.06.94z\"/><path d=\"M17.41 7.96l-1.37-1.37c-.4-.4-.92-.59-1.43-.59-.52 0-1.04.2-1.43.59L10.3 9.45l-7.72 7.72c-.78.78-.78 2.05 0 2.83L4 21.41c.39.39.9.59 1.41.59.51 0 1.02-.2 1.41-.59l7.78-7.78 2.81-2.81c.8-.78.8-2.07 0-2.86zM5.41 20L4 18.59l7.72-7.72 1.47 1.35L5.41 20z\"/>\n",
              "  </svg>\n",
              "      </button>\n",
              "      \n",
              "  <style>\n",
              "    .colab-df-container {\n",
              "      display:flex;\n",
              "      flex-wrap:wrap;\n",
              "      gap: 12px;\n",
              "    }\n",
              "\n",
              "    .colab-df-convert {\n",
              "      background-color: #E8F0FE;\n",
              "      border: none;\n",
              "      border-radius: 50%;\n",
              "      cursor: pointer;\n",
              "      display: none;\n",
              "      fill: #1967D2;\n",
              "      height: 32px;\n",
              "      padding: 0 0 0 0;\n",
              "      width: 32px;\n",
              "    }\n",
              "\n",
              "    .colab-df-convert:hover {\n",
              "      background-color: #E2EBFA;\n",
              "      box-shadow: 0px 1px 2px rgba(60, 64, 67, 0.3), 0px 1px 3px 1px rgba(60, 64, 67, 0.15);\n",
              "      fill: #174EA6;\n",
              "    }\n",
              "\n",
              "    [theme=dark] .colab-df-convert {\n",
              "      background-color: #3B4455;\n",
              "      fill: #D2E3FC;\n",
              "    }\n",
              "\n",
              "    [theme=dark] .colab-df-convert:hover {\n",
              "      background-color: #434B5C;\n",
              "      box-shadow: 0px 1px 3px 1px rgba(0, 0, 0, 0.15);\n",
              "      filter: drop-shadow(0px 1px 2px rgba(0, 0, 0, 0.3));\n",
              "      fill: #FFFFFF;\n",
              "    }\n",
              "  </style>\n",
              "\n",
              "      <script>\n",
              "        const buttonEl =\n",
              "          document.querySelector('#df-3953d471-747e-4bca-9a07-4a9ff67f9e36 button.colab-df-convert');\n",
              "        buttonEl.style.display =\n",
              "          google.colab.kernel.accessAllowed ? 'block' : 'none';\n",
              "\n",
              "        async function convertToInteractive(key) {\n",
              "          const element = document.querySelector('#df-3953d471-747e-4bca-9a07-4a9ff67f9e36');\n",
              "          const dataTable =\n",
              "            await google.colab.kernel.invokeFunction('convertToInteractive',\n",
              "                                                     [key], {});\n",
              "          if (!dataTable) return;\n",
              "\n",
              "          const docLinkHtml = 'Like what you see? Visit the ' +\n",
              "            '<a target=\"_blank\" href=https://colab.research.google.com/notebooks/data_table.ipynb>data table notebook</a>'\n",
              "            + ' to learn more about interactive tables.';\n",
              "          element.innerHTML = '';\n",
              "          dataTable['output_type'] = 'display_data';\n",
              "          await google.colab.output.renderOutput(dataTable, element);\n",
              "          const docLink = document.createElement('div');\n",
              "          docLink.innerHTML = docLinkHtml;\n",
              "          element.appendChild(docLink);\n",
              "        }\n",
              "      </script>\n",
              "    </div>\n",
              "  </div>\n",
              "  "
            ],
            "text/plain": [
              "       date       age  distance    stores  latitude  longitude\n",
              "0  0.015978  0.181384  1.257002  0.345224 -0.307212  -1.260799\n",
              "1 -0.350485 -1.319118 -0.930610 -0.609312  0.325301  -1.260799\n",
              "2  1.298598 -0.083410 -0.618094  0.663402  1.590328  -1.576456\n",
              "3 -1.266643 -0.524735 -0.930610 -0.927491 -1.572238   0.948803\n",
              "4  0.932135  0.534444  0.006938  0.981581 -1.255981  -0.945141"
            ]
          },
          "metadata": {},
          "execution_count": 6
        }
      ]
    },
    {
      "cell_type": "code",
      "source": [
        "x=normalized_features\n",
        "y= data[\"price\"]"
      ],
      "metadata": {
        "id": "_6GjcxsKEBda"
      },
      "execution_count": 7,
      "outputs": []
    },
    {
      "cell_type": "code",
      "source": [
        "# Let's convert our feature space (df )and label vector (series)to n-dimensional arrays\n",
        "x_arr=x.values\n",
        "y_arr=y.values\n",
        "print('features array :',x_arr)\n",
        "print('label array : ',y_arr)"
      ],
      "metadata": {
        "colab": {
          "base_uri": "https://localhost:8080/"
        },
        "id": "7Ei5QlC3FTr2",
        "outputId": "882f4fcf-5deb-4977-cb12-cf12e559048f"
      },
      "execution_count": 8,
      "outputs": [
        {
          "output_type": "stream",
          "name": "stdout",
          "text": [
            "features array : [[ 0.01597778  0.18138426  1.25700164  0.34522379 -0.30721158 -1.26079862]\n",
            " [-0.35048517 -1.31911814 -0.93060999 -0.60931203  0.32530146 -1.26079862]\n",
            " [ 1.29859812 -0.08341028 -0.61809404  0.66340239  1.59032754 -1.57645598]\n",
            " ...\n",
            " [ 1.4818296  -1.14258845  1.56951759  0.02704518  1.59032754  0.00183081]\n",
            " [ 0.19920926  1.59362182 -0.61809404  0.02704518 -1.25598114  0.94880289]\n",
            " [ 1.66506107 -0.87779391 -1.24312594  1.2997596   1.59032754  0.63314553]]\n",
            "label array :  [14264 12032 13560 ... 14102 14313 12770]\n"
          ]
        }
      ]
    },
    {
      "cell_type": "markdown",
      "source": [
        "## Train/Test Split"
      ],
      "metadata": {
        "id": "WzkmDP445ecW"
      }
    },
    {
      "cell_type": "code",
      "source": [
        "\n",
        "x_train, x_test, y_train, y_test=train_test_split(x_arr,y_arr, test_size=0.10)\n",
        "print(x_train.shape)\n",
        "print(x_test.shape)\n",
        "print(y_train.shape)\n",
        "print(y_test.shape)"
      ],
      "metadata": {
        "colab": {
          "base_uri": "https://localhost:8080/"
        },
        "id": "yMMtLX6KFev1",
        "outputId": "96fc15ad-a7b8-4e35-b484-a24ce0998682"
      },
      "execution_count": 9,
      "outputs": [
        {
          "output_type": "stream",
          "name": "stdout",
          "text": [
            "(4500, 6)\n",
            "(500, 6)\n",
            "(4500,)\n",
            "(500,)\n"
          ]
        }
      ]
    },
    {
      "cell_type": "markdown",
      "source": [
        "## Building and Compiling Neural Network\n",
        "\n",
        "Let's now build a neural network that has:\n",
        "1. 10 neurons in 1st hidden layer activated by 'relu' function\n",
        "2. 20 neurons in 2nd layer activated by 'relu' function\n",
        "3. 5 neurons in 3rd layer activated by 'relu' function\n"
      ],
      "metadata": {
        "id": "2vEJXgmm5mHR"
      }
    },
    {
      "cell_type": "code",
      "source": [
        "model= Sequential([Dense(10,activation='relu',input_shape=(6,)),\n",
        "                   Dense(20, activation='relu'),\n",
        "                   Dense(5, activation='relu'),\n",
        "                   Dense(1)])\n",
        "model.summary()\n"
      ],
      "metadata": {
        "colab": {
          "base_uri": "https://localhost:8080/"
        },
        "id": "UoeaY8HDGGdH",
        "outputId": "d178cf41-4472-4391-8c8b-ec263c7ecd90"
      },
      "execution_count": 10,
      "outputs": [
        {
          "output_type": "stream",
          "name": "stdout",
          "text": [
            "Model: \"sequential\"\n",
            "_________________________________________________________________\n",
            " Layer (type)                Output Shape              Param #   \n",
            "=================================================================\n",
            " dense (Dense)               (None, 10)                70        \n",
            "                                                                 \n",
            " dense_1 (Dense)             (None, 20)                220       \n",
            "                                                                 \n",
            " dense_2 (Dense)             (None, 5)                 105       \n",
            "                                                                 \n",
            " dense_3 (Dense)             (None, 1)                 6         \n",
            "                                                                 \n",
            "=================================================================\n",
            "Total params: 401\n",
            "Trainable params: 401\n",
            "Non-trainable params: 0\n",
            "_________________________________________________________________\n"
          ]
        }
      ]
    },
    {
      "cell_type": "markdown",
      "source": [
        "As can be seen from the summary table of our model:\n",
        "1. There are 60 weights and 10 biases between input layer and first hidden layer\n",
        "2. There are 200 weights and 20 biases between first hidden layer and second hidden layer\n",
        "3. There are 100 weights and 5 biases between the second hidden layer and third hidden layer\n",
        "4. There are 5 weights and 1 bias between the third layer and the output layer\n",
        "\n",
        "![picture](https://drive.google.com/uc?id=1zwryTRiRnsqimt2l6pcxikcSjuApcK8d)"
      ],
      "metadata": {
        "id": "k5rAYv4f8BD0"
      }
    },
    {
      "cell_type": "code",
      "source": [
        "# Now that we have developed our model, let's compile it by defining the loss function and optimization method\n",
        "model.compile(loss='mse',optimizer='adam')\n",
        "# Let's now use our untrained model(initial/non-optimized weights and biases) to make predictions\n",
        "untrained_predictions = model.predict(x_test)\n",
        "len(untrained_predictions)"
      ],
      "metadata": {
        "id": "HU66S_3tI9eL",
        "colab": {
          "base_uri": "https://localhost:8080/"
        },
        "outputId": "547de48d-81db-4d2a-81b4-1a0da06e06cd"
      },
      "execution_count": 11,
      "outputs": [
        {
          "output_type": "execute_result",
          "data": {
            "text/plain": [
              "500"
            ]
          },
          "metadata": {},
          "execution_count": 11
        }
      ]
    },
    {
      "cell_type": "markdown",
      "source": [
        "## Training and Testing Our Neural Network\n"
      ],
      "metadata": {
        "id": "SS0yXrQaAYYe"
      }
    },
    {
      "cell_type": "code",
      "source": [
        "#We can use an EarlyStopping callback from Keras to stop the model training if the validation loss stops decreasing for a few epochs\n",
        "es_cb = EarlyStopping(monitor='val_loss', patience=5)"
      ],
      "metadata": {
        "id": "Im-LWAaFKT59"
      },
      "execution_count": 12,
      "outputs": []
    },
    {
      "cell_type": "code",
      "source": [
        " # Let's now fit our model to training data\n",
        " history=model.fit(\n",
        "    x_train, y_train,\n",
        "    validation_data = (x_test, y_test),\n",
        "    epochs = 200,\n",
        "    callbacks=[es_cb]\n",
        "    )\n",
        " trained_predictions= model.predict(x_test)\n",
        " len(trained_predictions)"
      ],
      "metadata": {
        "colab": {
          "base_uri": "https://localhost:8080/"
        },
        "id": "5pgZ0iaoOdyr",
        "outputId": "99557ce2-a269-40ce-b748-d4edc4137679"
      },
      "execution_count": 13,
      "outputs": [
        {
          "output_type": "stream",
          "name": "stdout",
          "text": [
            "Epoch 1/200\n",
            "141/141 [==============================] - 1s 3ms/step - loss: 194543184.0000 - val_loss: 192897248.0000\n",
            "Epoch 2/200\n",
            "141/141 [==============================] - 0s 2ms/step - loss: 193934816.0000 - val_loss: 191465264.0000\n",
            "Epoch 3/200\n",
            "141/141 [==============================] - 0s 2ms/step - loss: 190201424.0000 - val_loss: 184542976.0000\n",
            "Epoch 4/200\n",
            "141/141 [==============================] - 0s 2ms/step - loss: 176594544.0000 - val_loss: 163383952.0000\n",
            "Epoch 5/200\n",
            "141/141 [==============================] - 0s 2ms/step - loss: 144931456.0000 - val_loss: 123062936.0000\n",
            "Epoch 6/200\n",
            "141/141 [==============================] - 0s 2ms/step - loss: 96706704.0000 - val_loss: 72036360.0000\n",
            "Epoch 7/200\n",
            "141/141 [==============================] - 0s 2ms/step - loss: 48405768.0000 - val_loss: 31068514.0000\n",
            "Epoch 8/200\n",
            "141/141 [==============================] - 0s 2ms/step - loss: 19154234.0000 - val_loss: 12320924.0000\n",
            "Epoch 9/200\n",
            "141/141 [==============================] - 0s 3ms/step - loss: 8549461.0000 - val_loss: 6292815.5000\n",
            "Epoch 10/200\n",
            "141/141 [==============================] - 0s 2ms/step - loss: 5223739.5000 - val_loss: 4276431.5000\n",
            "Epoch 11/200\n",
            "141/141 [==============================] - 0s 2ms/step - loss: 3984542.0000 - val_loss: 3487057.5000\n",
            "Epoch 12/200\n",
            "141/141 [==============================] - 0s 2ms/step - loss: 3445035.7500 - val_loss: 3136663.5000\n",
            "Epoch 13/200\n",
            "141/141 [==============================] - 0s 2ms/step - loss: 3162044.5000 - val_loss: 2927861.7500\n",
            "Epoch 14/200\n",
            "141/141 [==============================] - 0s 2ms/step - loss: 2963682.2500 - val_loss: 2766610.2500\n",
            "Epoch 15/200\n",
            "141/141 [==============================] - 0s 2ms/step - loss: 2792502.2500 - val_loss: 2614668.0000\n",
            "Epoch 16/200\n",
            "141/141 [==============================] - 0s 2ms/step - loss: 2633881.0000 - val_loss: 2476300.2500\n",
            "Epoch 17/200\n",
            "141/141 [==============================] - 0s 2ms/step - loss: 2483881.7500 - val_loss: 2340612.0000\n",
            "Epoch 18/200\n",
            "141/141 [==============================] - 0s 2ms/step - loss: 2340515.0000 - val_loss: 2208450.5000\n",
            "Epoch 19/200\n",
            "141/141 [==============================] - 0s 2ms/step - loss: 2206351.5000 - val_loss: 2085359.0000\n",
            "Epoch 20/200\n",
            "141/141 [==============================] - 0s 2ms/step - loss: 2077335.5000 - val_loss: 1966431.6250\n",
            "Epoch 21/200\n",
            "141/141 [==============================] - 0s 2ms/step - loss: 1957241.7500 - val_loss: 1853771.8750\n",
            "Epoch 22/200\n",
            "141/141 [==============================] - 0s 2ms/step - loss: 1841473.8750 - val_loss: 1746614.0000\n",
            "Epoch 23/200\n",
            "141/141 [==============================] - 0s 2ms/step - loss: 1732639.7500 - val_loss: 1645071.7500\n",
            "Epoch 24/200\n",
            "141/141 [==============================] - 0s 2ms/step - loss: 1630657.2500 - val_loss: 1551661.2500\n",
            "Epoch 25/200\n",
            "141/141 [==============================] - 0s 2ms/step - loss: 1533127.8750 - val_loss: 1464031.6250\n",
            "Epoch 26/200\n",
            "141/141 [==============================] - 0s 2ms/step - loss: 1439350.8750 - val_loss: 1381119.5000\n",
            "Epoch 27/200\n",
            "141/141 [==============================] - 0s 2ms/step - loss: 1350650.5000 - val_loss: 1297678.1250\n",
            "Epoch 28/200\n",
            "141/141 [==============================] - 0s 2ms/step - loss: 1268033.0000 - val_loss: 1229063.6250\n",
            "Epoch 29/200\n",
            "141/141 [==============================] - 0s 2ms/step - loss: 1189870.1250 - val_loss: 1153688.6250\n",
            "Epoch 30/200\n",
            "141/141 [==============================] - 0s 2ms/step - loss: 1114128.2500 - val_loss: 1084999.2500\n",
            "Epoch 31/200\n",
            "141/141 [==============================] - 0s 2ms/step - loss: 1043714.9375 - val_loss: 1019213.9375\n",
            "Epoch 32/200\n",
            "141/141 [==============================] - 0s 2ms/step - loss: 977141.3125 - val_loss: 957719.1875\n",
            "Epoch 33/200\n",
            "141/141 [==============================] - 0s 2ms/step - loss: 913719.9375 - val_loss: 900321.7500\n",
            "Epoch 34/200\n",
            "141/141 [==============================] - 0s 2ms/step - loss: 854685.5000 - val_loss: 839805.3750\n",
            "Epoch 35/200\n",
            "141/141 [==============================] - 0s 2ms/step - loss: 796925.4375 - val_loss: 786435.4375\n",
            "Epoch 36/200\n",
            "141/141 [==============================] - 0s 2ms/step - loss: 743049.5000 - val_loss: 731415.4375\n",
            "Epoch 37/200\n",
            "141/141 [==============================] - 0s 2ms/step - loss: 693152.8750 - val_loss: 679581.4375\n",
            "Epoch 38/200\n",
            "141/141 [==============================] - 0s 2ms/step - loss: 647541.5625 - val_loss: 639284.5625\n",
            "Epoch 39/200\n",
            "141/141 [==============================] - 0s 2ms/step - loss: 604335.6250 - val_loss: 597872.1250\n",
            "Epoch 40/200\n",
            "141/141 [==============================] - 0s 2ms/step - loss: 565214.1875 - val_loss: 554612.8750\n",
            "Epoch 41/200\n",
            "141/141 [==============================] - 0s 2ms/step - loss: 529715.6250 - val_loss: 520879.4375\n",
            "Epoch 42/200\n",
            "141/141 [==============================] - 0s 2ms/step - loss: 496533.7188 - val_loss: 484842.7500\n",
            "Epoch 43/200\n",
            "141/141 [==============================] - 0s 2ms/step - loss: 465605.4062 - val_loss: 455118.0938\n",
            "Epoch 44/200\n",
            "141/141 [==============================] - 0s 2ms/step - loss: 437493.9375 - val_loss: 421826.3125\n",
            "Epoch 45/200\n",
            "141/141 [==============================] - 0s 2ms/step - loss: 411031.5312 - val_loss: 394904.7500\n",
            "Epoch 46/200\n",
            "141/141 [==============================] - 0s 2ms/step - loss: 388594.2500 - val_loss: 372125.8438\n",
            "Epoch 47/200\n",
            "141/141 [==============================] - 0s 2ms/step - loss: 366688.9688 - val_loss: 351774.9062\n",
            "Epoch 48/200\n",
            "141/141 [==============================] - 0s 2ms/step - loss: 347794.2500 - val_loss: 335336.5000\n",
            "Epoch 49/200\n",
            "141/141 [==============================] - 0s 2ms/step - loss: 329919.2812 - val_loss: 313502.8750\n",
            "Epoch 50/200\n",
            "141/141 [==============================] - 0s 2ms/step - loss: 313622.0938 - val_loss: 301432.2500\n",
            "Epoch 51/200\n",
            "141/141 [==============================] - 0s 2ms/step - loss: 299534.3438 - val_loss: 285800.3125\n",
            "Epoch 52/200\n",
            "141/141 [==============================] - 0s 2ms/step - loss: 285906.7500 - val_loss: 272850.0312\n",
            "Epoch 53/200\n",
            "141/141 [==============================] - 0s 2ms/step - loss: 274845.6250 - val_loss: 262719.6562\n",
            "Epoch 54/200\n",
            "141/141 [==============================] - 0s 2ms/step - loss: 262361.5312 - val_loss: 255842.6562\n",
            "Epoch 55/200\n",
            "141/141 [==============================] - 0s 2ms/step - loss: 252241.0156 - val_loss: 247932.5156\n",
            "Epoch 56/200\n",
            "141/141 [==============================] - 0s 2ms/step - loss: 243526.6875 - val_loss: 237155.3594\n",
            "Epoch 57/200\n",
            "141/141 [==============================] - 0s 2ms/step - loss: 235409.1875 - val_loss: 228576.6719\n",
            "Epoch 58/200\n",
            "141/141 [==============================] - 0s 2ms/step - loss: 227995.7344 - val_loss: 225705.8125\n",
            "Epoch 59/200\n",
            "141/141 [==============================] - 0s 2ms/step - loss: 221767.6719 - val_loss: 216629.2969\n",
            "Epoch 60/200\n",
            "141/141 [==============================] - 0s 2ms/step - loss: 216582.0469 - val_loss: 220525.3594\n",
            "Epoch 61/200\n",
            "141/141 [==============================] - 0s 2ms/step - loss: 211145.2188 - val_loss: 211774.0312\n",
            "Epoch 62/200\n",
            "141/141 [==============================] - 0s 2ms/step - loss: 206579.2500 - val_loss: 206963.4062\n",
            "Epoch 63/200\n",
            "141/141 [==============================] - 0s 2ms/step - loss: 202630.0000 - val_loss: 205666.4531\n",
            "Epoch 64/200\n",
            "141/141 [==============================] - 0s 2ms/step - loss: 198909.4219 - val_loss: 199912.2969\n",
            "Epoch 65/200\n",
            "141/141 [==============================] - 0s 2ms/step - loss: 195659.7812 - val_loss: 195403.7344\n",
            "Epoch 66/200\n",
            "141/141 [==============================] - 0s 2ms/step - loss: 192832.1719 - val_loss: 194339.9375\n",
            "Epoch 67/200\n",
            "141/141 [==============================] - 0s 2ms/step - loss: 190161.0000 - val_loss: 192802.6875\n",
            "Epoch 68/200\n",
            "141/141 [==============================] - 0s 2ms/step - loss: 188233.9688 - val_loss: 189938.1719\n",
            "Epoch 69/200\n",
            "141/141 [==============================] - 0s 3ms/step - loss: 186123.2188 - val_loss: 188440.5625\n",
            "Epoch 70/200\n",
            "141/141 [==============================] - 0s 2ms/step - loss: 184885.5156 - val_loss: 188272.2969\n",
            "Epoch 71/200\n",
            "141/141 [==============================] - 0s 2ms/step - loss: 183129.9062 - val_loss: 187305.1406\n",
            "Epoch 72/200\n",
            "141/141 [==============================] - 0s 2ms/step - loss: 181538.8438 - val_loss: 186349.7656\n",
            "Epoch 73/200\n",
            "141/141 [==============================] - 0s 2ms/step - loss: 180815.5156 - val_loss: 183588.2031\n",
            "Epoch 74/200\n",
            "141/141 [==============================] - 0s 2ms/step - loss: 179784.5469 - val_loss: 182056.1406\n",
            "Epoch 75/200\n",
            "141/141 [==============================] - 0s 2ms/step - loss: 177895.1875 - val_loss: 182648.6875\n",
            "Epoch 76/200\n",
            "141/141 [==============================] - 0s 2ms/step - loss: 177731.6562 - val_loss: 180950.1094\n",
            "Epoch 77/200\n",
            "141/141 [==============================] - 0s 2ms/step - loss: 176057.8906 - val_loss: 181700.7812\n",
            "Epoch 78/200\n",
            "141/141 [==============================] - 0s 2ms/step - loss: 176591.9062 - val_loss: 184593.0625\n",
            "Epoch 79/200\n",
            "141/141 [==============================] - 0s 2ms/step - loss: 176027.1719 - val_loss: 180545.5938\n",
            "Epoch 80/200\n",
            "141/141 [==============================] - 0s 2ms/step - loss: 174520.0938 - val_loss: 181418.6094\n",
            "Epoch 81/200\n",
            "141/141 [==============================] - 0s 2ms/step - loss: 174534.4219 - val_loss: 178743.4531\n",
            "Epoch 82/200\n",
            "141/141 [==============================] - 0s 2ms/step - loss: 173890.1406 - val_loss: 183867.7969\n",
            "Epoch 83/200\n",
            "141/141 [==============================] - 0s 2ms/step - loss: 173047.1719 - val_loss: 182483.5000\n",
            "Epoch 84/200\n",
            "141/141 [==============================] - 0s 2ms/step - loss: 173537.1094 - val_loss: 182089.7656\n",
            "Epoch 85/200\n",
            "141/141 [==============================] - 0s 2ms/step - loss: 173524.9531 - val_loss: 176908.2031\n",
            "Epoch 86/200\n",
            "141/141 [==============================] - 0s 2ms/step - loss: 172369.2031 - val_loss: 176875.7969\n",
            "Epoch 87/200\n",
            "141/141 [==============================] - 0s 2ms/step - loss: 172605.5938 - val_loss: 179866.9844\n",
            "Epoch 88/200\n",
            "141/141 [==============================] - 0s 2ms/step - loss: 172863.1875 - val_loss: 178742.7031\n",
            "Epoch 89/200\n",
            "141/141 [==============================] - 0s 2ms/step - loss: 173056.2500 - val_loss: 175520.2344\n",
            "Epoch 90/200\n",
            "141/141 [==============================] - 0s 2ms/step - loss: 171348.0938 - val_loss: 178508.8594\n",
            "Epoch 91/200\n",
            "141/141 [==============================] - 0s 2ms/step - loss: 171997.5000 - val_loss: 180360.0000\n",
            "Epoch 92/200\n",
            "141/141 [==============================] - 0s 2ms/step - loss: 171043.1719 - val_loss: 176569.3125\n",
            "Epoch 93/200\n",
            "141/141 [==============================] - 0s 2ms/step - loss: 171656.0000 - val_loss: 178131.4688\n",
            "Epoch 94/200\n",
            "141/141 [==============================] - 0s 2ms/step - loss: 171944.8281 - val_loss: 178431.9844\n"
          ]
        },
        {
          "output_type": "execute_result",
          "data": {
            "text/plain": [
              "500"
            ]
          },
          "metadata": {},
          "execution_count": 13
        }
      ]
    },
    {
      "cell_type": "markdown",
      "source": [
        "## Plotting Convergence of Training and Validation Loss"
      ],
      "metadata": {
        "id": "DtpnMXA6At9K"
      }
    },
    {
      "cell_type": "code",
      "source": [
        "loss=history.history[\"loss\"]\n",
        "val_loss=history.history[\"val_loss\"]\n",
        "plt.figure(figsize=(8,8))\n",
        "plt.plot(range(len(loss)),loss,label='training_loss')\n",
        "plt.plot(range(len(val_loss)),val_loss,label='validation_loss')\n",
        "plt.xlabel(\"Iterations/Epochs\",size=14)\n",
        "plt.ylabel(\"Loss\",size=14)\n",
        "plt.legend()\n",
        "plt.show()"
      ],
      "metadata": {
        "colab": {
          "base_uri": "https://localhost:8080/",
          "height": 512
        },
        "id": "Kw3kVpB-OnXK",
        "outputId": "9364ec64-933d-4fc9-f3f2-da4a73360c3b"
      },
      "execution_count": 14,
      "outputs": [
        {
          "output_type": "display_data",
          "data": {
            "image/png": "[encoded data removed]",
            "text/plain": [
              "<Figure size 576x576 with 1 Axes>"
            ]
          },
          "metadata": {
            "needs_background": "light"
          }
        }
      ]
    },
    {
      "cell_type": "markdown",
      "source": [
        "The above graph shows that after 10 iterations, both training and validation loss dropped significantly and then stabalized as number of epochs increased."
      ],
      "metadata": {
        "id": "8TgxGIzmA5bG"
      }
    },
    {
      "cell_type": "markdown",
      "source": [
        "## Computing Model's RMSE"
      ],
      "metadata": {
        "id": "kZrJ_57OBQD_"
      }
    },
    {
      "cell_type": "code",
      "source": [
        "from sklearn.metrics import mean_squared_error\n",
        "mse= mean_squared_error(y_test, trained_predictions)\n",
        "print(\"Model RMSE:\", \"{}$\".format(int(mse**(1/2))))\n",
        "\n",
        "mean_house_price= data[\"price\"].mean()\n",
        "print(\"Mean house price in data:\", \"{}$\".format(int(mean_house_price)))"
      ],
      "metadata": {
        "colab": {
          "base_uri": "https://localhost:8080/"
        },
        "id": "lDbqQDhYr7eD",
        "outputId": "367e58d7-bd9a-4a9c-9da4-17351eb6d660"
      },
      "execution_count": 15,
      "outputs": [
        {
          "output_type": "stream",
          "name": "stdout",
          "text": [
            "Model RMSE: 422$\n",
            "Mean house price in data: 13906$\n"
          ]
        }
      ]
    },
    {
      "cell_type": "markdown",
      "source": [
        "With our data that has mean house price of roughly 14k dollars, predictive error of +- 400 dollars is a very good result. This means given 6 features we used to train our model, the model can predict the house price within the error range of 400 dollars. A remarkably good prediction model!"
      ],
      "metadata": {
        "id": "VRi-DIZpBTip"
      }
    },
    {
      "cell_type": "markdown",
      "source": [
        "## Plotting Actual versus Predicted Lables\n",
        "\n",
        "Let's now end this project by getting a visual feel of how the actual versus predicted house prices look like for our testing set with 500 examples."
      ],
      "metadata": {
        "id": "9apmPTyKB7LF"
      }
    },
    {
      "cell_type": "code",
      "source": [
        "plt.figure(figsize=(12,8))\n",
        "plt.plot([i for i in range(len(y_test))], y_test, 'go', label=\"Actual labels\")\n",
        "plt.plot([i for i in range(len(y_test))], trained_predictions, 'ro', label=\"Predicted_labels\")\n",
        "plt.xlabel(\"Testing Example\", size=12)\n",
        "plt.ylabel(\"House Price\", size=12)\n",
        "plt.legend(bbox_to_anchor=(1,1))\n",
        "plt.show()"
      ],
      "metadata": {
        "colab": {
          "base_uri": "https://localhost:8080/",
          "height": 500
        },
        "id": "rM0b6Js9zGaD",
        "outputId": "5ffd2a3e-8ac2-4a09-f0f9-b6ad7289045f"
      },
      "execution_count": 16,
      "outputs": [
        {
          "output_type": "display_data",
          "data": {
            "image/png": "[encoded data removed]",
            "text/plain": [
              "<Figure size 864x576 with 1 Axes>"
            ]
          },
          "metadata": {
            "needs_background": "light"
          }
        }
      ]
    }
  ]
}