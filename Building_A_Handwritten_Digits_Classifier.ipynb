{
  "cells": [
    {
      "cell_type": "markdown",
      "source": [
        "# Getting Started \n",
        "Scikit-learn contains a number of [datasets](https://scikit-learn.org/stable/datasets.html) pre-loaded with the library, within the namespace of` sklearn.datasets`. The `load_digits()` function returns a copy of the [hand-written digits dataset](http://archive.ics.uci.edu/ml/datasets/Optical+Recognition+of+Handwritten+Digits) from UCI.\n",
        "\n",
        "Because dataframes are a tabular representation of data, each image is represented as a row of pixel values (64 columns for 8 x 8 pixels). To visualize an image from the dataframe, we first need to reshape the image back to its original dimensions (8 x 8 pixels). We then need to plot the resulting matrix (8 x 8)on a coordinate grid to visualize the image."
      ],
      "metadata": {
        "id": "J5KaGDrifhqz"
      }
    },
    {
      "cell_type": "code",
      "execution_count": 1,
      "metadata": {
        "id": "1Dk4KrjSvpoo"
      },
      "outputs": [],
      "source": [
        "from sklearn.datasets import load_digits\n",
        "import pandas as pd\n",
        "import numpy as np\n",
        "import matplotlib.pyplot as plt\n",
        "%matplotlib inline"
      ]
    },
    {
      "cell_type": "code",
      "execution_count": 2,
      "metadata": {
        "id": "pasOBDpwvpou",
        "outputId": "3f9eab3b-8113-4b58-d887-528caee2b9ff",
        "colab": {
          "base_uri": "https://localhost:8080/"
        }
      },
      "outputs": [
        {
          "output_type": "execute_result",
          "data": {
            "text/plain": [
              "dict_keys(['data', 'target', 'frame', 'feature_names', 'target_names', 'images', 'DESCR'])"
            ]
          },
          "metadata": {},
          "execution_count": 2
        }
      ],
      "source": [
        "#Import load_digits() from the sklearn.datasets package \n",
        "data=load_digits() # returns a dictionary\n",
        "data.keys()"
      ]
    },
    {
      "cell_type": "code",
      "execution_count": 3,
      "metadata": {
        "id": "IE2SvZnfvpox",
        "outputId": "89714047-806c-478b-ca40-79f6d9dadc06",
        "colab": {
          "base_uri": "https://localhost:8080/",
          "height": 270
        }
      },
      "outputs": [
        {
          "output_type": "execute_result",
          "data": {
            "text/html": [
              "\n",
              "  <div id=\"df-f8741644-0073-4f75-bbad-15c7a8c3640e\">\n",
              "    <div class=\"colab-df-container\">\n",
              "      <div>\n",
              "<style scoped>\n",
              "    .dataframe tbody tr th:only-of-type {\n",
              "        vertical-align: middle;\n",
              "    }\n",
              "\n",
              "    .dataframe tbody tr th {\n",
              "        vertical-align: top;\n",
              "    }\n",
              "\n",
              "    .dataframe thead th {\n",
              "        text-align: right;\n",
              "    }\n",
              "</style>\n",
              "<table border=\"1\" class=\"dataframe\">\n",
              "  <thead>\n",
              "    <tr style=\"text-align: right;\">\n",
              "      <th></th>\n",
              "      <th>0</th>\n",
              "      <th>1</th>\n",
              "      <th>2</th>\n",
              "      <th>3</th>\n",
              "      <th>4</th>\n",
              "      <th>5</th>\n",
              "      <th>6</th>\n",
              "      <th>7</th>\n",
              "      <th>8</th>\n",
              "      <th>9</th>\n",
              "      <th>10</th>\n",
              "      <th>11</th>\n",
              "      <th>12</th>\n",
              "      <th>13</th>\n",
              "      <th>14</th>\n",
              "      <th>15</th>\n",
              "      <th>16</th>\n",
              "      <th>17</th>\n",
              "      <th>18</th>\n",
              "      <th>19</th>\n",
              "      <th>20</th>\n",
              "      <th>21</th>\n",
              "      <th>22</th>\n",
              "      <th>23</th>\n",
              "      <th>24</th>\n",
              "      <th>25</th>\n",
              "      <th>26</th>\n",
              "      <th>27</th>\n",
              "      <th>28</th>\n",
              "      <th>29</th>\n",
              "      <th>30</th>\n",
              "      <th>31</th>\n",
              "      <th>32</th>\n",
              "      <th>33</th>\n",
              "      <th>34</th>\n",
              "      <th>35</th>\n",
              "      <th>36</th>\n",
              "      <th>37</th>\n",
              "      <th>38</th>\n",
              "      <th>39</th>\n",
              "      <th>40</th>\n",
              "      <th>41</th>\n",
              "      <th>42</th>\n",
              "      <th>43</th>\n",
              "      <th>44</th>\n",
              "      <th>45</th>\n",
              "      <th>46</th>\n",
              "      <th>47</th>\n",
              "      <th>48</th>\n",
              "      <th>49</th>\n",
              "      <th>50</th>\n",
              "      <th>51</th>\n",
              "      <th>52</th>\n",
              "      <th>53</th>\n",
              "      <th>54</th>\n",
              "      <th>55</th>\n",
              "      <th>56</th>\n",
              "      <th>57</th>\n",
              "      <th>58</th>\n",
              "      <th>59</th>\n",
              "      <th>60</th>\n",
              "      <th>61</th>\n",
              "      <th>62</th>\n",
              "      <th>63</th>\n",
              "    </tr>\n",
              "  </thead>\n",
              "  <tbody>\n",
              "    <tr>\n",
              "      <th>0</th>\n",
              "      <td>0.0</td>\n",
              "      <td>0.0</td>\n",
              "      <td>5.0</td>\n",
              "      <td>13.0</td>\n",
              "      <td>9.0</td>\n",
              "      <td>1.0</td>\n",
              "      <td>0.0</td>\n",
              "      <td>0.0</td>\n",
              "      <td>0.0</td>\n",
              "      <td>0.0</td>\n",
              "      <td>13.0</td>\n",
              "      <td>15.0</td>\n",
              "      <td>10.0</td>\n",
              "      <td>15.0</td>\n",
              "      <td>5.0</td>\n",
              "      <td>0.0</td>\n",
              "      <td>0.0</td>\n",
              "      <td>3.0</td>\n",
              "      <td>15.0</td>\n",
              "      <td>2.0</td>\n",
              "      <td>0.0</td>\n",
              "      <td>11.0</td>\n",
              "      <td>8.0</td>\n",
              "      <td>0.0</td>\n",
              "      <td>0.0</td>\n",
              "      <td>4.0</td>\n",
              "      <td>12.0</td>\n",
              "      <td>0.0</td>\n",
              "      <td>0.0</td>\n",
              "      <td>8.0</td>\n",
              "      <td>8.0</td>\n",
              "      <td>0.0</td>\n",
              "      <td>0.0</td>\n",
              "      <td>5.0</td>\n",
              "      <td>8.0</td>\n",
              "      <td>0.0</td>\n",
              "      <td>0.0</td>\n",
              "      <td>9.0</td>\n",
              "      <td>8.0</td>\n",
              "      <td>0.0</td>\n",
              "      <td>0.0</td>\n",
              "      <td>4.0</td>\n",
              "      <td>11.0</td>\n",
              "      <td>0.0</td>\n",
              "      <td>1.0</td>\n",
              "      <td>12.0</td>\n",
              "      <td>7.0</td>\n",
              "      <td>0.0</td>\n",
              "      <td>0.0</td>\n",
              "      <td>2.0</td>\n",
              "      <td>14.0</td>\n",
              "      <td>5.0</td>\n",
              "      <td>10.0</td>\n",
              "      <td>12.0</td>\n",
              "      <td>0.0</td>\n",
              "      <td>0.0</td>\n",
              "      <td>0.0</td>\n",
              "      <td>0.0</td>\n",
              "      <td>6.0</td>\n",
              "      <td>13.0</td>\n",
              "      <td>10.0</td>\n",
              "      <td>0.0</td>\n",
              "      <td>0.0</td>\n",
              "      <td>0.0</td>\n",
              "    </tr>\n",
              "    <tr>\n",
              "      <th>1</th>\n",
              "      <td>0.0</td>\n",
              "      <td>0.0</td>\n",
              "      <td>0.0</td>\n",
              "      <td>12.0</td>\n",
              "      <td>13.0</td>\n",
              "      <td>5.0</td>\n",
              "      <td>0.0</td>\n",
              "      <td>0.0</td>\n",
              "      <td>0.0</td>\n",
              "      <td>0.0</td>\n",
              "      <td>0.0</td>\n",
              "      <td>11.0</td>\n",
              "      <td>16.0</td>\n",
              "      <td>9.0</td>\n",
              "      <td>0.0</td>\n",
              "      <td>0.0</td>\n",
              "      <td>0.0</td>\n",
              "      <td>0.0</td>\n",
              "      <td>3.0</td>\n",
              "      <td>15.0</td>\n",
              "      <td>16.0</td>\n",
              "      <td>6.0</td>\n",
              "      <td>0.0</td>\n",
              "      <td>0.0</td>\n",
              "      <td>0.0</td>\n",
              "      <td>7.0</td>\n",
              "      <td>15.0</td>\n",
              "      <td>16.0</td>\n",
              "      <td>16.0</td>\n",
              "      <td>2.0</td>\n",
              "      <td>0.0</td>\n",
              "      <td>0.0</td>\n",
              "      <td>0.0</td>\n",
              "      <td>0.0</td>\n",
              "      <td>1.0</td>\n",
              "      <td>16.0</td>\n",
              "      <td>16.0</td>\n",
              "      <td>3.0</td>\n",
              "      <td>0.0</td>\n",
              "      <td>0.0</td>\n",
              "      <td>0.0</td>\n",
              "      <td>0.0</td>\n",
              "      <td>1.0</td>\n",
              "      <td>16.0</td>\n",
              "      <td>16.0</td>\n",
              "      <td>6.0</td>\n",
              "      <td>0.0</td>\n",
              "      <td>0.0</td>\n",
              "      <td>0.0</td>\n",
              "      <td>0.0</td>\n",
              "      <td>1.0</td>\n",
              "      <td>16.0</td>\n",
              "      <td>16.0</td>\n",
              "      <td>6.0</td>\n",
              "      <td>0.0</td>\n",
              "      <td>0.0</td>\n",
              "      <td>0.0</td>\n",
              "      <td>0.0</td>\n",
              "      <td>0.0</td>\n",
              "      <td>11.0</td>\n",
              "      <td>16.0</td>\n",
              "      <td>10.0</td>\n",
              "      <td>0.0</td>\n",
              "      <td>0.0</td>\n",
              "    </tr>\n",
              "    <tr>\n",
              "      <th>2</th>\n",
              "      <td>0.0</td>\n",
              "      <td>0.0</td>\n",
              "      <td>0.0</td>\n",
              "      <td>4.0</td>\n",
              "      <td>15.0</td>\n",
              "      <td>12.0</td>\n",
              "      <td>0.0</td>\n",
              "      <td>0.0</td>\n",
              "      <td>0.0</td>\n",
              "      <td>0.0</td>\n",
              "      <td>3.0</td>\n",
              "      <td>16.0</td>\n",
              "      <td>15.0</td>\n",
              "      <td>14.0</td>\n",
              "      <td>0.0</td>\n",
              "      <td>0.0</td>\n",
              "      <td>0.0</td>\n",
              "      <td>0.0</td>\n",
              "      <td>8.0</td>\n",
              "      <td>13.0</td>\n",
              "      <td>8.0</td>\n",
              "      <td>16.0</td>\n",
              "      <td>0.0</td>\n",
              "      <td>0.0</td>\n",
              "      <td>0.0</td>\n",
              "      <td>0.0</td>\n",
              "      <td>1.0</td>\n",
              "      <td>6.0</td>\n",
              "      <td>15.0</td>\n",
              "      <td>11.0</td>\n",
              "      <td>0.0</td>\n",
              "      <td>0.0</td>\n",
              "      <td>0.0</td>\n",
              "      <td>1.0</td>\n",
              "      <td>8.0</td>\n",
              "      <td>13.0</td>\n",
              "      <td>15.0</td>\n",
              "      <td>1.0</td>\n",
              "      <td>0.0</td>\n",
              "      <td>0.0</td>\n",
              "      <td>0.0</td>\n",
              "      <td>9.0</td>\n",
              "      <td>16.0</td>\n",
              "      <td>16.0</td>\n",
              "      <td>5.0</td>\n",
              "      <td>0.0</td>\n",
              "      <td>0.0</td>\n",
              "      <td>0.0</td>\n",
              "      <td>0.0</td>\n",
              "      <td>3.0</td>\n",
              "      <td>13.0</td>\n",
              "      <td>16.0</td>\n",
              "      <td>16.0</td>\n",
              "      <td>11.0</td>\n",
              "      <td>5.0</td>\n",
              "      <td>0.0</td>\n",
              "      <td>0.0</td>\n",
              "      <td>0.0</td>\n",
              "      <td>0.0</td>\n",
              "      <td>3.0</td>\n",
              "      <td>11.0</td>\n",
              "      <td>16.0</td>\n",
              "      <td>9.0</td>\n",
              "      <td>0.0</td>\n",
              "    </tr>\n",
              "    <tr>\n",
              "      <th>3</th>\n",
              "      <td>0.0</td>\n",
              "      <td>0.0</td>\n",
              "      <td>7.0</td>\n",
              "      <td>15.0</td>\n",
              "      <td>13.0</td>\n",
              "      <td>1.0</td>\n",
              "      <td>0.0</td>\n",
              "      <td>0.0</td>\n",
              "      <td>0.0</td>\n",
              "      <td>8.0</td>\n",
              "      <td>13.0</td>\n",
              "      <td>6.0</td>\n",
              "      <td>15.0</td>\n",
              "      <td>4.0</td>\n",
              "      <td>0.0</td>\n",
              "      <td>0.0</td>\n",
              "      <td>0.0</td>\n",
              "      <td>2.0</td>\n",
              "      <td>1.0</td>\n",
              "      <td>13.0</td>\n",
              "      <td>13.0</td>\n",
              "      <td>0.0</td>\n",
              "      <td>0.0</td>\n",
              "      <td>0.0</td>\n",
              "      <td>0.0</td>\n",
              "      <td>0.0</td>\n",
              "      <td>2.0</td>\n",
              "      <td>15.0</td>\n",
              "      <td>11.0</td>\n",
              "      <td>1.0</td>\n",
              "      <td>0.0</td>\n",
              "      <td>0.0</td>\n",
              "      <td>0.0</td>\n",
              "      <td>0.0</td>\n",
              "      <td>0.0</td>\n",
              "      <td>1.0</td>\n",
              "      <td>12.0</td>\n",
              "      <td>12.0</td>\n",
              "      <td>1.0</td>\n",
              "      <td>0.0</td>\n",
              "      <td>0.0</td>\n",
              "      <td>0.0</td>\n",
              "      <td>0.0</td>\n",
              "      <td>0.0</td>\n",
              "      <td>1.0</td>\n",
              "      <td>10.0</td>\n",
              "      <td>8.0</td>\n",
              "      <td>0.0</td>\n",
              "      <td>0.0</td>\n",
              "      <td>0.0</td>\n",
              "      <td>8.0</td>\n",
              "      <td>4.0</td>\n",
              "      <td>5.0</td>\n",
              "      <td>14.0</td>\n",
              "      <td>9.0</td>\n",
              "      <td>0.0</td>\n",
              "      <td>0.0</td>\n",
              "      <td>0.0</td>\n",
              "      <td>7.0</td>\n",
              "      <td>13.0</td>\n",
              "      <td>13.0</td>\n",
              "      <td>9.0</td>\n",
              "      <td>0.0</td>\n",
              "      <td>0.0</td>\n",
              "    </tr>\n",
              "    <tr>\n",
              "      <th>4</th>\n",
              "      <td>0.0</td>\n",
              "      <td>0.0</td>\n",
              "      <td>0.0</td>\n",
              "      <td>1.0</td>\n",
              "      <td>11.0</td>\n",
              "      <td>0.0</td>\n",
              "      <td>0.0</td>\n",
              "      <td>0.0</td>\n",
              "      <td>0.0</td>\n",
              "      <td>0.0</td>\n",
              "      <td>0.0</td>\n",
              "      <td>7.0</td>\n",
              "      <td>8.0</td>\n",
              "      <td>0.0</td>\n",
              "      <td>0.0</td>\n",
              "      <td>0.0</td>\n",
              "      <td>0.0</td>\n",
              "      <td>0.0</td>\n",
              "      <td>1.0</td>\n",
              "      <td>13.0</td>\n",
              "      <td>6.0</td>\n",
              "      <td>2.0</td>\n",
              "      <td>2.0</td>\n",
              "      <td>0.0</td>\n",
              "      <td>0.0</td>\n",
              "      <td>0.0</td>\n",
              "      <td>7.0</td>\n",
              "      <td>15.0</td>\n",
              "      <td>0.0</td>\n",
              "      <td>9.0</td>\n",
              "      <td>8.0</td>\n",
              "      <td>0.0</td>\n",
              "      <td>0.0</td>\n",
              "      <td>5.0</td>\n",
              "      <td>16.0</td>\n",
              "      <td>10.0</td>\n",
              "      <td>0.0</td>\n",
              "      <td>16.0</td>\n",
              "      <td>6.0</td>\n",
              "      <td>0.0</td>\n",
              "      <td>0.0</td>\n",
              "      <td>4.0</td>\n",
              "      <td>15.0</td>\n",
              "      <td>16.0</td>\n",
              "      <td>13.0</td>\n",
              "      <td>16.0</td>\n",
              "      <td>1.0</td>\n",
              "      <td>0.0</td>\n",
              "      <td>0.0</td>\n",
              "      <td>0.0</td>\n",
              "      <td>0.0</td>\n",
              "      <td>3.0</td>\n",
              "      <td>15.0</td>\n",
              "      <td>10.0</td>\n",
              "      <td>0.0</td>\n",
              "      <td>0.0</td>\n",
              "      <td>0.0</td>\n",
              "      <td>0.0</td>\n",
              "      <td>0.0</td>\n",
              "      <td>2.0</td>\n",
              "      <td>16.0</td>\n",
              "      <td>4.0</td>\n",
              "      <td>0.0</td>\n",
              "      <td>0.0</td>\n",
              "    </tr>\n",
              "  </tbody>\n",
              "</table>\n",
              "</div>\n",
              "      <button class=\"colab-df-convert\" onclick=\"convertToInteractive('df-f8741644-0073-4f75-bbad-15c7a8c3640e')\"\n",
              "              title=\"Convert this dataframe to an interactive table.\"\n",
              "              style=\"display:none;\">\n",
              "        \n",
              "  <svg xmlns=\"http://www.w3.org/2000/svg\" height=\"24px\"viewBox=\"0 0 24 24\"\n",
              "       width=\"24px\">\n",
              "    <path d=\"M0 0h24v24H0V0z\" fill=\"none\"/>\n",
              "    <path d=\"M18.56 5.44l.94 2.06.94-2.06 2.06-.94-2.06-.94-.94-2.06-.94 2.06-2.06.94zm-11 1L8.5 8.5l.94-2.06 2.06-.94-2.06-.94L8.5 2.5l-.94 2.06-2.06.94zm10 10l.94 2.06.94-2.06 2.06-.94-2.06-.94-.94-2.06-.94 2.06-2.06.94z\"/><path d=\"M17.41 7.96l-1.37-1.37c-.4-.4-.92-.59-1.43-.59-.52 0-1.04.2-1.43.59L10.3 9.45l-7.72 7.72c-.78.78-.78 2.05 0 2.83L4 21.41c.39.39.9.59 1.41.59.51 0 1.02-.2 1.41-.59l7.78-7.78 2.81-2.81c.8-.78.8-2.07 0-2.86zM5.41 20L4 18.59l7.72-7.72 1.47 1.35L5.41 20z\"/>\n",
              "  </svg>\n",
              "      </button>\n",
              "      \n",
              "  <style>\n",
              "    .colab-df-container {\n",
              "      display:flex;\n",
              "      flex-wrap:wrap;\n",
              "      gap: 12px;\n",
              "    }\n",
              "\n",
              "    .colab-df-convert {\n",
              "      background-color: #E8F0FE;\n",
              "      border: none;\n",
              "      border-radius: 50%;\n",
              "      cursor: pointer;\n",
              "      display: none;\n",
              "      fill: #1967D2;\n",
              "      height: 32px;\n",
              "      padding: 0 0 0 0;\n",
              "      width: 32px;\n",
              "    }\n",
              "\n",
              "    .colab-df-convert:hover {\n",
              "      background-color: #E2EBFA;\n",
              "      box-shadow: 0px 1px 2px rgba(60, 64, 67, 0.3), 0px 1px 3px 1px rgba(60, 64, 67, 0.15);\n",
              "      fill: #174EA6;\n",
              "    }\n",
              "\n",
              "    [theme=dark] .colab-df-convert {\n",
              "      background-color: #3B4455;\n",
              "      fill: #D2E3FC;\n",
              "    }\n",
              "\n",
              "    [theme=dark] .colab-df-convert:hover {\n",
              "      background-color: #434B5C;\n",
              "      box-shadow: 0px 1px 3px 1px rgba(0, 0, 0, 0.15);\n",
              "      filter: drop-shadow(0px 1px 2px rgba(0, 0, 0, 0.3));\n",
              "      fill: #FFFFFF;\n",
              "    }\n",
              "  </style>\n",
              "\n",
              "      <script>\n",
              "        const buttonEl =\n",
              "          document.querySelector('#df-f8741644-0073-4f75-bbad-15c7a8c3640e button.colab-df-convert');\n",
              "        buttonEl.style.display =\n",
              "          google.colab.kernel.accessAllowed ? 'block' : 'none';\n",
              "\n",
              "        async function convertToInteractive(key) {\n",
              "          const element = document.querySelector('#df-f8741644-0073-4f75-bbad-15c7a8c3640e');\n",
              "          const dataTable =\n",
              "            await google.colab.kernel.invokeFunction('convertToInteractive',\n",
              "                                                     [key], {});\n",
              "          if (!dataTable) return;\n",
              "\n",
              "          const docLinkHtml = 'Like what you see? Visit the ' +\n",
              "            '<a target=\"_blank\" href=https://colab.research.google.com/notebooks/data_table.ipynb>data table notebook</a>'\n",
              "            + ' to learn more about interactive tables.';\n",
              "          element.innerHTML = '';\n",
              "          dataTable['output_type'] = 'display_data';\n",
              "          await google.colab.output.renderOutput(dataTable, element);\n",
              "          const docLink = document.createElement('div');\n",
              "          docLink.innerHTML = docLinkHtml;\n",
              "          element.appendChild(docLink);\n",
              "        }\n",
              "      </script>\n",
              "    </div>\n",
              "  </div>\n",
              "  "
            ],
            "text/plain": [
              "    0    1    2     3     4     5    6   ...   57   58    59    60    61   62   63\n",
              "0  0.0  0.0  5.0  13.0   9.0   1.0  0.0  ...  0.0  6.0  13.0  10.0   0.0  0.0  0.0\n",
              "1  0.0  0.0  0.0  12.0  13.0   5.0  0.0  ...  0.0  0.0  11.0  16.0  10.0  0.0  0.0\n",
              "2  0.0  0.0  0.0   4.0  15.0  12.0  0.0  ...  0.0  0.0   3.0  11.0  16.0  9.0  0.0\n",
              "3  0.0  0.0  7.0  15.0  13.0   1.0  0.0  ...  0.0  7.0  13.0  13.0   9.0  0.0  0.0\n",
              "4  0.0  0.0  0.0   1.0  11.0   0.0  0.0  ...  0.0  0.0   2.0  16.0   4.0  0.0  0.0\n",
              "\n",
              "[5 rows x 64 columns]"
            ]
          },
          "metadata": {},
          "execution_count": 3
        }
      ],
      "source": [
        "# Let's use relvant keys from the data dictionary to fetch features and labels\n",
        "features= data['data']\n",
        "features=pd.DataFrame(features)\n",
        "labels=data[\"target\"]\n",
        "labels=pd.Series(labels)\n",
        "features.head()\n"
      ]
    },
    {
      "cell_type": "code",
      "execution_count": 4,
      "metadata": {
        "id": "C3Hzmbxwvpoy",
        "outputId": "233c8c9a-4c69-4e2a-84e0-995d9719a481",
        "colab": {
          "base_uri": "https://localhost:8080/"
        }
      },
      "outputs": [
        {
          "output_type": "execute_result",
          "data": {
            "text/plain": [
              "0    0\n",
              "1    1\n",
              "2    2\n",
              "3    3\n",
              "4    4\n",
              "5    5\n",
              "6    6\n",
              "7    7\n",
              "8    8\n",
              "9    9\n",
              "dtype: int64"
            ]
          },
          "metadata": {},
          "execution_count": 4
        }
      ],
      "source": [
        "labels.head(10)"
      ]
    },
    {
      "cell_type": "code",
      "execution_count": 5,
      "metadata": {
        "id": "7dK1jK-Ovpoz",
        "outputId": "f47d2698-3a70-4852-ca9e-821517f6e2a6",
        "colab": {
          "base_uri": "https://localhost:8080/",
          "height": 239
        }
      },
      "outputs": [
        {
          "output_type": "display_data",
          "data": {
            "image/png": "[encoded data removed]",
            "text/plain": [
              "<Figure size 432x288 with 8 Axes>"
            ]
          },
          "metadata": {
            "needs_background": "light"
          }
        }
      ],
      "source": [
        "# Using matplotlib to visualize some of the images in the dataset\n",
        "array=[[0,100,200,300],\n",
        "       [1000,1100,1200,1300]]\n",
        "pos=1\n",
        "for i in range(len(array)):\n",
        "    row=array[0]\n",
        "    for element in row:\n",
        "        first_image=features.iloc[element]\n",
        "        np_image=first_image.values\n",
        "        np_image=np_image.reshape(8,8)\n",
        "        ax=plt.subplot(2,4,pos)\n",
        "        ax.imshow(np_image,cmap='gray_r')\n",
        "        pos+=1\n",
        "plt.show()"
      ]
    },
    {
      "cell_type": "markdown",
      "source": [
        "# KNeighbors Classification"
      ],
      "metadata": {
        "id": "Rmt_xFyvfaFd"
      }
    },
    {
      "cell_type": "markdown",
      "source": [
        "While linear and logistic regression models make assumptions about the linearity between the features and the output labels, the k-nearest neighbors algorithm make no such assumption. This allows them to capture nonlinearity in the data. K-nearest neighbors don't have a specific model representation (hence it's referred to as an algorithm and not a model).\n",
        "\n",
        "The k-nearest neighbors algorithm compares every unseen observation in the test set to all (or many, as some implementations constrain the search space) training observations to look for similar (or the \"nearest\") observations. Then, the algorithm finds the label with the most nearby observations and assigns that as the prediction for the unseen observation."
      ],
      "metadata": {
        "id": "Nb3cjF18S9Jz"
      }
    },
    {
      "cell_type": "markdown",
      "source": [
        "Let's:\n",
        "1. Write a function named `train()` that uses KNeighborsClassifer for training k-nearest neighbors models\n",
        "2. Write a function named `test`() that tests the model\n",
        "3. Write a function named `cross_validate`() that performs 4-fold cross validation using `train`() and `test`()"
      ],
      "metadata": {
        "id": "ID8SPoqwTPoK"
      }
    },
    {
      "cell_type": "code",
      "source": [
        "from sklearn.neighbors import KNeighborsClassifier\n",
        "from sklearn.model_selection import KFold\n",
        "from sklearn.metrics import accuracy_score\n",
        "\n",
        "def train(train_features, train_labels,nneighbors=5):\n",
        "  knn=KNeighborsClassifier(n_neighbors=nneighbors)\n",
        "  knn.fit(train_features,train_labels)\n",
        "  return knn\n",
        "\n",
        "def test(model,test_features,test_labels):  \n",
        "  predictions=model.predict(test_features)\n",
        "  accuracy=accuracy_score(test_labels,predictions)\n",
        "  return round(accuracy*100,2)\n",
        "  \n",
        "def cross_validate(k=4):\n",
        "  kf=KFold(n_splits=k,random_state=1,shuffle=True)\n",
        "  accuracies=[]\n",
        "  for train_index, test_index in kf.split(features):\n",
        "    X_train, y_train= features.loc[train_index],labels.loc[train_index]\n",
        "    X_test, y_test = features.loc[test_index],labels.loc[test_index]\n",
        "    model=train(X_train,y_train)\n",
        "    accuracies.append(test(model,X_test,y_test))\n",
        "  return accuracies\n",
        "\n",
        "cross_validate()"
      ],
      "metadata": {
        "colab": {
          "base_uri": "https://localhost:8080/"
        },
        "id": "vUQIYBxXwYnD",
        "outputId": "c2c1cbe3-0115-49e2-d6a0-084558abe945"
      },
      "execution_count": 6,
      "outputs": [
        {
          "output_type": "execute_result",
          "data": {
            "text/plain": [
              "[99.33, 97.1, 98.66, 98.22]"
            ]
          },
          "metadata": {},
          "execution_count": 6
        }
      ]
    },
    {
      "cell_type": "markdown",
      "source": [
        "Let's now use the functions above to cross validate our algorithm. We'll use KFolds Cross Validation technique to see how our algorithm performs on different test sets created from the data by the KFold method. "
      ],
      "metadata": {
        "id": "Ehb0a3wmURcw"
      }
    },
    {
      "cell_type": "code",
      "source": [
        "folds=list(range(2,30,2))\n",
        "mean_accuracies=[]\n",
        "for k in folds:\n",
        "  accuracies=cross_validate(k)\n",
        "  mean_accuracy=np.mean(accuracies)\n",
        "  mean_accuracies.append(mean_accuracy)\n",
        "plt.figure(figsize=(8,4))\n",
        "plt.plot(folds,mean_accuracies)\n",
        "plt.ylabel(\"Avg. Accuracy\")\n",
        "plt.xlabel(\"Number of Folds/k\")\n",
        "plt.title(\"Avg. Accuracy Versus Number of Folds\",size=14)\n",
        "plt.show()\n",
        "\n"
      ],
      "metadata": {
        "colab": {
          "base_uri": "https://localhost:8080/",
          "height": 296
        },
        "id": "CrTToKxn5OxD",
        "outputId": "067e2e97-8a44-476c-94bb-7f9d0979e102"
      },
      "execution_count": 7,
      "outputs": [
        {
          "output_type": "display_data",
          "data": {
            "image/png": "[encoded data removed]",
            "text/plain": [
              "<Figure size 576x288 with 1 Axes>"
            ]
          },
          "metadata": {
            "needs_background": "light"
          }
        }
      ]
    },
    {
      "cell_type": "markdown",
      "source": [
        "The above graph shows:\n",
        "- Average accuracy of our algorithm improved as we increased number of folds from 2 to 10 (we decrease bias by splitting our dataset in many train/test samples)\n",
        "- Average accuracy stabalized after 10 folds (after decent number of splits, the scope of bais control limits and accuracy stabalizes)\n"
      ],
      "metadata": {
        "id": "9em9Qs_uU6OB"
      }
    },
    {
      "cell_type": "markdown",
      "source": [
        "# Feedforward Neural Network/MLP Classifier\n",
        "\n",
        "There are a few downsides to using k-nearest neighbors:\n",
        "\n",
        "1. High memory usage (for each new unseen observation, many comparisons need to be made to seen observations)\n",
        "2. No model representation to debug and explore\n",
        "3. Let's now try a neural network with a single hidden layer. We'll use the `MLPClassifier` package from scikit-learn."
      ],
      "metadata": {
        "id": "8mFqCsAsf-sZ"
      }
    },
    {
      "cell_type": "code",
      "source": [
        "from sklearn.neural_network import MLPClassifier\n",
        "\n",
        "def train(train_features, train_labels, nneurons=(5,)):\n",
        "  mlp=MLPClassifier(hidden_layer_sizes=(nneurons))\n",
        "  mlp.fit(train_features,train_labels)\n",
        "  return mlp\n",
        "\n",
        "def test(model,test_features,test_labels):\n",
        "  predictions=model.predict(test_features)\n",
        "  accuracy=accuracy_score(test_labels,predictions)\n",
        "  return accuracy\n",
        "\n",
        "def cross_validate(k,nneurons):\n",
        "  kf=KFold(n_splits=k,random_state=1,shuffle=True)\n",
        "  test_accuracies=[]\n",
        "  train_accuracies=[]\n",
        "  for train_index, test_index in kf.split(features):\n",
        "    X_train, y_train= features.loc[train_index],labels.loc[train_index]\n",
        "    X_test, y_test = features.loc[test_index],labels.loc[test_index]\n",
        "    model=train(X_train,y_train,nneurons)\n",
        "    test_accuracies.append(test(model,X_test,y_test))\n",
        "    train_accuracies.append(test(model,X_train,y_train))\n",
        "  \n",
        "  return test_accuracies,train_accuracies\n"
      ],
      "metadata": {
        "id": "Q0n88e0UePoN"
      },
      "execution_count": 8,
      "outputs": []
    },
    {
      "cell_type": "markdown",
      "source": [
        "Using 4-fold cross validation let's now:\n",
        "\n",
        "- Train and test a neural network model using a single hidden layer of 8 neurons.\n",
        "- Train and test a neural network model using a single hidden layer of 16 neurons.\n",
        "- Train and test a neural network model using a single hidden layer of 32 neurons.\n",
        "- Train and test a neural network model using a single hidden layer of 64 neurons.\n",
        "- Train and test a neural network model using a single hidden layer of 128 neurons.\n",
        "- Train and test a neural network model using a single hidden layer of 256 neurons."
      ],
      "metadata": {
        "id": "MTMfGureWgPB"
      }
    },
    {
      "cell_type": "code",
      "source": [
        "nneurons=[(8,),\n",
        "          (16,),\n",
        "          (32,),\n",
        "          (64,),\n",
        "          (128,),\n",
        "          (256,)]\n",
        "test_accuracies=[]\n",
        "train_accuracies=[]\n",
        "for nneuron in nneurons:\n",
        "  test_accuracy,train_accuracy=cross_validate(4,nneuron)\n",
        "  test_accuracies.append(test_accuracy)\n",
        "  train_accuracies.append(train_accuracy)\n",
        "  \n",
        "mean_test_accuracy=np.mean(test_accuracies,axis=1)\n",
        "mean_train_accuracy=np.mean(train_accuracies,axis=1)\n",
        "plt.plot(nneurons,mean_test_accuracy,label=\"test\")\n",
        "plt.plot(nneurons,mean_train_accuracy,label=\"train\")\n",
        "plt.xlabel(\"Number of Neurons\")\n",
        "plt.ylabel(\"Accuracy\")\n",
        "plt.title(\"Accuracy Versus Number of Neurons\")\n",
        "plt.legend()\n",
        "plt.show()"
      ],
      "metadata": {
        "colab": {
          "base_uri": "https://localhost:8080/",
          "height": 295
        },
        "id": "L39k0wHHhINp",
        "outputId": "fe7ccb51-4069-4011-bb7f-53a3a4c7cc1a"
      },
      "execution_count": 9,
      "outputs": [
        {
          "output_type": "display_data",
          "data": {
            "image/png": "[encoded data removed]",
            "text/plain": [
              "<Figure size 432x288 with 1 Axes>"
            ]
          },
          "metadata": {
            "needs_background": "light"
          }
        }
      ]
    },
    {
      "cell_type": "markdown",
      "source": [
        "Above graphs shows that:\n",
        "1. Adding more neurons to a single hidden layer vastly improved the classification accuracy\n",
        "2. When number of neurons in our single hidden layer model were low, accuracies for both test and train sets were at lower side\n",
        "3. The difference between train and test accuracies at different number of neurons seems similar and is not very large. This means: \n",
        "   - MLP classifier with one hidden layer is not overfitting extravagently\n",
        "   - Regardless of the number of neurons in the hidden layer, the extent of overfitting remains the same \n",
        "   - Accuracies of individual sets increase initialy and converge as number of neurons increase "
      ],
      "metadata": {
        "id": "SfuVbiiWvESW"
      }
    },
    {
      "cell_type": "markdown",
      "source": [
        "Let's try using two hidden layers (each containing 64 neurons) and perfrom 4 fold validation.\n"
      ],
      "metadata": {
        "id": "JANRvhD8ZUnN"
      }
    },
    {
      "cell_type": "code",
      "source": [
        "nneurons=(64,64)\n",
        "\n",
        "test_accuracy,train_accuracy=cross_validate(4,nneurons)\n",
        "plt.plot([1,2,3,4],test_accuracy,label=\"test\")\n",
        "plt.plot([1,2,3,4],train_accuracy,label=\"train\")\n",
        "plt.xlabel(\"Fold\")\n",
        "plt.ylabel(\"Accuracy\")\n",
        "plt.title(\"Accuracy With 2 Hidden Layers & 64 Neurons\")\n",
        "plt.xticks([1,2,3,4])\n",
        "plt.legend(bbox_to_anchor=(1,1))\n",
        "plt.show()"
      ],
      "metadata": {
        "colab": {
          "base_uri": "https://localhost:8080/",
          "height": 295
        },
        "id": "56CniHonnY5i",
        "outputId": "862f6df2-84f2-4b12-c167-880e84808089"
      },
      "execution_count": 10,
      "outputs": [
        {
          "output_type": "display_data",
          "data": {
            "image/png": "[encoded data removed]",
            "text/plain": [
              "<Figure size 432x288 with 1 Axes>"
            ]
          },
          "metadata": {
            "needs_background": "light"
          }
        }
      ]
    },
    {
      "cell_type": "markdown",
      "source": [
        "The above graph shows that:\n",
        "1. Two hidden layers are overfitting (better accuracy on training set)\n",
        "2. Two hidden layers perfromed almost as good as single layer did with 64 neurons "
      ],
      "metadata": {
        "id": "8KAZCByYZl7l"
      }
    },
    {
      "cell_type": "markdown",
      "source": [
        "Using more hidden layers is known to increase the amount of overfitting that happens. To help us prevent overfitting, let's increase the number of folds we use for k-fold cross validation to 6 while testing networks with 3 hidden layers"
      ],
      "metadata": {
        "id": "9snslVJeaDnr"
      }
    },
    {
      "cell_type": "code",
      "source": [
        "nneurons = [\n",
        "    (10, 10, 10),\n",
        "    (64, 64, 64),\n",
        "    (128, 128, 128)\n",
        "]\n",
        "\n",
        "test_accuracies=[]\n",
        "train_accuracies=[]\n",
        "for nneuron in nneurons:\n",
        "  test_accuracy,train_accuracy=cross_validate(6,nneuron)\n",
        "  test_accuracies.append(test_accuracy)\n",
        "  train_accuracies.append(train_accuracy)\n",
        "  \n",
        "mean_test_accuracy=np.mean(test_accuracies,axis=1)\n",
        "mean_train_accuracy=np.mean(train_accuracies,axis=1)\n",
        "plt.plot([10,64,128],mean_test_accuracy,label='test')\n",
        "plt.plot([10,64,128],mean_train_accuracy,label='train')\n",
        "plt.xlabel(\"Number of Neurons\")\n",
        "plt.ylabel(\"Avg. Accuracy\")\n",
        "plt.title(\"Avg. Accuracy Versus Number of Neurons (3 Hidden Layers)\")\n",
        "plt.legend()\n",
        "plt.show()\n",
        "  \n"
      ],
      "metadata": {
        "colab": {
          "base_uri": "https://localhost:8080/",
          "height": 295
        },
        "id": "-a8Qbn4Re0GI",
        "outputId": "140717c1-fdae-41a2-b23c-db34d124213e"
      },
      "execution_count": 11,
      "outputs": [
        {
          "output_type": "display_data",
          "data": {
            "image/png": "[encoded data removed]",
            "text/plain": [
              "<Figure size 432x288 with 1 Axes>"
            ]
          },
          "metadata": {
            "needs_background": "light"
          }
        }
      ]
    },
    {
      "cell_type": "markdown",
      "source": [
        "Above graph shows that:\n",
        "- Increasing hidden layers from 2 to 3 redcued the difference between train test accuracies (it reduced the problem of overfitting)\n",
        "- Moreover, average test accuracy appraoched 98% even with 6 folds cross validation (indicating that the model is generalizing fairly well). "
      ],
      "metadata": {
        "id": "wWPrx5vWpbUQ"
      }
    }
  ],
  "metadata": {
    "anaconda-cloud": {},
    "kernelspec": {
      "display_name": "Python 3",
      "language": "python",
      "name": "python3"
    },
    "language_info": {
      "codemirror_mode": {
        "name": "ipython",
        "version": 3
      },
      "file_extension": ".py",
      "mimetype": "text/x-python",
      "name": "python",
      "nbconvert_exporter": "python",
      "pygments_lexer": "ipython3",
      "version": "3.8.2"
    },
    "colab": {
      "name": "Building A Handwritten Digits Classifier.ipynb",
      "provenance": [],
      "collapsed_sections": []
    }
  },
  "nbformat": 4,
  "nbformat_minor": 0
}