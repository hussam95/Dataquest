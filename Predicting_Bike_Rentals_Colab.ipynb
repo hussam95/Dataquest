{
  "cells": [
    {
      "cell_type": "markdown",
      "source": [
        "# Background\n",
        "Many U.S. cities have communal bike sharing stations where you can rent bicycles by the hour or day. Washington, D.C. is one of these cities. The District collects detailed [data](http://archive.ics.uci.edu/ml/datasets/Bike+Sharing+Dataset) on the number of bicycles people rent by the hour and day.\n",
        "\n",
        "In this project, I'll try to predict the total number of bikes people rented in a given hour. I'll predict the **`cnt`** column using all of the other columns, except for `casual` and `registered` (they leak information about total number of bikes rented). To accomplish this, I'll create a few different machine learning models and evaluate their performance."
      ],
      "metadata": {
        "id": "OlN8FUnbR68H"
      }
    },
    {
      "cell_type": "markdown",
      "source": [
        "Let's begin by:\n",
        "\n",
        "1. Using the pandas library to read bike_rental_hour.csv into the dataframe bike_rentals.\n",
        "2. Printing out the first few rows of bike_rentals and take a look at the data.\n",
        "3. Making a histogram of the cnt column of bike_rentals, and take a look at the distribution of total rentals.\n",
        "4. Using the `corr` method on the bike_rentals dataframe to explore how each column is correlated with `cnt`.\n",
        "5. Displaying the heatmap of correlations using `sns.heatmap()`"
      ],
      "metadata": {
        "id": "uDeYIM_ZS921"
      }
    },
    {
      "cell_type": "code",
      "execution_count": 1,
      "metadata": {
        "id": "FON3Ku1_-l1A"
      },
      "outputs": [],
      "source": [
        "import pandas as pd\n",
        "import numpy as np\n",
        "import matplotlib.pyplot as plt\n",
        "import seaborn as sns"
      ]
    },
    {
      "cell_type": "code",
      "execution_count": 2,
      "metadata": {
        "colab": {
          "base_uri": "https://localhost:8080/",
          "height": 206
        },
        "id": "T2nKXpsk-l1Y",
        "outputId": "2fe9c113-8565-48a4-c817-6cec7592fc59"
      },
      "outputs": [
        {
          "output_type": "execute_result",
          "data": {
            "text/html": [
              "<div>\n",
              "<style scoped>\n",
              "    .dataframe tbody tr th:only-of-type {\n",
              "        vertical-align: middle;\n",
              "    }\n",
              "\n",
              "    .dataframe tbody tr th {\n",
              "        vertical-align: top;\n",
              "    }\n",
              "\n",
              "    .dataframe thead th {\n",
              "        text-align: right;\n",
              "    }\n",
              "</style>\n",
              "<table border=\"1\" class=\"dataframe\">\n",
              "  <thead>\n",
              "    <tr style=\"text-align: right;\">\n",
              "      <th></th>\n",
              "      <th>instant</th>\n",
              "      <th>dteday</th>\n",
              "      <th>season</th>\n",
              "      <th>yr</th>\n",
              "      <th>mnth</th>\n",
              "      <th>hr</th>\n",
              "      <th>holiday</th>\n",
              "      <th>weekday</th>\n",
              "      <th>workingday</th>\n",
              "      <th>weathersit</th>\n",
              "      <th>temp</th>\n",
              "      <th>atemp</th>\n",
              "      <th>hum</th>\n",
              "      <th>windspeed</th>\n",
              "      <th>casual</th>\n",
              "      <th>registered</th>\n",
              "      <th>cnt</th>\n",
              "    </tr>\n",
              "  </thead>\n",
              "  <tbody>\n",
              "    <tr>\n",
              "      <th>0</th>\n",
              "      <td>1</td>\n",
              "      <td>2011-01-01</td>\n",
              "      <td>1</td>\n",
              "      <td>0</td>\n",
              "      <td>1</td>\n",
              "      <td>0</td>\n",
              "      <td>0</td>\n",
              "      <td>6</td>\n",
              "      <td>0</td>\n",
              "      <td>1</td>\n",
              "      <td>0.24</td>\n",
              "      <td>0.2879</td>\n",
              "      <td>0.81</td>\n",
              "      <td>0.0</td>\n",
              "      <td>3</td>\n",
              "      <td>13</td>\n",
              "      <td>16</td>\n",
              "    </tr>\n",
              "    <tr>\n",
              "      <th>1</th>\n",
              "      <td>2</td>\n",
              "      <td>2011-01-01</td>\n",
              "      <td>1</td>\n",
              "      <td>0</td>\n",
              "      <td>1</td>\n",
              "      <td>1</td>\n",
              "      <td>0</td>\n",
              "      <td>6</td>\n",
              "      <td>0</td>\n",
              "      <td>1</td>\n",
              "      <td>0.22</td>\n",
              "      <td>0.2727</td>\n",
              "      <td>0.80</td>\n",
              "      <td>0.0</td>\n",
              "      <td>8</td>\n",
              "      <td>32</td>\n",
              "      <td>40</td>\n",
              "    </tr>\n",
              "    <tr>\n",
              "      <th>2</th>\n",
              "      <td>3</td>\n",
              "      <td>2011-01-01</td>\n",
              "      <td>1</td>\n",
              "      <td>0</td>\n",
              "      <td>1</td>\n",
              "      <td>2</td>\n",
              "      <td>0</td>\n",
              "      <td>6</td>\n",
              "      <td>0</td>\n",
              "      <td>1</td>\n",
              "      <td>0.22</td>\n",
              "      <td>0.2727</td>\n",
              "      <td>0.80</td>\n",
              "      <td>0.0</td>\n",
              "      <td>5</td>\n",
              "      <td>27</td>\n",
              "      <td>32</td>\n",
              "    </tr>\n",
              "    <tr>\n",
              "      <th>3</th>\n",
              "      <td>4</td>\n",
              "      <td>2011-01-01</td>\n",
              "      <td>1</td>\n",
              "      <td>0</td>\n",
              "      <td>1</td>\n",
              "      <td>3</td>\n",
              "      <td>0</td>\n",
              "      <td>6</td>\n",
              "      <td>0</td>\n",
              "      <td>1</td>\n",
              "      <td>0.24</td>\n",
              "      <td>0.2879</td>\n",
              "      <td>0.75</td>\n",
              "      <td>0.0</td>\n",
              "      <td>3</td>\n",
              "      <td>10</td>\n",
              "      <td>13</td>\n",
              "    </tr>\n",
              "    <tr>\n",
              "      <th>4</th>\n",
              "      <td>5</td>\n",
              "      <td>2011-01-01</td>\n",
              "      <td>1</td>\n",
              "      <td>0</td>\n",
              "      <td>1</td>\n",
              "      <td>4</td>\n",
              "      <td>0</td>\n",
              "      <td>6</td>\n",
              "      <td>0</td>\n",
              "      <td>1</td>\n",
              "      <td>0.24</td>\n",
              "      <td>0.2879</td>\n",
              "      <td>0.75</td>\n",
              "      <td>0.0</td>\n",
              "      <td>0</td>\n",
              "      <td>1</td>\n",
              "      <td>1</td>\n",
              "    </tr>\n",
              "  </tbody>\n",
              "</table>\n",
              "</div>"
            ],
            "text/plain": [
              "   instant      dteday  season  yr  ...  windspeed  casual  registered  cnt\n",
              "0        1  2011-01-01       1   0  ...        0.0       3          13   16\n",
              "1        2  2011-01-01       1   0  ...        0.0       8          32   40\n",
              "2        3  2011-01-01       1   0  ...        0.0       5          27   32\n",
              "3        4  2011-01-01       1   0  ...        0.0       3          10   13\n",
              "4        5  2011-01-01       1   0  ...        0.0       0           1    1\n",
              "\n",
              "[5 rows x 17 columns]"
            ]
          },
          "metadata": {},
          "execution_count": 2
        }
      ],
      "source": [
        "bike_rentals= pd.read_csv('bike_rental_hour.csv')\n",
        "bike_rentals.head()"
      ]
    },
    {
      "cell_type": "code",
      "execution_count": 3,
      "metadata": {
        "colab": {
          "base_uri": "https://localhost:8080/",
          "height": 295
        },
        "id": "wWiGGnwV-l1f",
        "outputId": "a59e4985-b3a9-4b56-9b35-050dbf9d0df0"
      },
      "outputs": [
        {
          "output_type": "display_data",
          "data": {
            "image/png": "[encoded data removed]",
            "text/plain": [
              "<Figure size 432x288 with 1 Axes>"
            ]
          },
          "metadata": {
            "needs_background": "light"
          }
        }
      ],
      "source": [
        "%matplotlib inline\n",
        "plt.hist(bike_rentals['cnt'])\n",
        "plt.xlabel('Bike Counts')\n",
        "plt.title('Bike Rentals Distribution/hr')\n",
        "plt.xticks([i for i in range(100,1100,100)])\n",
        "plt.show()"
      ]
    },
    {
      "cell_type": "markdown",
      "source": [
        "Above histogram shows that number of bikes (target column) that go for rent on any given hour in Washington are more often less than 200."
      ],
      "metadata": {
        "id": "tZcTEmx9TZZ1"
      }
    },
    {
      "cell_type": "code",
      "execution_count": 4,
      "metadata": {
        "colab": {
          "base_uri": "https://localhost:8080/",
          "height": 334
        },
        "id": "1JsHaHRt-l1g",
        "outputId": "a5b8d179-0f31-403a-a0e6-21244dcf18c0"
      },
      "outputs": [
        {
          "output_type": "execute_result",
          "data": {
            "text/plain": [
              "<matplotlib.axes._subplots.AxesSubplot at 0x7fbe0a3d7c90>"
            ]
          },
          "metadata": {},
          "execution_count": 4
        },
        {
          "output_type": "display_data",
          "data": {
            "image/png": "[encoded data removed]",
            "text/plain": [
              "<Figure size 432x288 with 2 Axes>"
            ]
          },
          "metadata": {
            "needs_background": "light"
          }
        }
      ],
      "source": [
        "correlations=bike_rentals.corr()\n",
        "sns.heatmap(correlations)"
      ]
    },
    {
      "cell_type": "markdown",
      "source": [
        "The above heatmap shows that `cnt` column has some sort of correlation with almost all other columns in our dataset. It also shows that the strongest correlation columns are `casual` and `registered` which we will ignore as they are the subsets of `cnt` column. Using these two columns will give rise to **underfitting (high bias)** as our models will not be informative enough to make predictions on real life situation which involves many variables."
      ],
      "metadata": {
        "id": "YS-AJqTRWTDb"
      }
    },
    {
      "cell_type": "markdown",
      "source": [
        "It can often be helpful to calculate features before applying machine learning models. Features can enhance the accuracy of models by introducing new information or distilling existing information.\n",
        "\n",
        "For example, the `hr` column in `bike_rentals` contains the hours during which bikes are rented, from 1 to 24. A machine treats each hour differently, without understanding that certain hours are related. We can introduce some order into the process by creating a new column with labels for morning, afternoon, evening, and night. This bundles similar times together, enabling the model to make better decisions. \n",
        "\n",
        "Let's write a function called `assign_label` that takes in a numeric value for an hour, and returns:\n",
        "- 1 if the hour is from 6 to 12\n",
        "- 2 if the hour is from 12 to 18\n",
        "- 3 if the hour is from 18 to 24\n",
        "- 4 if the hour is from 0 to 6\n",
        "\n",
        "Let's use the apply method on series objects to apply the function to each item in the hr column.\n",
        "Finally, let's assign the result to the `time_label` column of `bike_rentals`"
      ],
      "metadata": {
        "id": "ZFy27_I3Xy9l"
      }
    },
    {
      "cell_type": "code",
      "execution_count": 5,
      "metadata": {
        "id": "K1WH3fz_-l1h"
      },
      "outputs": [],
      "source": [
        "def assign_label(hour):\n",
        "    if hour >=6 and hour <12:\n",
        "        return 1\n",
        "    elif hour >=12 and hour<18:\n",
        "        return 2\n",
        "    elif hour >=18 and hour < 24:\n",
        "        return 3\n",
        "    elif hour >=0 and hour <6:\n",
        "        return 4\n",
        "    \n",
        "bike_rentals['time_label']=bike_rentals['hr'].apply(assign_label)"
      ]
    },
    {
      "cell_type": "markdown",
      "source": [
        "Before applying machine learning algorithms, I'll need to split the data into training and testing sets. This will enable me to train an algorithm using the training set, and evaluate its accuracy on the testing set. If I train an algorithm on the training data, then evaluate its performance on the same data, I can get an unrealistically low error value, due to overfitting.\n",
        "\n",
        "Let's now:\n",
        "\n",
        "- Select 80% of the rows in bike_rentals to be part of the training set using the sample method on bike_rentals. Assign the result to train.\n",
        "- Select the rows that are in bike_rentals but not in train to be in the testing set. Assign the result to test.\n",
        "- This line generates a Boolean series that's False when a row in bike_rentals isn't found in train: `bike_rentals.index.isin(train.index)`\n",
        "- This line selects any rows in bike_rentals that aren't found in train to be in the testing set: `bike_rentals.loc[~bike_rentals.index.isin(train.index)]`"
      ],
      "metadata": {
        "id": "vHxGdBatYX5B"
      }
    },
    {
      "cell_type": "code",
      "execution_count": 6,
      "metadata": {
        "colab": {
          "base_uri": "https://localhost:8080/"
        },
        "id": "NUMlJaca-l1i",
        "outputId": "0961672c-ed3a-4211-a6c6-2e9669975584"
      },
      "outputs": [
        {
          "output_type": "execute_result",
          "data": {
            "text/plain": [
              "13903"
            ]
          },
          "metadata": {},
          "execution_count": 6
        }
      ],
      "source": [
        "train=bike_rentals.sample(frac=0.8)\n",
        "len(train)"
      ]
    },
    {
      "cell_type": "code",
      "execution_count": 7,
      "metadata": {
        "colab": {
          "base_uri": "https://localhost:8080/"
        },
        "id": "D9z4OSGo-l1k",
        "outputId": "c3ea235c-f58c-490d-e308-70be4b67b4fb"
      },
      "outputs": [
        {
          "output_type": "execute_result",
          "data": {
            "text/plain": [
              "3476"
            ]
          },
          "metadata": {},
          "execution_count": 7
        }
      ],
      "source": [
        "test=bike_rentals.loc[~bike_rentals.index.isin(train.index)]\n",
        "len(test)"
      ]
    },
    {
      "cell_type": "markdown",
      "source": [
        "Now we are ready to try different machine learning algorithms on our training set. At this point it is important to define an error metric to test the accuracy of different models we are going to build. **Given the continuous nature of our target column `cnt`, I will use Root Mean Square Error (RMSE) as the error metric for all my models.**"
      ],
      "metadata": {
        "id": "hoBmV1SUZILT"
      }
    },
    {
      "cell_type": "code",
      "execution_count": 8,
      "metadata": {
        "id": "n2zeQ0uL-l1l"
      },
      "outputs": [],
      "source": [
        "from sklearn.linear_model import LinearRegression\n",
        "from sklearn.tree import DecisionTreeRegressor\n",
        "from sklearn.ensemble import RandomForestRegressor\n",
        "from sklearn.metrics import mean_squared_error\n",
        "from sklearn.model_selection import KFold, cross_val_score"
      ]
    },
    {
      "cell_type": "markdown",
      "source": [
        "# Linear Model"
      ],
      "metadata": {
        "id": "OuECHNcf_D5X"
      }
    },
    {
      "cell_type": "markdown",
      "source": [
        "Linear regression works fairly well on this data, given that many of the columns are highly correlated with `cnt`.\n",
        "\n",
        "Linear regression works best when predictors are linearly correlated to the target and also independent -- in other words, they don't change meaning when we combine them with each other. The good thing about linear regression is that it's fairly resistant to overfitting because it's straightforward. It also can be prone to underfitting the data, however, and not building a powerful enough model. This means that linear regression usually isn't the most accurate option.\n",
        "\n",
        "As mentioned before, I need to ignore the `casual` and `registered` columns because `cnt` is derived from them. If I'm trying to predict the number of people who rent bikes in a given hour (`cnt`), it doesn't make sense that I'd already know casual or registered, because those numbers are added together to get cnt."
      ],
      "metadata": {
        "id": "FwzHea0MZsV2"
      }
    },
    {
      "cell_type": "code",
      "execution_count": 9,
      "metadata": {
        "colab": {
          "base_uri": "https://localhost:8080/"
        },
        "id": "vsYysTeX-l1p",
        "outputId": "201c5928-929f-49bd-debf-a53d750a122b"
      },
      "outputs": [
        {
          "output_type": "stream",
          "name": "stdout",
          "text": [
            "132.1435838227575 test rmse\n",
            "132.21645316606612 train rmse\n"
          ]
        }
      ],
      "source": [
        "rmses={}\n",
        "attributes=train.columns.drop(['cnt','casual',\n",
        "                               'dteday','registered',\n",
        "                              ])\n",
        "target='cnt'\n",
        "\n",
        "model=LinearRegression()\n",
        "model.fit(train[attributes],train[target])\n",
        "predictions=model.predict(test[attributes])\n",
        "mse=mean_squared_error(test[target],predictions)\n",
        "print(mse**(1/2),'test rmse')\n",
        "\n",
        "predictions_train= model.predict(train[attributes])\n",
        "mse_train=mean_squared_error(train[target],predictions_train)\n",
        "print(mse_train**(1/2),'train rmse')\n",
        "\n",
        "rmses['Linear Model']=[mse**(1/2),mse_train**(1/2)]"
      ]
    },
    {
      "cell_type": "markdown",
      "source": [
        "The results here confirm above mentioned observations:\n",
        "\n",
        "- Linear model seems to underfit as RMSE value is very high\n",
        "- Linear model appears less greedy as difference between RMSE train and RMSE test is very little"
      ],
      "metadata": {
        "id": "yUVOIxx8aGtS"
      }
    },
    {
      "cell_type": "markdown",
      "source": [
        "# Simple Decision Tree"
      ],
      "metadata": {
        "id": "hmjsfLFH_Ivt"
      }
    },
    {
      "cell_type": "markdown",
      "source": [
        "Decision trees tend to predict outcomes much more reliably than linear regression models, because a decision tree is a fairly complex model, it also tends to overfit, particularly when we don't tweak parameters like maximum depth and minimum number of samples per leaf. Decision trees are also prone to instability -- small changes in the input data can result in a very different output model."
      ],
      "metadata": {
        "id": "FRycSvO8afKP"
      }
    },
    {
      "cell_type": "code",
      "execution_count": 10,
      "metadata": {
        "colab": {
          "base_uri": "https://localhost:8080/"
        },
        "id": "tK2MfE8B-l1q",
        "outputId": "0a69c38f-d8bd-418a-f76e-06cd701d3494"
      },
      "outputs": [
        {
          "output_type": "stream",
          "name": "stdout",
          "text": [
            "51.5879584992927 rmse test\n",
            "31.899369690766203 rmse train\n"
          ]
        }
      ],
      "source": [
        "model= DecisionTreeRegressor(min_samples_leaf=5)\n",
        "model.fit(train[attributes],train[target])\n",
        "predictions=model.predict(test[attributes])\n",
        "mse=mean_squared_error(test[target],predictions)\n",
        "print(mse**(1/2),'rmse test')\n",
        "\n",
        "predictions_train=model.predict(train[attributes])\n",
        "mse_train=mean_squared_error(train[target],predictions_train)\n",
        "print(mse_train**(1/2),'rmse train')\n",
        "rmses['Simple Decision Tree']=[mse**(1/2),mse_train**(1/2)]"
      ]
    },
    {
      "cell_type": "markdown",
      "source": [
        "As noted above, the decision tree algorithm:\n",
        "- Performs better than simple linear model due to its ability to cater non-linearity in attributes\n",
        "- Tends to overfit as RMSE train is significantly lower than RMSE test"
      ],
      "metadata": {
        "id": "zITtthkpalsf"
      }
    },
    {
      "cell_type": "markdown",
      "source": [
        "# Ensembled Decision Tree/ Random Forest"
      ],
      "metadata": {
        "id": "n7ce307c_OxH"
      }
    },
    {
      "cell_type": "markdown",
      "source": [
        "Now let's apply the random forest algorithm, which improves on the decision tree algorithm. Random forests tend to be much more accurate than simple models like linear regression. Due to the way random forests are constructed(ensembling different trees and picking best of everyone), they tend to overfit much less than decision trees. Random forests nonetheless are prone to overfitting, so it's important to tune parameters like maximum depth and minimum samples per leaf."
      ],
      "metadata": {
        "id": "iH0ZC5tJa6WQ"
      }
    },
    {
      "cell_type": "code",
      "execution_count": 11,
      "metadata": {
        "colab": {
          "base_uri": "https://localhost:8080/"
        },
        "id": "tohblQ2D-l1s",
        "outputId": "b400d01d-aecd-41db-942b-f14c4c497221"
      },
      "outputs": [
        {
          "output_type": "stream",
          "name": "stdout",
          "text": [
            "41.19472747436689 rmse test\n",
            "25.646713316143668 rmse train\n"
          ]
        }
      ],
      "source": [
        "model= RandomForestRegressor(n_estimators=100,min_samples_leaf=3)\n",
        "model.fit(train[attributes],train[target])\n",
        "predictions= model.predict(test[attributes])\n",
        "mse=mean_squared_error(test[target],predictions)\n",
        "print(mse**(1/2),'rmse test')\n",
        "\n",
        "predictions_train= model.predict(train[attributes])\n",
        "mse_train= mean_squared_error(train[target],predictions_train)\n",
        "print(mse_train**(1/2), 'rmse train')\n",
        "rmses['Ensembled Decision Tree']=[mse**(1/2),mse_train**(1/2)]"
      ]
    },
    {
      "cell_type": "markdown",
      "source": [
        "The results of random forest algorithm show that it perfroms the best on new data even though it is overfitting. "
      ],
      "metadata": {
        "id": "yzFA3BW8bhKz"
      }
    },
    {
      "cell_type": "markdown",
      "source": [
        "# Visualizing the Performance of 3 Models"
      ],
      "metadata": {
        "id": "q4HDs0ZVbP-i"
      }
    },
    {
      "cell_type": "code",
      "source": [
        "rmses=pd.DataFrame(rmses)\n",
        "rmses['Metric']=['RMSE Test','RMSE Train']\n",
        "rmses\n",
        "plt.figure(figsize=(6,4))\n",
        "plt.scatter(rmses['Metric'],rmses['Linear Model'],label='Linear Model')\n",
        "plt.scatter(rmses['Metric'],rmses['Simple Decision Tree'],label='Decision Tree')\n",
        "plt.scatter(rmses['Metric'],rmses['Ensembled Decision Tree'],label='Ensembled Decision Tree')\n",
        "plt.ylabel('RMSE')\n",
        "plt.legend(bbox_to_anchor=(1,1))\n",
        "plt.title('Comparing 3 Models',size=14)\n",
        "plt.show()\n"
      ],
      "metadata": {
        "colab": {
          "base_uri": "https://localhost:8080/",
          "height": 282
        },
        "id": "a1CPxbR8AvYz",
        "outputId": "508fd783-2391-4b0c-98cd-6b9f1c3562fd"
      },
      "execution_count": 12,
      "outputs": [
        {
          "output_type": "display_data",
          "data": {
            "image/png": "[encoded data removed]",
            "text/plain": [
              "<Figure size 432x288 with 1 Axes>"
            ]
          },
          "metadata": {
            "needs_background": "light"
          }
        }
      ]
    },
    {
      "cell_type": "markdown",
      "source": [
        "The scatterplot above shows that:\n",
        "- Linear model overfits the least and is least accurate\n",
        "- Decision tree overfits the most and is somewhat accurate\n",
        "- Random forest somewhat overfits and is most accurate"
      ],
      "metadata": {
        "id": "B-mjVbWxbwo8"
      }
    },
    {
      "cell_type": "markdown",
      "source": [
        "# Visualizing the Best Model"
      ],
      "metadata": {
        "id": "PeiJWrtBbXUb"
      }
    },
    {
      "cell_type": "code",
      "source": [
        "plt.figure(figsize=(8,6))\n",
        "plt.plot([i for i in range(len(test))],test[target],label='actual_labels')\n",
        "plt.plot([i for i in range(len(test))],predictions,label='predicted_label')\n",
        "plt.ylabel('Count Rented Bikes')\n",
        "plt.legend()\n",
        "plt.title(\"Ensembled Decision Tree (Nonlinear) Performance\",size=14)\n",
        "plt.show()"
      ],
      "metadata": {
        "colab": {
          "base_uri": "https://localhost:8080/",
          "height": 391
        },
        "id": "TdiPG8DFKRF6",
        "outputId": "73336f17-2b07-45df-fb06-65c2b0fedebd"
      },
      "execution_count": 13,
      "outputs": [
        {
          "output_type": "display_data",
          "data": {
            "image/png": "[encoded data removed]",
            "text/plain": [
              "<Figure size 576x432 with 1 Axes>"
            ]
          },
          "metadata": {
            "needs_background": "light"
          }
        }
      ]
    }
  ],
  "metadata": {
    "kernelspec": {
      "display_name": "Python 3",
      "language": "python",
      "name": "python3"
    },
    "language_info": {
      "codemirror_mode": {
        "name": "ipython",
        "version": 3
      },
      "file_extension": ".py",
      "mimetype": "text/x-python",
      "name": "python",
      "nbconvert_exporter": "python",
      "pygments_lexer": "ipython3",
      "version": "3.4.3"
    },
    "colab": {
      "name": "Predicting Bike Rentals.ipynb",
      "provenance": [],
      "collapsed_sections": []
    }
  },
  "nbformat": 4,
  "nbformat_minor": 0
}