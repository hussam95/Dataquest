{
 "cells": [
  {
   "cell_type": "code",
   "execution_count": 1,
   "metadata": {},
   "outputs": [],
   "source": [
    "from selenium import webdriver\n",
    "from bs4 import BeautifulSoup\n",
    "\n",
    "driver = webdriver.Chrome()\n"
   ]
  },
  {
   "cell_type": "code",
   "execution_count": 2,
   "metadata": {},
   "outputs": [],
   "source": [
    "url = 'https://planetdesert.com/collections/cactus'\n",
    "driver.get(url)\n",
    "\n",
    "sp = BeautifulSoup(driver.page_source, 'html.parser')\n",
    "\n",
    "plants = sp.find_all('span',class_=\"snize-overhidden\")"
   ]
  },
  {
   "cell_type": "code",
   "execution_count": 3,
   "metadata": {},
   "outputs": [
    {
     "data": {
      "text/plain": [
       "<span class=\"snize-overhidden\"><span class=\"snize-title\" style=\"max-height: 2.8em; -webkit-line-clamp: 2;\">Opuntia parryi serpentina</span><span class=\"snize-sku\">SKU: 1598</span><span class=\"snize-description\" style=\"max-height: 2.8em; -webkit-line-clamp: 2;\">(This plant comes in a 3.5 inch pot. All of our plants are grown under the same conditions, although not all the plants are the same. You will receive a similar plant in size and shape to the ones ...</span><div class=\"snize-price-list\"><span class=\"snize-price money\">$12.99</span></div><span class=\"snize-in-stock\"></span><button class=\"snize-button snize-action-button snize-view-product-button\">View product</button><span class=\"snize-reviews\"></span></span>"
      ]
     },
     "execution_count": 3,
     "metadata": {},
     "output_type": "execute_result"
    }
   ],
   "source": [
    "plants[10]"
   ]
  },
  {
   "cell_type": "code",
   "execution_count": 4,
   "metadata": {},
   "outputs": [],
   "source": [
    "titles=[]\n",
    "descriptions=[]\n",
    "prices=[]\n",
    "for plant in plants:\n",
    "    title= plant.find('span', class_=\"snize-title\").text\n",
    "    titles.append(title)\n",
    "    description= plant.find('span', class_= \"snize-description\").text\n",
    "    descriptions.append(description)\n",
    "    price=  plant.find('div', class_= \"snize-price-list\").text\n",
    "    prices.append(price)"
   ]
  },
  {
   "cell_type": "code",
   "execution_count": 5,
   "metadata": {},
   "outputs": [
    {
     "data": {
      "text/plain": [
       "['$10.99',\n",
       " '$10.99',\n",
       " '$12.99',\n",
       " '$6.49',\n",
       " '$6.49',\n",
       " '$6.49',\n",
       " '$5.99',\n",
       " '$9.99',\n",
       " '$10.99',\n",
       " '$10.99',\n",
       " '$12.99',\n",
       " '$10.39$12.99',\n",
       " '$6.99',\n",
       " '$11.99',\n",
       " '$6.49',\n",
       " '$6.49',\n",
       " '$6.49',\n",
       " '$8.29',\n",
       " '$6.49',\n",
       " '$6.49',\n",
       " '$8.29',\n",
       " '$14.99',\n",
       " '$9.99',\n",
       " '$19.99',\n",
       " '$16.99',\n",
       " '$12.99',\n",
       " '$16.99',\n",
       " '$14.99',\n",
       " '$12.99',\n",
       " '$9.99',\n",
       " '$8.99',\n",
       " '$9.99',\n",
       " '$7.99',\n",
       " '$12.99',\n",
       " '$19.99',\n",
       " '$14.99',\n",
       " '$11.99',\n",
       " '$6.99',\n",
       " '$7.99',\n",
       " '$9.99',\n",
       " '$9.99',\n",
       " '$9.99',\n",
       " '$6.99',\n",
       " '$9.99',\n",
       " '$10.39$12.99',\n",
       " '$10.99',\n",
       " '$7.99',\n",
       " '$12.99',\n",
       " '$26.39$32.99',\n",
       " '$10.99']"
      ]
     },
     "execution_count": 5,
     "metadata": {},
     "output_type": "execute_result"
    }
   ],
   "source": [
    "prices"
   ]
  },
  {
   "cell_type": "code",
   "execution_count": 6,
   "metadata": {},
   "outputs": [],
   "source": [
    "import pandas as pd\n",
    "plants_data= pd.DataFrame(list(zip(titles, prices)), columns=['Plant', 'Price'])"
   ]
  },
  {
   "cell_type": "code",
   "execution_count": 7,
   "metadata": {},
   "outputs": [
    {
     "name": "stdout",
     "output_type": "stream",
     "text": [
      "                                                Plant         Price\n",
      "0                             Mammillaria voburnensis        $10.99\n",
      "1                            Mammillaria melanocentra        $10.99\n",
      "2                               Coryphantha cornifera        $12.99\n",
      "3                              2 inch rebutia muscula         $6.49\n",
      "4                       2 inch notocactus roseoluteus         $6.49\n",
      "5            2 inch notocactus graessneri flaviflorus         $6.49\n",
      "6        Opuntia Consolea rubescens road kill cutting         $5.99\n",
      "7                                   Rhipsalis rhombea         $9.99\n",
      "8                   Ferocactus gracilis subs. Gatesii        $10.99\n",
      "9                        Mammillaria Polythele Toluca        $10.99\n",
      "10                          Opuntia parryi serpentina        $12.99\n",
      "11                      Mammillaria hertrichiana L086  $10.39$12.99\n",
      "12                        Opuntia quimilo pad cutting         $6.99\n",
      "13                      Opuntia basilaris Beaver Tail        $11.99\n",
      "14                          2 Inch Rebutia krainziana         $6.49\n",
      "15                          2 inch Oreocereus trollii         $6.49\n",
      "16                       2 inch Gymnocalycium horstii         $6.49\n",
      "17          2 inch Echinopsis subdenudata Fuzzy Navel         $8.29\n",
      "18                            2 inch Notocactus Scopa         $6.49\n",
      "19                        2 inch Parodia leninghausii         $6.49\n",
      "20  2 inch Notocactus magnificus or Parodia magnifica         $8.29\n",
      "21                                   Copiapoa Humilis        $14.99\n",
      "22                         Notocactus scopa murrielli         $9.99\n",
      "23                         ECHINOCACTUS PLATYACANTHUS        $19.99\n",
      "24                        Notocactus haselbergi large        $16.99\n",
      "25                                 Opuntia Snow Fuzzy        $12.99\n",
      "26                         Opuntia Santa Rita 3.5 pot        $16.99\n",
      "27                     Gymnocalycium damsii torulosum        $14.99\n",
      "28                            Ferocactus tiburonensis        $12.99\n",
      "29                           Neoporteria Violaciflora         $9.99\n",
      "30                           Mammillaria yucatanensis         $8.99\n",
      "31  Ferocactus viridescens v. orcuttii valle de la...         $9.99\n",
      "32                                Opuntia macrocentra         $7.99\n",
      "33                            Echinocereus subinermis        $12.99\n",
      "34            Puna subterranea Cumulopuntia incahuasi        $19.99\n",
      "35              tephrocactus Maihueniopsis glomeratus        $14.99\n",
      "36                      Lobivia pojoensis grandiflora        $11.99\n",
      "37                     Opuntia canterae elata Cutting         $6.99\n",
      "38                        Opuntia macrocentra cutting         $7.99\n",
      "39                          Gymnocalycium ritterianum         $9.99\n",
      "40                           Gymnocalycium schreiteri         $9.99\n",
      "41                          Gymnocalycium amerhauseri         $9.99\n",
      "42       Epiphyllum anguliger Fishbone Cactus Cutting         $6.99\n",
      "43               Epiphyllum anguliger Fishbone Cactus         $9.99\n",
      "44            Echinocereus Huasteca canyon arizonicus  $10.39$12.99\n",
      "45                             Opuntia canterae elata        $10.99\n",
      "46                           Opuntia pilifera cutting         $7.99\n",
      "47                           Tephrocactus aoracanthus        $12.99\n",
      "48                   Stenocereus machaerocereus eruca  $26.39$32.99\n",
      "49                                 Gymnocalycyum Ruta        $10.99\n"
     ]
    }
   ],
   "source": [
    "print(plants_data)"
   ]
  }
 ],
 "metadata": {
  "kernelspec": {
   "display_name": "Python 3",
   "language": "python",
   "name": "python3"
  },
  "language_info": {
   "codemirror_mode": {
    "name": "ipython",
    "version": 3
   },
   "file_extension": ".py",
   "mimetype": "text/x-python",
   "name": "python",
   "nbconvert_exporter": "python",
   "pygments_lexer": "ipython3",
   "version": "3.8.8"
  }
 },
 "nbformat": 4,
 "nbformat_minor": 4
}
