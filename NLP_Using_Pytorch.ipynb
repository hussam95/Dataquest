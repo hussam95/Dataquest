{
  "nbformat": 4,
  "nbformat_minor": 0,
  "metadata": {
    "colab": {
      "name": "NLP Using Pytorch.ipynb",
      "provenance": [],
      "collapsed_sections": []
    },
    "kernelspec": {
      "name": "python3",
      "display_name": "Python 3"
    },
    "language_info": {
      "name": "python"
    }
  },
  "cells": [
    {
      "cell_type": "markdown",
      "source": [
        "# Importing Packages"
      ],
      "metadata": {
        "id": "L7NequXUZcob"
      }
    },
    {
      "cell_type": "code",
      "execution_count": 1,
      "metadata": {
        "id": "2BtEtt646nNB"
      },
      "outputs": [],
      "source": [
        "import torch\n",
        "import numpy as np\n",
        "import pandas as pd\n",
        "import matplotlib.pyplot as plt\n",
        "import seaborn as sns\n",
        "from torch import nn\n",
        "import torch.nn.functional as F\n",
        "from sklearn.model_selection import train_test_split\n",
        "from keras.preprocessing.text import Tokenizer\n",
        "from torch.autograd import Variable"
      ]
    },
    {
      "cell_type": "markdown",
      "source": [
        "# Reading and Transforming Data"
      ],
      "metadata": {
        "id": "mUHsc6QFZj96"
      }
    },
    {
      "cell_type": "code",
      "source": [
        "cols=['category','message']\n",
        "data= pd.read_csv(\"/content/SMSSpamCollection.tsv\", delimiter='\\t', names=cols)\n",
        "data.head()"
      ],
      "metadata": {
        "colab": {
          "base_uri": "https://localhost:8080/",
          "height": 206
        },
        "id": "19tMR6V764Ko",
        "outputId": "71240232-5663-45ae-ac2a-fc519e84b0d2"
      },
      "execution_count": 2,
      "outputs": [
        {
          "output_type": "execute_result",
          "data": {
            "text/html": [
              "\n",
              "  <div id=\"df-c970485a-9a4a-4a5e-bbcb-44a6e868e695\">\n",
              "    <div class=\"colab-df-container\">\n",
              "      <div>\n",
              "<style scoped>\n",
              "    .dataframe tbody tr th:only-of-type {\n",
              "        vertical-align: middle;\n",
              "    }\n",
              "\n",
              "    .dataframe tbody tr th {\n",
              "        vertical-align: top;\n",
              "    }\n",
              "\n",
              "    .dataframe thead th {\n",
              "        text-align: right;\n",
              "    }\n",
              "</style>\n",
              "<table border=\"1\" class=\"dataframe\">\n",
              "  <thead>\n",
              "    <tr style=\"text-align: right;\">\n",
              "      <th></th>\n",
              "      <th>category</th>\n",
              "      <th>message</th>\n",
              "    </tr>\n",
              "  </thead>\n",
              "  <tbody>\n",
              "    <tr>\n",
              "      <th>0</th>\n",
              "      <td>ham</td>\n",
              "      <td>I've been searching for the right words to tha...</td>\n",
              "    </tr>\n",
              "    <tr>\n",
              "      <th>1</th>\n",
              "      <td>spam</td>\n",
              "      <td>Free entry in 2 a wkly comp to win FA Cup fina...</td>\n",
              "    </tr>\n",
              "    <tr>\n",
              "      <th>2</th>\n",
              "      <td>ham</td>\n",
              "      <td>Nah I don't think he goes to usf, he lives aro...</td>\n",
              "    </tr>\n",
              "    <tr>\n",
              "      <th>3</th>\n",
              "      <td>ham</td>\n",
              "      <td>Even my brother is not like to speak with me. ...</td>\n",
              "    </tr>\n",
              "    <tr>\n",
              "      <th>4</th>\n",
              "      <td>ham</td>\n",
              "      <td>I HAVE A DATE ON SUNDAY WITH WILL!!</td>\n",
              "    </tr>\n",
              "  </tbody>\n",
              "</table>\n",
              "</div>\n",
              "      <button class=\"colab-df-convert\" onclick=\"convertToInteractive('df-c970485a-9a4a-4a5e-bbcb-44a6e868e695')\"\n",
              "              title=\"Convert this dataframe to an interactive table.\"\n",
              "              style=\"display:none;\">\n",
              "        \n",
              "  <svg xmlns=\"http://www.w3.org/2000/svg\" height=\"24px\"viewBox=\"0 0 24 24\"\n",
              "       width=\"24px\">\n",
              "    <path d=\"M0 0h24v24H0V0z\" fill=\"none\"/>\n",
              "    <path d=\"M18.56 5.44l.94 2.06.94-2.06 2.06-.94-2.06-.94-.94-2.06-.94 2.06-2.06.94zm-11 1L8.5 8.5l.94-2.06 2.06-.94-2.06-.94L8.5 2.5l-.94 2.06-2.06.94zm10 10l.94 2.06.94-2.06 2.06-.94-2.06-.94-.94-2.06-.94 2.06-2.06.94z\"/><path d=\"M17.41 7.96l-1.37-1.37c-.4-.4-.92-.59-1.43-.59-.52 0-1.04.2-1.43.59L10.3 9.45l-7.72 7.72c-.78.78-.78 2.05 0 2.83L4 21.41c.39.39.9.59 1.41.59.51 0 1.02-.2 1.41-.59l7.78-7.78 2.81-2.81c.8-.78.8-2.07 0-2.86zM5.41 20L4 18.59l7.72-7.72 1.47 1.35L5.41 20z\"/>\n",
              "  </svg>\n",
              "      </button>\n",
              "      \n",
              "  <style>\n",
              "    .colab-df-container {\n",
              "      display:flex;\n",
              "      flex-wrap:wrap;\n",
              "      gap: 12px;\n",
              "    }\n",
              "\n",
              "    .colab-df-convert {\n",
              "      background-color: #E8F0FE;\n",
              "      border: none;\n",
              "      border-radius: 50%;\n",
              "      cursor: pointer;\n",
              "      display: none;\n",
              "      fill: #1967D2;\n",
              "      height: 32px;\n",
              "      padding: 0 0 0 0;\n",
              "      width: 32px;\n",
              "    }\n",
              "\n",
              "    .colab-df-convert:hover {\n",
              "      background-color: #E2EBFA;\n",
              "      box-shadow: 0px 1px 2px rgba(60, 64, 67, 0.3), 0px 1px 3px 1px rgba(60, 64, 67, 0.15);\n",
              "      fill: #174EA6;\n",
              "    }\n",
              "\n",
              "    [theme=dark] .colab-df-convert {\n",
              "      background-color: #3B4455;\n",
              "      fill: #D2E3FC;\n",
              "    }\n",
              "\n",
              "    [theme=dark] .colab-df-convert:hover {\n",
              "      background-color: #434B5C;\n",
              "      box-shadow: 0px 1px 3px 1px rgba(0, 0, 0, 0.15);\n",
              "      filter: drop-shadow(0px 1px 2px rgba(0, 0, 0, 0.3));\n",
              "      fill: #FFFFFF;\n",
              "    }\n",
              "  </style>\n",
              "\n",
              "      <script>\n",
              "        const buttonEl =\n",
              "          document.querySelector('#df-c970485a-9a4a-4a5e-bbcb-44a6e868e695 button.colab-df-convert');\n",
              "        buttonEl.style.display =\n",
              "          google.colab.kernel.accessAllowed ? 'block' : 'none';\n",
              "\n",
              "        async function convertToInteractive(key) {\n",
              "          const element = document.querySelector('#df-c970485a-9a4a-4a5e-bbcb-44a6e868e695');\n",
              "          const dataTable =\n",
              "            await google.colab.kernel.invokeFunction('convertToInteractive',\n",
              "                                                     [key], {});\n",
              "          if (!dataTable) return;\n",
              "\n",
              "          const docLinkHtml = 'Like what you see? Visit the ' +\n",
              "            '<a target=\"_blank\" href=https://colab.research.google.com/notebooks/data_table.ipynb>data table notebook</a>'\n",
              "            + ' to learn more about interactive tables.';\n",
              "          element.innerHTML = '';\n",
              "          dataTable['output_type'] = 'display_data';\n",
              "          await google.colab.output.renderOutput(dataTable, element);\n",
              "          const docLink = document.createElement('div');\n",
              "          docLink.innerHTML = docLinkHtml;\n",
              "          element.appendChild(docLink);\n",
              "        }\n",
              "      </script>\n",
              "    </div>\n",
              "  </div>\n",
              "  "
            ],
            "text/plain": [
              "  category                                            message\n",
              "0      ham  I've been searching for the right words to tha...\n",
              "1     spam  Free entry in 2 a wkly comp to win FA Cup fina...\n",
              "2      ham  Nah I don't think he goes to usf, he lives aro...\n",
              "3      ham  Even my brother is not like to speak with me. ...\n",
              "4      ham                I HAVE A DATE ON SUNDAY WITH WILL!!"
            ]
          },
          "metadata": {},
          "execution_count": 2
        }
      ]
    },
    {
      "cell_type": "markdown",
      "source": [
        "Let's do some transformations!"
      ],
      "metadata": {
        "id": "6EfSpZTsXZn9"
      }
    },
    {
      "cell_type": "code",
      "source": [
        "data['category']=data['category'].map({'ham':0,'spam':1})\n",
        "data.head()"
      ],
      "metadata": {
        "colab": {
          "base_uri": "https://localhost:8080/",
          "height": 206
        },
        "id": "74RCM14h-l18",
        "outputId": "0fa2cfe3-91d4-4555-bbd2-967fc05fc1a9"
      },
      "execution_count": 3,
      "outputs": [
        {
          "output_type": "execute_result",
          "data": {
            "text/html": [
              "\n",
              "  <div id=\"df-6c058b3d-313c-4fcc-be9d-235ed2790849\">\n",
              "    <div class=\"colab-df-container\">\n",
              "      <div>\n",
              "<style scoped>\n",
              "    .dataframe tbody tr th:only-of-type {\n",
              "        vertical-align: middle;\n",
              "    }\n",
              "\n",
              "    .dataframe tbody tr th {\n",
              "        vertical-align: top;\n",
              "    }\n",
              "\n",
              "    .dataframe thead th {\n",
              "        text-align: right;\n",
              "    }\n",
              "</style>\n",
              "<table border=\"1\" class=\"dataframe\">\n",
              "  <thead>\n",
              "    <tr style=\"text-align: right;\">\n",
              "      <th></th>\n",
              "      <th>category</th>\n",
              "      <th>message</th>\n",
              "    </tr>\n",
              "  </thead>\n",
              "  <tbody>\n",
              "    <tr>\n",
              "      <th>0</th>\n",
              "      <td>0</td>\n",
              "      <td>I've been searching for the right words to tha...</td>\n",
              "    </tr>\n",
              "    <tr>\n",
              "      <th>1</th>\n",
              "      <td>1</td>\n",
              "      <td>Free entry in 2 a wkly comp to win FA Cup fina...</td>\n",
              "    </tr>\n",
              "    <tr>\n",
              "      <th>2</th>\n",
              "      <td>0</td>\n",
              "      <td>Nah I don't think he goes to usf, he lives aro...</td>\n",
              "    </tr>\n",
              "    <tr>\n",
              "      <th>3</th>\n",
              "      <td>0</td>\n",
              "      <td>Even my brother is not like to speak with me. ...</td>\n",
              "    </tr>\n",
              "    <tr>\n",
              "      <th>4</th>\n",
              "      <td>0</td>\n",
              "      <td>I HAVE A DATE ON SUNDAY WITH WILL!!</td>\n",
              "    </tr>\n",
              "  </tbody>\n",
              "</table>\n",
              "</div>\n",
              "      <button class=\"colab-df-convert\" onclick=\"convertToInteractive('df-6c058b3d-313c-4fcc-be9d-235ed2790849')\"\n",
              "              title=\"Convert this dataframe to an interactive table.\"\n",
              "              style=\"display:none;\">\n",
              "        \n",
              "  <svg xmlns=\"http://www.w3.org/2000/svg\" height=\"24px\"viewBox=\"0 0 24 24\"\n",
              "       width=\"24px\">\n",
              "    <path d=\"M0 0h24v24H0V0z\" fill=\"none\"/>\n",
              "    <path d=\"M18.56 5.44l.94 2.06.94-2.06 2.06-.94-2.06-.94-.94-2.06-.94 2.06-2.06.94zm-11 1L8.5 8.5l.94-2.06 2.06-.94-2.06-.94L8.5 2.5l-.94 2.06-2.06.94zm10 10l.94 2.06.94-2.06 2.06-.94-2.06-.94-.94-2.06-.94 2.06-2.06.94z\"/><path d=\"M17.41 7.96l-1.37-1.37c-.4-.4-.92-.59-1.43-.59-.52 0-1.04.2-1.43.59L10.3 9.45l-7.72 7.72c-.78.78-.78 2.05 0 2.83L4 21.41c.39.39.9.59 1.41.59.51 0 1.02-.2 1.41-.59l7.78-7.78 2.81-2.81c.8-.78.8-2.07 0-2.86zM5.41 20L4 18.59l7.72-7.72 1.47 1.35L5.41 20z\"/>\n",
              "  </svg>\n",
              "      </button>\n",
              "      \n",
              "  <style>\n",
              "    .colab-df-container {\n",
              "      display:flex;\n",
              "      flex-wrap:wrap;\n",
              "      gap: 12px;\n",
              "    }\n",
              "\n",
              "    .colab-df-convert {\n",
              "      background-color: #E8F0FE;\n",
              "      border: none;\n",
              "      border-radius: 50%;\n",
              "      cursor: pointer;\n",
              "      display: none;\n",
              "      fill: #1967D2;\n",
              "      height: 32px;\n",
              "      padding: 0 0 0 0;\n",
              "      width: 32px;\n",
              "    }\n",
              "\n",
              "    .colab-df-convert:hover {\n",
              "      background-color: #E2EBFA;\n",
              "      box-shadow: 0px 1px 2px rgba(60, 64, 67, 0.3), 0px 1px 3px 1px rgba(60, 64, 67, 0.15);\n",
              "      fill: #174EA6;\n",
              "    }\n",
              "\n",
              "    [theme=dark] .colab-df-convert {\n",
              "      background-color: #3B4455;\n",
              "      fill: #D2E3FC;\n",
              "    }\n",
              "\n",
              "    [theme=dark] .colab-df-convert:hover {\n",
              "      background-color: #434B5C;\n",
              "      box-shadow: 0px 1px 3px 1px rgba(0, 0, 0, 0.15);\n",
              "      filter: drop-shadow(0px 1px 2px rgba(0, 0, 0, 0.3));\n",
              "      fill: #FFFFFF;\n",
              "    }\n",
              "  </style>\n",
              "\n",
              "      <script>\n",
              "        const buttonEl =\n",
              "          document.querySelector('#df-6c058b3d-313c-4fcc-be9d-235ed2790849 button.colab-df-convert');\n",
              "        buttonEl.style.display =\n",
              "          google.colab.kernel.accessAllowed ? 'block' : 'none';\n",
              "\n",
              "        async function convertToInteractive(key) {\n",
              "          const element = document.querySelector('#df-6c058b3d-313c-4fcc-be9d-235ed2790849');\n",
              "          const dataTable =\n",
              "            await google.colab.kernel.invokeFunction('convertToInteractive',\n",
              "                                                     [key], {});\n",
              "          if (!dataTable) return;\n",
              "\n",
              "          const docLinkHtml = 'Like what you see? Visit the ' +\n",
              "            '<a target=\"_blank\" href=https://colab.research.google.com/notebooks/data_table.ipynb>data table notebook</a>'\n",
              "            + ' to learn more about interactive tables.';\n",
              "          element.innerHTML = '';\n",
              "          dataTable['output_type'] = 'display_data';\n",
              "          await google.colab.output.renderOutput(dataTable, element);\n",
              "          const docLink = document.createElement('div');\n",
              "          docLink.innerHTML = docLinkHtml;\n",
              "          element.appendChild(docLink);\n",
              "        }\n",
              "      </script>\n",
              "    </div>\n",
              "  </div>\n",
              "  "
            ],
            "text/plain": [
              "   category                                            message\n",
              "0         0  I've been searching for the right words to tha...\n",
              "1         1  Free entry in 2 a wkly comp to win FA Cup fina...\n",
              "2         0  Nah I don't think he goes to usf, he lives aro...\n",
              "3         0  Even my brother is not like to speak with me. ...\n",
              "4         0                I HAVE A DATE ON SUNDAY WITH WILL!!"
            ]
          },
          "metadata": {},
          "execution_count": 3
        }
      ]
    },
    {
      "cell_type": "code",
      "source": [
        "# Making arrays for labels and features\n",
        "\n",
        "features=data.message.values\n",
        "labels=data.category.values\n",
        "print(features.shape)\n",
        "print(labels.shape)"
      ],
      "metadata": {
        "colab": {
          "base_uri": "https://localhost:8080/"
        },
        "id": "j1gvYhQg_HQX",
        "outputId": "58c4ae72-e82b-4cde-c53b-cd0fab3713f1"
      },
      "execution_count": 4,
      "outputs": [
        {
          "output_type": "stream",
          "name": "stdout",
          "text": [
            "(5568,)\n",
            "(5568,)\n"
          ]
        }
      ]
    },
    {
      "cell_type": "code",
      "source": [
        "t = Tokenizer(num_words=1000)\n",
        "t.fit_on_texts(features)\n",
        "features = t.texts_to_matrix(features, mode='tfidf')"
      ],
      "metadata": {
        "id": "Se_T76KjZTDa"
      },
      "execution_count": 5,
      "outputs": []
    },
    {
      "cell_type": "code",
      "source": [
        "features.shape"
      ],
      "metadata": {
        "colab": {
          "base_uri": "https://localhost:8080/"
        },
        "id": "e-eRxH4xZZV4",
        "outputId": "7b28572d-44ea-433b-ef4e-1a5a3e194de9"
      },
      "execution_count": 6,
      "outputs": [
        {
          "output_type": "execute_result",
          "data": {
            "text/plain": [
              "(5568, 1000)"
            ]
          },
          "metadata": {},
          "execution_count": 6
        }
      ]
    },
    {
      "cell_type": "markdown",
      "source": [
        "# Building Model"
      ],
      "metadata": {
        "id": "SHrcEJh1hDlC"
      }
    },
    {
      "cell_type": "code",
      "source": [
        "class Model(nn.Module):\n",
        "  def __init__(self,input,hidden,output):\n",
        "    super(Model,self).__init__()\n",
        "    self.l1=nn.Linear(input,hidden)\n",
        "    self.l2=nn.Linear(hidden,hidden)\n",
        "    self.l3=nn.Linear(hidden,output)\n",
        "\n",
        "  def forward(self,x):\n",
        "    out= F.relu(self.l1(x))\n",
        "    out=F.relu(self.l2(out))\n",
        "    out=self.l3(out)\n",
        "    return out\n"
      ],
      "metadata": {
        "id": "aJnvOBL6bBSW"
      },
      "execution_count": 7,
      "outputs": []
    },
    {
      "cell_type": "code",
      "source": [
        "input=1000\n",
        "hidden=100\n",
        "output=2\n",
        "model=Model(input,hidden,output)"
      ],
      "metadata": {
        "id": "JUTJYlh1bJWk"
      },
      "execution_count": 8,
      "outputs": []
    },
    {
      "cell_type": "code",
      "source": [
        "# Calculaitng Params \n",
        "pytorch_total_params = sum(p.numel() for p in model.parameters() if p.requires_grad) #(1000*100+100)+(100*100+10)+(100*2+2)=110,402\n",
        "print(pytorch_total_params)"
      ],
      "metadata": {
        "colab": {
          "base_uri": "https://localhost:8080/"
        },
        "id": "BSCBf74Tk62R",
        "outputId": "5332e8f5-c912-4b25-bb96-7c5e0ca8835b"
      },
      "execution_count": 9,
      "outputs": [
        {
          "output_type": "stream",
          "name": "stdout",
          "text": [
            "110402\n"
          ]
        }
      ]
    },
    {
      "cell_type": "code",
      "source": [
        "# Let's do train/test split\n",
        "X_train,X_test, y_train,y_test=train_test_split(features,labels,shuffle=True,random_state=3)"
      ],
      "metadata": {
        "id": "WmdIixigmvJu"
      },
      "execution_count": 10,
      "outputs": []
    },
    {
      "cell_type": "code",
      "source": [
        "# Let's define our loss function and optimization technique\n",
        "loss = nn.CrossEntropyLoss()\n",
        "optimizer = torch.optim.Adam(model.parameters(), lr=0.01)"
      ],
      "metadata": {
        "id": "wPItZILfu2gl"
      },
      "execution_count": 11,
      "outputs": []
    },
    {
      "cell_type": "markdown",
      "source": [
        "# Training Model\n",
        "Using:\n",
        "1. Using batch gradient descent\n",
        "2. Corssentropy loss function\n",
        "3. Adam optimizer"
      ],
      "metadata": {
        "id": "lBX7qSWWZsfQ"
      }
    },
    {
      "cell_type": "code",
      "source": [
        "# let's use batch gradient descent for training our baby that we created above! (if epochs=10 then 10 exposures to entire training data for learning)\n",
        "def train(epochs):\n",
        "    x_train = Variable(torch.from_numpy(X_train)).float()\n",
        "    y_train_ = Variable(torch.from_numpy(y_train)).long()\n",
        "    model.train()\n",
        "    train_losses=[]\n",
        "    for epoch in range(epochs):\n",
        "        optimizer.zero_grad() # still fuzzy not clear!\n",
        "        y_pred = model(x_train)\n",
        "        loss_ = loss(y_pred, y_train_)\n",
        "        train_losses.append(loss_.item())\n",
        "        print (\"epoch #\",epoch)\n",
        "        print (\"loss: \", loss_.item())\n",
        "        pred = torch.max(y_pred, 1)[1].eq(y_train_).sum()######smokeeeeeeeeeeeeeeeeeees!(Expanded below)\n",
        "        print (\"acc:(%) \", (100*pred/len(x_train)))\n",
        "        loss_.backward()\n",
        "        optimizer.step()\n",
        "    return (y_pred, train_losses)"
      ],
      "metadata": {
        "id": "mDRim7vwu3ng"
      },
      "execution_count": 12,
      "outputs": []
    },
    {
      "cell_type": "markdown",
      "source": [
        "Let's expand `torch.max(y_pred, 1)[1].eq(y_train_).sum()` for comprehension"
      ],
      "metadata": {
        "id": "-wTWa0doaAKT"
      }
    },
    {
      "cell_type": "code",
      "source": [
        "a=train(1)[0]\n",
        "a # a is equivalent to y_pred from above"
      ],
      "metadata": {
        "colab": {
          "base_uri": "https://localhost:8080/"
        },
        "id": "Yp9h0fm2wfOg",
        "outputId": "195088e7-d76a-4cf8-ddee-02490531a7a9"
      },
      "execution_count": 13,
      "outputs": [
        {
          "output_type": "stream",
          "name": "stdout",
          "text": [
            "epoch # 0\n",
            "loss:  0.701265275478363\n",
            "acc:(%)  tensor(31.5613)\n"
          ]
        },
        {
          "output_type": "execute_result",
          "data": {
            "text/plain": [
              "tensor([[-0.0631, -0.0545],\n",
              "        [-0.0365, -0.0730],\n",
              "        [-0.0350, -0.0411],\n",
              "        ...,\n",
              "        [-0.0731, -0.0206],\n",
              "        [-0.0560, -0.1088],\n",
              "        [-0.0598, -0.0265]], grad_fn=<AddmmBackward0>)"
            ]
          },
          "metadata": {},
          "execution_count": 13
        }
      ]
    },
    {
      "cell_type": "code",
      "source": [
        "torch.max(a) # collects max value of entire matrix"
      ],
      "metadata": {
        "colab": {
          "base_uri": "https://localhost:8080/"
        },
        "id": "Go0VlN0oEbNL",
        "outputId": "cb5cc790-88b5-4aee-e5c8-130b7a63b8a2"
      },
      "execution_count": 14,
      "outputs": [
        {
          "output_type": "execute_result",
          "data": {
            "text/plain": [
              "tensor(0.1880, grad_fn=<MaxBackward1>)"
            ]
          },
          "metadata": {},
          "execution_count": 14
        }
      ]
    },
    {
      "cell_type": "code",
      "source": [
        "torch.max(a,1) # collections max value row-wise"
      ],
      "metadata": {
        "colab": {
          "base_uri": "https://localhost:8080/"
        },
        "id": "cpDuPzlAwvNr",
        "outputId": "8e06dfda-ff27-4da7-e622-3cfcfac45f70"
      },
      "execution_count": 15,
      "outputs": [
        {
          "output_type": "execute_result",
          "data": {
            "text/plain": [
              "torch.return_types.max(values=tensor([-0.0545, -0.0365, -0.0350,  ..., -0.0206, -0.0560, -0.0265],\n",
              "       grad_fn=<MaxBackward0>), indices=tensor([1, 0, 0,  ..., 1, 0, 1]))"
            ]
          },
          "metadata": {},
          "execution_count": 15
        }
      ]
    },
    {
      "cell_type": "code",
      "source": [
        "torch.max(a,1)[1]"
      ],
      "metadata": {
        "colab": {
          "base_uri": "https://localhost:8080/"
        },
        "id": "PhHWdJWxzmzA",
        "outputId": "ef7f3b3b-d469-4e43-eb43-266471513246"
      },
      "execution_count": 16,
      "outputs": [
        {
          "output_type": "execute_result",
          "data": {
            "text/plain": [
              "tensor([1, 0, 0,  ..., 1, 0, 1])"
            ]
          },
          "metadata": {},
          "execution_count": 16
        }
      ]
    },
    {
      "cell_type": "code",
      "source": [
        "y_train_ = Variable(torch.from_numpy(y_train)).long()\n",
        "torch.max(a,1)[1].eq(y_train_)\n"
      ],
      "metadata": {
        "colab": {
          "base_uri": "https://localhost:8080/"
        },
        "id": "Bw6PokrY7wbS",
        "outputId": "21ce8d39-b32e-45a6-9a8d-ef185d03c101"
      },
      "execution_count": 17,
      "outputs": [
        {
          "output_type": "execute_result",
          "data": {
            "text/plain": [
              "tensor([False, False,  True,  ..., False,  True, False])"
            ]
          },
          "metadata": {},
          "execution_count": 17
        }
      ]
    },
    {
      "cell_type": "code",
      "source": [
        "torch.max(a,1)[1].eq(y_train_).sum() # total number of correct predictions on training set"
      ],
      "metadata": {
        "colab": {
          "base_uri": "https://localhost:8080/"
        },
        "id": "n3JNXiVUD0rO",
        "outputId": "d472a66d-66c4-4163-f924-a8e520ff066a"
      },
      "execution_count": 18,
      "outputs": [
        {
          "output_type": "execute_result",
          "data": {
            "text/plain": [
              "tensor(1318)"
            ]
          },
          "metadata": {},
          "execution_count": 18
        }
      ]
    },
    {
      "cell_type": "code",
      "source": [
        "train(10)"
      ],
      "metadata": {
        "colab": {
          "base_uri": "https://localhost:8080/"
        },
        "id": "JZwFrTsVD4H4",
        "outputId": "93cd4755-28a1-47c2-f814-fd06092687e1"
      },
      "execution_count": 19,
      "outputs": [
        {
          "output_type": "stream",
          "name": "stdout",
          "text": [
            "epoch # 0\n",
            "loss:  0.41323670744895935\n",
            "acc:(%)  tensor(86.9013)\n",
            "epoch # 1\n",
            "loss:  0.2527587413787842\n",
            "acc:(%)  tensor(86.9013)\n",
            "epoch # 2\n",
            "loss:  0.18717679381370544\n",
            "acc:(%)  tensor(86.9013)\n",
            "epoch # 3\n",
            "loss:  0.14776746928691864\n",
            "acc:(%)  tensor(89.5354)\n",
            "epoch # 4\n",
            "loss:  0.12029463797807693\n",
            "acc:(%)  tensor(95.1149)\n",
            "epoch # 5\n",
            "loss:  0.0981266126036644\n",
            "acc:(%)  tensor(97.9885)\n",
            "epoch # 6\n",
            "loss:  0.07764652371406555\n",
            "acc:(%)  tensor(98.8027)\n",
            "epoch # 7\n",
            "loss:  0.05832155421376228\n",
            "acc:(%)  tensor(99.2337)\n",
            "epoch # 8\n",
            "loss:  0.0415818952023983\n",
            "acc:(%)  tensor(99.3774)\n",
            "epoch # 9\n",
            "loss:  0.02961404249072075\n",
            "acc:(%)  tensor(99.3774)\n"
          ]
        },
        {
          "output_type": "execute_result",
          "data": {
            "text/plain": [
              "(tensor([[ 16.9195, -16.7566],\n",
              "         [ -0.9924,   1.4697],\n",
              "         [  1.5620,  -1.5644],\n",
              "         ...,\n",
              "         [  1.6617,  -1.7136],\n",
              "         [ 17.9558, -18.0262],\n",
              "         [  7.4841,  -7.5203]], grad_fn=<AddmmBackward0>),\n",
              " [0.41323670744895935,\n",
              "  0.2527587413787842,\n",
              "  0.18717679381370544,\n",
              "  0.14776746928691864,\n",
              "  0.12029463797807693,\n",
              "  0.0981266126036644,\n",
              "  0.07764652371406555,\n",
              "  0.05832155421376228,\n",
              "  0.0415818952023983,\n",
              "  0.02961404249072075])"
            ]
          },
          "metadata": {},
          "execution_count": 19
        }
      ]
    },
    {
      "cell_type": "markdown",
      "source": [
        "# Testing Model "
      ],
      "metadata": {
        "id": "Ob4_SGbyaVcy"
      }
    },
    {
      "cell_type": "code",
      "source": [
        "def test(epochs):\n",
        "    model.eval()\n",
        "    x_test = Variable(torch.from_numpy(X_test)).float()\n",
        "    y_test_ = Variable(torch.from_numpy(y_test)).long()\n",
        "    test_loss=[]\n",
        "    for epoch in range(epochs):\n",
        "        with torch.no_grad():\n",
        "            y_pred = model(x_test)\n",
        "            loss_ = loss(y_pred, y_test_)\n",
        "            test_loss.append(loss_.item())\n",
        "            print (\"epoch #\",epoch)\n",
        "            print (\"loss: \", loss_.item())\n",
        "            pred = torch.max(y_pred, 1)[1].eq(y_test_).sum()\n",
        "            print (\"acc (%): \", 100*pred/len(x_test))\n"
      ],
      "metadata": {
        "id": "M_1tn9OOFCYU"
      },
      "execution_count": 20,
      "outputs": []
    },
    {
      "cell_type": "code",
      "source": [
        "test(1)"
      ],
      "metadata": {
        "colab": {
          "base_uri": "https://localhost:8080/"
        },
        "id": "oM4UNw8nFUSb",
        "outputId": "4fc43051-5192-4e1d-ce59-e461ff77edc2"
      },
      "execution_count": 21,
      "outputs": [
        {
          "output_type": "stream",
          "name": "stdout",
          "text": [
            "epoch # 0\n",
            "loss:  0.09993883967399597\n",
            "acc (%):  tensor(98.3477)\n"
          ]
        }
      ]
    },
    {
      "cell_type": "code",
      "source": [
        "train_loss= train(200)[1]"
      ],
      "metadata": {
        "colab": {
          "base_uri": "https://localhost:8080/"
        },
        "id": "j0ZSmRXKJTEV",
        "outputId": "c588afdc-34f1-466f-ed6b-d26b6ffc1e29"
      },
      "execution_count": 22,
      "outputs": [
        {
          "output_type": "stream",
          "name": "stdout",
          "text": [
            "epoch # 0\n",
            "loss:  0.022390849888324738\n",
            "acc:(%)  tensor(99.3774)\n",
            "epoch # 1\n",
            "loss:  0.01809711568057537\n",
            "acc:(%)  tensor(99.4013)\n",
            "epoch # 2\n",
            "loss:  0.015372006222605705\n",
            "acc:(%)  tensor(99.4013)\n",
            "epoch # 3\n",
            "loss:  0.013401861302554607\n",
            "acc:(%)  tensor(99.4492)\n",
            "epoch # 4\n",
            "loss:  0.011590590700507164\n",
            "acc:(%)  tensor(99.5450)\n",
            "epoch # 5\n",
            "loss:  0.009620520286262035\n",
            "acc:(%)  tensor(99.6169)\n",
            "epoch # 6\n",
            "loss:  0.007649022154510021\n",
            "acc:(%)  tensor(99.6887)\n",
            "epoch # 7\n",
            "loss:  0.005856744479387999\n",
            "acc:(%)  tensor(99.7605)\n",
            "epoch # 8\n",
            "loss:  0.0046293470077216625\n",
            "acc:(%)  tensor(99.8084)\n",
            "epoch # 9\n",
            "loss:  0.003869052976369858\n",
            "acc:(%)  tensor(99.8563)\n",
            "epoch # 10\n",
            "loss:  0.003310458268970251\n",
            "acc:(%)  tensor(99.9282)\n",
            "epoch # 11\n",
            "loss:  0.002894491655752063\n",
            "acc:(%)  tensor(99.9282)\n",
            "epoch # 12\n",
            "loss:  0.002541300840675831\n",
            "acc:(%)  tensor(99.9521)\n",
            "epoch # 13\n",
            "loss:  0.002257880289107561\n",
            "acc:(%)  tensor(99.9761)\n",
            "epoch # 14\n",
            "loss:  0.0020452330354601145\n",
            "acc:(%)  tensor(99.9761)\n",
            "epoch # 15\n",
            "loss:  0.0018995247082784772\n",
            "acc:(%)  tensor(99.9761)\n",
            "epoch # 16\n",
            "loss:  0.0017988062463700771\n",
            "acc:(%)  tensor(99.9761)\n",
            "epoch # 17\n",
            "loss:  0.0017288988456130028\n",
            "acc:(%)  tensor(99.9761)\n",
            "epoch # 18\n",
            "loss:  0.0016804984770715237\n",
            "acc:(%)  tensor(99.9761)\n",
            "epoch # 19\n",
            "loss:  0.0016428568633273244\n",
            "acc:(%)  tensor(99.9761)\n",
            "epoch # 20\n",
            "loss:  0.0016142163658514619\n",
            "acc:(%)  tensor(99.9761)\n",
            "epoch # 21\n",
            "loss:  0.0015913174720481038\n",
            "acc:(%)  tensor(99.9761)\n",
            "epoch # 22\n",
            "loss:  0.0015730514423921704\n",
            "acc:(%)  tensor(99.9761)\n",
            "epoch # 23\n",
            "loss:  0.00155794364400208\n",
            "acc:(%)  tensor(99.9761)\n",
            "epoch # 24\n",
            "loss:  0.0015448046615347266\n",
            "acc:(%)  tensor(99.9761)\n",
            "epoch # 25\n",
            "loss:  0.0015327950241044164\n",
            "acc:(%)  tensor(99.9761)\n",
            "epoch # 26\n",
            "loss:  0.0015212995931506157\n",
            "acc:(%)  tensor(99.9761)\n",
            "epoch # 27\n",
            "loss:  0.0015098832082003355\n",
            "acc:(%)  tensor(99.9761)\n",
            "epoch # 28\n",
            "loss:  0.00149829953443259\n",
            "acc:(%)  tensor(99.9761)\n",
            "epoch # 29\n",
            "loss:  0.0014863878022879362\n",
            "acc:(%)  tensor(99.9761)\n",
            "epoch # 30\n",
            "loss:  0.0014740419574081898\n",
            "acc:(%)  tensor(99.9761)\n",
            "epoch # 31\n",
            "loss:  0.0014612022787332535\n",
            "acc:(%)  tensor(99.9761)\n",
            "epoch # 32\n",
            "loss:  0.0014478344237431884\n",
            "acc:(%)  tensor(99.9761)\n",
            "epoch # 33\n",
            "loss:  0.0014339435147121549\n",
            "acc:(%)  tensor(99.9761)\n",
            "epoch # 34\n",
            "loss:  0.0014195293188095093\n",
            "acc:(%)  tensor(99.9761)\n",
            "epoch # 35\n",
            "loss:  0.0014046267606317997\n",
            "acc:(%)  tensor(99.9761)\n",
            "epoch # 36\n",
            "loss:  0.001389301847666502\n",
            "acc:(%)  tensor(99.9761)\n",
            "epoch # 37\n",
            "loss:  0.0013735872926190495\n",
            "acc:(%)  tensor(99.9761)\n",
            "epoch # 38\n",
            "loss:  0.0013575301272794604\n",
            "acc:(%)  tensor(99.9761)\n",
            "epoch # 39\n",
            "loss:  0.0013412019470706582\n",
            "acc:(%)  tensor(99.9761)\n",
            "epoch # 40\n",
            "loss:  0.0013246414018794894\n",
            "acc:(%)  tensor(99.9761)\n",
            "epoch # 41\n",
            "loss:  0.0013078692136332393\n",
            "acc:(%)  tensor(99.9761)\n",
            "epoch # 42\n",
            "loss:  0.0012916401028633118\n",
            "acc:(%)  tensor(99.9761)\n",
            "epoch # 43\n",
            "loss:  0.0012759127421304584\n",
            "acc:(%)  tensor(99.9761)\n",
            "epoch # 44\n",
            "loss:  0.0012601485941559076\n",
            "acc:(%)  tensor(99.9761)\n",
            "epoch # 45\n",
            "loss:  0.0012444074964150786\n",
            "acc:(%)  tensor(99.9761)\n",
            "epoch # 46\n",
            "loss:  0.0012293885229155421\n",
            "acc:(%)  tensor(99.9761)\n",
            "epoch # 47\n",
            "loss:  0.0012144770007580519\n",
            "acc:(%)  tensor(99.9761)\n",
            "epoch # 48\n",
            "loss:  0.0011997068068012595\n",
            "acc:(%)  tensor(99.9761)\n",
            "epoch # 49\n",
            "loss:  0.00118512031622231\n",
            "acc:(%)  tensor(99.9761)\n",
            "epoch # 50\n",
            "loss:  0.001170748844742775\n",
            "acc:(%)  tensor(99.9761)\n",
            "epoch # 51\n",
            "loss:  0.0011566440807655454\n",
            "acc:(%)  tensor(99.9761)\n",
            "epoch # 52\n",
            "loss:  0.0011428206926211715\n",
            "acc:(%)  tensor(99.9761)\n",
            "epoch # 53\n",
            "loss:  0.0011293053394183517\n",
            "acc:(%)  tensor(99.9761)\n",
            "epoch # 54\n",
            "loss:  0.001116124913096428\n",
            "acc:(%)  tensor(99.9761)\n",
            "epoch # 55\n",
            "loss:  0.0011033002519980073\n",
            "acc:(%)  tensor(99.9761)\n",
            "epoch # 56\n",
            "loss:  0.001090851379558444\n",
            "acc:(%)  tensor(99.9761)\n",
            "epoch # 57\n",
            "loss:  0.0010787968058139086\n",
            "acc:(%)  tensor(99.9761)\n",
            "epoch # 58\n",
            "loss:  0.0010671444470062852\n",
            "acc:(%)  tensor(99.9761)\n",
            "epoch # 59\n",
            "loss:  0.0010559423826634884\n",
            "acc:(%)  tensor(99.9761)\n",
            "epoch # 60\n",
            "loss:  0.0010451686102896929\n",
            "acc:(%)  tensor(99.9761)\n",
            "epoch # 61\n",
            "loss:  0.0010348281357437372\n",
            "acc:(%)  tensor(99.9761)\n",
            "epoch # 62\n",
            "loss:  0.001024945522658527\n",
            "acc:(%)  tensor(99.9761)\n",
            "epoch # 63\n",
            "loss:  0.0010155049385502934\n",
            "acc:(%)  tensor(99.9761)\n",
            "epoch # 64\n",
            "loss:  0.0010065003298223019\n",
            "acc:(%)  tensor(99.9761)\n",
            "epoch # 65\n",
            "loss:  0.0009979393798857927\n",
            "acc:(%)  tensor(99.9761)\n",
            "epoch # 66\n",
            "loss:  0.0009898163843899965\n",
            "acc:(%)  tensor(99.9761)\n",
            "epoch # 67\n",
            "loss:  0.000982117373496294\n",
            "acc:(%)  tensor(99.9761)\n",
            "epoch # 68\n",
            "loss:  0.0009748306474648416\n",
            "acc:(%)  tensor(99.9761)\n",
            "epoch # 69\n",
            "loss:  0.0009679447393864393\n",
            "acc:(%)  tensor(99.9761)\n",
            "epoch # 70\n",
            "loss:  0.0009614501032046974\n",
            "acc:(%)  tensor(99.9761)\n",
            "epoch # 71\n",
            "loss:  0.0009553346317261457\n",
            "acc:(%)  tensor(99.9761)\n",
            "epoch # 72\n",
            "loss:  0.0009495871490798891\n",
            "acc:(%)  tensor(99.9761)\n",
            "epoch # 73\n",
            "loss:  0.0009441928123123944\n",
            "acc:(%)  tensor(99.9761)\n",
            "epoch # 74\n",
            "loss:  0.0009391380590386689\n",
            "acc:(%)  tensor(99.9761)\n",
            "epoch # 75\n",
            "loss:  0.0009344063000753522\n",
            "acc:(%)  tensor(99.9761)\n",
            "epoch # 76\n",
            "loss:  0.0009299779776483774\n",
            "acc:(%)  tensor(99.9761)\n",
            "epoch # 77\n",
            "loss:  0.0009258416830562055\n",
            "acc:(%)  tensor(99.9761)\n",
            "epoch # 78\n",
            "loss:  0.0009219798375852406\n",
            "acc:(%)  tensor(99.9761)\n",
            "epoch # 79\n",
            "loss:  0.0009183768415823579\n",
            "acc:(%)  tensor(99.9761)\n",
            "epoch # 80\n",
            "loss:  0.0009151424164883792\n",
            "acc:(%)  tensor(99.9761)\n",
            "epoch # 81\n",
            "loss:  0.0009121522307395935\n",
            "acc:(%)  tensor(99.9761)\n",
            "epoch # 82\n",
            "loss:  0.0009093375992961228\n",
            "acc:(%)  tensor(99.9761)\n",
            "epoch # 83\n",
            "loss:  0.0009066828642971814\n",
            "acc:(%)  tensor(99.9761)\n",
            "epoch # 84\n",
            "loss:  0.0009041790617629886\n",
            "acc:(%)  tensor(99.9761)\n",
            "epoch # 85\n",
            "loss:  0.0009018182172439992\n",
            "acc:(%)  tensor(99.9761)\n",
            "epoch # 86\n",
            "loss:  0.0008995853713713586\n",
            "acc:(%)  tensor(99.9761)\n",
            "epoch # 87\n",
            "loss:  0.0008974692318588495\n",
            "acc:(%)  tensor(99.9761)\n",
            "epoch # 88\n",
            "loss:  0.0008954604854807258\n",
            "acc:(%)  tensor(99.9761)\n",
            "epoch # 89\n",
            "loss:  0.0008935484220273793\n",
            "acc:(%)  tensor(99.9761)\n",
            "epoch # 90\n",
            "loss:  0.0008917246595956385\n",
            "acc:(%)  tensor(99.9761)\n",
            "epoch # 91\n",
            "loss:  0.0008899886161088943\n",
            "acc:(%)  tensor(99.9761)\n",
            "epoch # 92\n",
            "loss:  0.0008883309201337397\n",
            "acc:(%)  tensor(99.9761)\n",
            "epoch # 93\n",
            "loss:  0.0008867415017448366\n",
            "acc:(%)  tensor(99.9761)\n",
            "epoch # 94\n",
            "loss:  0.0008852164028212428\n",
            "acc:(%)  tensor(99.9761)\n",
            "epoch # 95\n",
            "loss:  0.0008837542845867574\n",
            "acc:(%)  tensor(99.9761)\n",
            "epoch # 96\n",
            "loss:  0.0008823484531603754\n",
            "acc:(%)  tensor(99.9761)\n",
            "epoch # 97\n",
            "loss:  0.0008809972205199301\n",
            "acc:(%)  tensor(99.9761)\n",
            "epoch # 98\n",
            "loss:  0.0008796954643912613\n",
            "acc:(%)  tensor(99.9761)\n",
            "epoch # 99\n",
            "loss:  0.0008784387609921396\n",
            "acc:(%)  tensor(99.9761)\n",
            "epoch # 100\n",
            "loss:  0.0008772259461693466\n",
            "acc:(%)  tensor(99.9761)\n",
            "epoch # 101\n",
            "loss:  0.0008760552736930549\n",
            "acc:(%)  tensor(99.9761)\n",
            "epoch # 102\n",
            "loss:  0.0008749262779019773\n",
            "acc:(%)  tensor(99.9761)\n",
            "epoch # 103\n",
            "loss:  0.0008738529868423939\n",
            "acc:(%)  tensor(99.9761)\n",
            "epoch # 104\n",
            "loss:  0.0008728221873752773\n",
            "acc:(%)  tensor(99.9761)\n",
            "epoch # 105\n",
            "loss:  0.0008718161843717098\n",
            "acc:(%)  tensor(99.9761)\n",
            "epoch # 106\n",
            "loss:  0.0008708316017873585\n",
            "acc:(%)  tensor(99.9761)\n",
            "epoch # 107\n",
            "loss:  0.0008698751917108893\n",
            "acc:(%)  tensor(99.9761)\n",
            "epoch # 108\n",
            "loss:  0.000868946488481015\n",
            "acc:(%)  tensor(99.9761)\n",
            "epoch # 109\n",
            "loss:  0.0008680421160534024\n",
            "acc:(%)  tensor(99.9761)\n",
            "epoch # 110\n",
            "loss:  0.0008671642281115055\n",
            "acc:(%)  tensor(99.9761)\n",
            "epoch # 111\n",
            "loss:  0.0008663127664476633\n",
            "acc:(%)  tensor(99.9761)\n",
            "epoch # 112\n",
            "loss:  0.0008654861012473702\n",
            "acc:(%)  tensor(99.9761)\n",
            "epoch # 113\n",
            "loss:  0.00086468510562554\n",
            "acc:(%)  tensor(99.9761)\n",
            "epoch # 114\n",
            "loss:  0.0008639086736366153\n",
            "acc:(%)  tensor(99.9761)\n",
            "epoch # 115\n",
            "loss:  0.0008631611708551645\n",
            "acc:(%)  tensor(99.9761)\n",
            "epoch # 116\n",
            "loss:  0.0008624355541542172\n",
            "acc:(%)  tensor(99.9761)\n",
            "epoch # 117\n",
            "loss:  0.0008617301355116069\n",
            "acc:(%)  tensor(99.9761)\n",
            "epoch # 118\n",
            "loss:  0.0008610447403043509\n",
            "acc:(%)  tensor(99.9761)\n",
            "epoch # 119\n",
            "loss:  0.0008603775058872998\n",
            "acc:(%)  tensor(99.9761)\n",
            "epoch # 120\n",
            "loss:  0.0008597276755608618\n",
            "acc:(%)  tensor(99.9761)\n",
            "epoch # 121\n",
            "loss:  0.0008590984507463872\n",
            "acc:(%)  tensor(99.9761)\n",
            "epoch # 122\n",
            "loss:  0.000858487153891474\n",
            "acc:(%)  tensor(99.9761)\n",
            "epoch # 123\n",
            "loss:  0.0008578956476412714\n",
            "acc:(%)  tensor(99.9761)\n",
            "epoch # 124\n",
            "loss:  0.0008573197992518544\n",
            "acc:(%)  tensor(99.9761)\n",
            "epoch # 125\n",
            "loss:  0.0008567595505155623\n",
            "acc:(%)  tensor(99.9761)\n",
            "epoch # 126\n",
            "loss:  0.0008562136208638549\n",
            "acc:(%)  tensor(99.9761)\n",
            "epoch # 127\n",
            "loss:  0.0008556834072805941\n",
            "acc:(%)  tensor(99.9761)\n",
            "epoch # 128\n",
            "loss:  0.0008551681530661881\n",
            "acc:(%)  tensor(99.9761)\n",
            "epoch # 129\n",
            "loss:  0.0008546652970835567\n",
            "acc:(%)  tensor(99.9761)\n",
            "epoch # 130\n",
            "loss:  0.000854180776514113\n",
            "acc:(%)  tensor(99.9761)\n",
            "epoch # 131\n",
            "loss:  0.000853709876537323\n",
            "acc:(%)  tensor(99.9761)\n",
            "epoch # 132\n",
            "loss:  0.0008532570209354162\n",
            "acc:(%)  tensor(99.9761)\n",
            "epoch # 133\n",
            "loss:  0.0008528184262104332\n",
            "acc:(%)  tensor(99.9761)\n",
            "epoch # 134\n",
            "loss:  0.0008523903088644147\n",
            "acc:(%)  tensor(99.9761)\n",
            "epoch # 135\n",
            "loss:  0.0008519707480445504\n",
            "acc:(%)  tensor(99.9761)\n",
            "epoch # 136\n",
            "loss:  0.0008515591034665704\n",
            "acc:(%)  tensor(99.9761)\n",
            "epoch # 137\n",
            "loss:  0.0008511558407917619\n",
            "acc:(%)  tensor(99.9761)\n",
            "epoch # 138\n",
            "loss:  0.000850761600304395\n",
            "acc:(%)  tensor(99.9761)\n",
            "epoch # 139\n",
            "loss:  0.0008503770222887397\n",
            "acc:(%)  tensor(99.9761)\n",
            "epoch # 140\n",
            "loss:  0.0008500008843839169\n",
            "acc:(%)  tensor(99.9761)\n",
            "epoch # 141\n",
            "loss:  0.0008496318478137255\n",
            "acc:(%)  tensor(99.9761)\n",
            "epoch # 142\n",
            "loss:  0.000849273637868464\n",
            "acc:(%)  tensor(99.9761)\n",
            "epoch # 143\n",
            "loss:  0.0008489247411489487\n",
            "acc:(%)  tensor(99.9761)\n",
            "epoch # 144\n",
            "loss:  0.0008485862636007369\n",
            "acc:(%)  tensor(99.9761)\n",
            "epoch # 145\n",
            "loss:  0.000848253897856921\n",
            "acc:(%)  tensor(99.9761)\n",
            "epoch # 146\n",
            "loss:  0.00084792694542557\n",
            "acc:(%)  tensor(99.9761)\n",
            "epoch # 147\n",
            "loss:  0.0008476082584820688\n",
            "acc:(%)  tensor(99.9761)\n",
            "epoch # 148\n",
            "loss:  0.0008472977206110954\n",
            "acc:(%)  tensor(99.9761)\n",
            "epoch # 149\n",
            "loss:  0.0008469920721836388\n",
            "acc:(%)  tensor(99.9761)\n",
            "epoch # 150\n",
            "loss:  0.0008466923609375954\n",
            "acc:(%)  tensor(99.9761)\n",
            "epoch # 151\n",
            "loss:  0.0008464005659334362\n",
            "acc:(%)  tensor(99.9761)\n",
            "epoch # 152\n",
            "loss:  0.0008461200632154942\n",
            "acc:(%)  tensor(99.9761)\n",
            "epoch # 153\n",
            "loss:  0.0008458447991870344\n",
            "acc:(%)  tensor(99.9761)\n",
            "epoch # 154\n",
            "loss:  0.0008455747156403959\n",
            "acc:(%)  tensor(99.9761)\n",
            "epoch # 155\n",
            "loss:  0.0008453093469142914\n",
            "acc:(%)  tensor(99.9761)\n",
            "epoch # 156\n",
            "loss:  0.0008450485183857381\n",
            "acc:(%)  tensor(99.9761)\n",
            "epoch # 157\n",
            "loss:  0.0008447919972240925\n",
            "acc:(%)  tensor(99.9761)\n",
            "epoch # 158\n",
            "loss:  0.0008445401908829808\n",
            "acc:(%)  tensor(99.9761)\n",
            "epoch # 159\n",
            "loss:  0.0008442926919087768\n",
            "acc:(%)  tensor(99.9761)\n",
            "epoch # 160\n",
            "loss:  0.0008440519450232387\n",
            "acc:(%)  tensor(99.9761)\n",
            "epoch # 161\n",
            "loss:  0.0008438163204118609\n",
            "acc:(%)  tensor(99.9761)\n",
            "epoch # 162\n",
            "loss:  0.0008435844792984426\n",
            "acc:(%)  tensor(99.9761)\n",
            "epoch # 163\n",
            "loss:  0.0008433560142293572\n",
            "acc:(%)  tensor(99.9761)\n",
            "epoch # 164\n",
            "loss:  0.0008431306341663003\n",
            "acc:(%)  tensor(99.9761)\n",
            "epoch # 165\n",
            "loss:  0.0008429092704318464\n",
            "acc:(%)  tensor(99.9761)\n",
            "epoch # 166\n",
            "loss:  0.000842692272271961\n",
            "acc:(%)  tensor(99.9761)\n",
            "epoch # 167\n",
            "loss:  0.0008424810948781669\n",
            "acc:(%)  tensor(99.9761)\n",
            "epoch # 168\n",
            "loss:  0.0008422743412666023\n",
            "acc:(%)  tensor(99.9761)\n",
            "epoch # 169\n",
            "loss:  0.0008420719532296062\n",
            "acc:(%)  tensor(99.9761)\n",
            "epoch # 170\n",
            "loss:  0.0008418720681220293\n",
            "acc:(%)  tensor(99.9761)\n",
            "epoch # 171\n",
            "loss:  0.0008416757918894291\n",
            "acc:(%)  tensor(99.9761)\n",
            "epoch # 172\n",
            "loss:  0.0008414828917011619\n",
            "acc:(%)  tensor(99.9761)\n",
            "epoch # 173\n",
            "loss:  0.0008412930183112621\n",
            "acc:(%)  tensor(99.9761)\n",
            "epoch # 174\n",
            "loss:  0.0008411052986048162\n",
            "acc:(%)  tensor(99.9761)\n",
            "epoch # 175\n",
            "loss:  0.0008409203728660941\n",
            "acc:(%)  tensor(99.9761)\n",
            "epoch # 176\n",
            "loss:  0.0008407399291172624\n",
            "acc:(%)  tensor(99.9761)\n",
            "epoch # 177\n",
            "loss:  0.0008405623375438154\n",
            "acc:(%)  tensor(99.9761)\n",
            "epoch # 178\n",
            "loss:  0.000840388354845345\n",
            "acc:(%)  tensor(99.9761)\n",
            "epoch # 179\n",
            "loss:  0.0008402178063988686\n",
            "acc:(%)  tensor(99.9761)\n",
            "epoch # 180\n",
            "loss:  0.0008400498190894723\n",
            "acc:(%)  tensor(99.9761)\n",
            "epoch # 181\n",
            "loss:  0.0008398839854635298\n",
            "acc:(%)  tensor(99.9761)\n",
            "epoch # 182\n",
            "loss:  0.0008397219935432076\n",
            "acc:(%)  tensor(99.9761)\n",
            "epoch # 183\n",
            "loss:  0.0008395621553063393\n",
            "acc:(%)  tensor(99.9761)\n",
            "epoch # 184\n",
            "loss:  0.0008394048199988902\n",
            "acc:(%)  tensor(99.9761)\n",
            "epoch # 185\n",
            "loss:  0.0008392490562982857\n",
            "acc:(%)  tensor(99.9761)\n",
            "epoch # 186\n",
            "loss:  0.0008390977745875716\n",
            "acc:(%)  tensor(99.9761)\n",
            "epoch # 187\n",
            "loss:  0.000838947540614754\n",
            "acc:(%)  tensor(99.9761)\n",
            "epoch # 188\n",
            "loss:  0.000838800217024982\n",
            "acc:(%)  tensor(99.9761)\n",
            "epoch # 189\n",
            "loss:  0.0008386546396650374\n",
            "acc:(%)  tensor(99.9761)\n",
            "epoch # 190\n",
            "loss:  0.0008385118562728167\n",
            "acc:(%)  tensor(99.9761)\n",
            "epoch # 191\n",
            "loss:  0.0008383720414713025\n",
            "acc:(%)  tensor(99.9761)\n",
            "epoch # 192\n",
            "loss:  0.0008382338564842939\n",
            "acc:(%)  tensor(99.9761)\n",
            "epoch # 193\n",
            "loss:  0.0008380981744267046\n",
            "acc:(%)  tensor(99.9761)\n",
            "epoch # 194\n",
            "loss:  0.0008379643550142646\n",
            "acc:(%)  tensor(99.9761)\n",
            "epoch # 195\n",
            "loss:  0.000837832922115922\n",
            "acc:(%)  tensor(99.9761)\n",
            "epoch # 196\n",
            "loss:  0.0008377025951631367\n",
            "acc:(%)  tensor(99.9761)\n",
            "epoch # 197\n",
            "loss:  0.0008375747711397707\n",
            "acc:(%)  tensor(99.9761)\n",
            "epoch # 198\n",
            "loss:  0.0008374484023079276\n",
            "acc:(%)  tensor(99.9761)\n",
            "epoch # 199\n",
            "loss:  0.0008373239543288946\n",
            "acc:(%)  tensor(99.9761)\n"
          ]
        }
      ]
    },
    {
      "cell_type": "markdown",
      "source": [
        "# Plotting Training Loss"
      ],
      "metadata": {
        "id": "3lFbVoBsaZUs"
      }
    },
    {
      "cell_type": "code",
      "source": [
        "plt.figure(figsize=(12,8))\n",
        "plt.plot([i for i in range(1,201,1)],train_loss,lw=2)\n",
        "plt.xlabel('Epochs',size=14)\n",
        "plt.ylabel('Loss',size=14)\n",
        "plt.xticks([i for i in range(1,201,9)],labels=[i for i in range(1,201,9)])\n",
        "plt.title(\"Training_loss_using_batch_gradient_descent_learning_algorithm\",size=16)\n",
        "plt.show()"
      ],
      "metadata": {
        "colab": {
          "base_uri": "https://localhost:8080/",
          "height": 519
        },
        "id": "0UbDgJIJJVTn",
        "outputId": "f6e81b97-1a69-4a75-ede2-1ea342b682c4"
      },
      "execution_count": 30,
      "outputs": [
        {
          "output_type": "display_data",
          "data": {
            "image/png": "[encoded data removed]",
            "text/plain": [
              "<Figure size 864x576 with 1 Axes>"
            ]
          },
          "metadata": {
            "needs_background": "light"
          }
        }
      ]
    }
  ]
}