{
  "nbformat": 4,
  "nbformat_minor": 0,
  "metadata": {
    "colab": {
      "name": "NLP Using Pytorch.ipynb",
      "provenance": [],
      "collapsed_sections": [
        "mUHsc6QFZj96",
        "SHrcEJh1hDlC",
        "-wTWa0doaAKT"
      ]
    },
    "kernelspec": {
      "name": "python3",
      "display_name": "Python 3"
    },
    "language_info": {
      "name": "python"
    }
  },
  "cells": [
    {
      "cell_type": "markdown",
      "source": [
        "# Importing Packages"
      ],
      "metadata": {
        "id": "L7NequXUZcob"
      }
    },
    {
      "cell_type": "code",
      "execution_count": 1,
      "metadata": {
        "id": "2BtEtt646nNB"
      },
      "outputs": [],
      "source": [
        "import torch\n",
        "import numpy as np\n",
        "import pandas as pd\n",
        "import matplotlib.pyplot as plt\n",
        "import seaborn as sns\n",
        "from torch import nn\n",
        "import torch.nn.functional as F\n",
        "from sklearn.model_selection import train_test_split\n",
        "from keras.preprocessing.text import Tokenizer\n",
        "from torch.autograd import Variable"
      ]
    },
    {
      "cell_type": "markdown",
      "source": [
        "# Reading and Transforming Data"
      ],
      "metadata": {
        "id": "mUHsc6QFZj96"
      }
    },
    {
      "cell_type": "code",
      "source": [
        "cols=['category','message']\n",
        "data= pd.read_csv(\"/content/SMSSpamCollection.tsv\", delimiter='\\t', names=cols)\n",
        "data.head()"
      ],
      "metadata": {
        "colab": {
          "base_uri": "https://localhost:8080/",
          "height": 206
        },
        "id": "19tMR6V764Ko",
        "outputId": "0dd05f05-1dd3-4619-fdb4-c52743cb9ce5"
      },
      "execution_count": 2,
      "outputs": [
        {
          "output_type": "execute_result",
          "data": {
            "text/html": [
              "\n",
              "  <div id=\"df-30b4dec2-1800-4890-9a88-430a1b3b4d28\">\n",
              "    <div class=\"colab-df-container\">\n",
              "      <div>\n",
              "<style scoped>\n",
              "    .dataframe tbody tr th:only-of-type {\n",
              "        vertical-align: middle;\n",
              "    }\n",
              "\n",
              "    .dataframe tbody tr th {\n",
              "        vertical-align: top;\n",
              "    }\n",
              "\n",
              "    .dataframe thead th {\n",
              "        text-align: right;\n",
              "    }\n",
              "</style>\n",
              "<table border=\"1\" class=\"dataframe\">\n",
              "  <thead>\n",
              "    <tr style=\"text-align: right;\">\n",
              "      <th></th>\n",
              "      <th>category</th>\n",
              "      <th>message</th>\n",
              "    </tr>\n",
              "  </thead>\n",
              "  <tbody>\n",
              "    <tr>\n",
              "      <th>0</th>\n",
              "      <td>ham</td>\n",
              "      <td>I've been searching for the right words to tha...</td>\n",
              "    </tr>\n",
              "    <tr>\n",
              "      <th>1</th>\n",
              "      <td>spam</td>\n",
              "      <td>Free entry in 2 a wkly comp to win FA Cup fina...</td>\n",
              "    </tr>\n",
              "    <tr>\n",
              "      <th>2</th>\n",
              "      <td>ham</td>\n",
              "      <td>Nah I don't think he goes to usf, he lives aro...</td>\n",
              "    </tr>\n",
              "    <tr>\n",
              "      <th>3</th>\n",
              "      <td>ham</td>\n",
              "      <td>Even my brother is not like to speak with me. ...</td>\n",
              "    </tr>\n",
              "    <tr>\n",
              "      <th>4</th>\n",
              "      <td>ham</td>\n",
              "      <td>I HAVE A DATE ON SUNDAY WITH WILL!!</td>\n",
              "    </tr>\n",
              "  </tbody>\n",
              "</table>\n",
              "</div>\n",
              "      <button class=\"colab-df-convert\" onclick=\"convertToInteractive('df-30b4dec2-1800-4890-9a88-430a1b3b4d28')\"\n",
              "              title=\"Convert this dataframe to an interactive table.\"\n",
              "              style=\"display:none;\">\n",
              "        \n",
              "  <svg xmlns=\"http://www.w3.org/2000/svg\" height=\"24px\"viewBox=\"0 0 24 24\"\n",
              "       width=\"24px\">\n",
              "    <path d=\"M0 0h24v24H0V0z\" fill=\"none\"/>\n",
              "    <path d=\"M18.56 5.44l.94 2.06.94-2.06 2.06-.94-2.06-.94-.94-2.06-.94 2.06-2.06.94zm-11 1L8.5 8.5l.94-2.06 2.06-.94-2.06-.94L8.5 2.5l-.94 2.06-2.06.94zm10 10l.94 2.06.94-2.06 2.06-.94-2.06-.94-.94-2.06-.94 2.06-2.06.94z\"/><path d=\"M17.41 7.96l-1.37-1.37c-.4-.4-.92-.59-1.43-.59-.52 0-1.04.2-1.43.59L10.3 9.45l-7.72 7.72c-.78.78-.78 2.05 0 2.83L4 21.41c.39.39.9.59 1.41.59.51 0 1.02-.2 1.41-.59l7.78-7.78 2.81-2.81c.8-.78.8-2.07 0-2.86zM5.41 20L4 18.59l7.72-7.72 1.47 1.35L5.41 20z\"/>\n",
              "  </svg>\n",
              "      </button>\n",
              "      \n",
              "  <style>\n",
              "    .colab-df-container {\n",
              "      display:flex;\n",
              "      flex-wrap:wrap;\n",
              "      gap: 12px;\n",
              "    }\n",
              "\n",
              "    .colab-df-convert {\n",
              "      background-color: #E8F0FE;\n",
              "      border: none;\n",
              "      border-radius: 50%;\n",
              "      cursor: pointer;\n",
              "      display: none;\n",
              "      fill: #1967D2;\n",
              "      height: 32px;\n",
              "      padding: 0 0 0 0;\n",
              "      width: 32px;\n",
              "    }\n",
              "\n",
              "    .colab-df-convert:hover {\n",
              "      background-color: #E2EBFA;\n",
              "      box-shadow: 0px 1px 2px rgba(60, 64, 67, 0.3), 0px 1px 3px 1px rgba(60, 64, 67, 0.15);\n",
              "      fill: #174EA6;\n",
              "    }\n",
              "\n",
              "    [theme=dark] .colab-df-convert {\n",
              "      background-color: #3B4455;\n",
              "      fill: #D2E3FC;\n",
              "    }\n",
              "\n",
              "    [theme=dark] .colab-df-convert:hover {\n",
              "      background-color: #434B5C;\n",
              "      box-shadow: 0px 1px 3px 1px rgba(0, 0, 0, 0.15);\n",
              "      filter: drop-shadow(0px 1px 2px rgba(0, 0, 0, 0.3));\n",
              "      fill: #FFFFFF;\n",
              "    }\n",
              "  </style>\n",
              "\n",
              "      <script>\n",
              "        const buttonEl =\n",
              "          document.querySelector('#df-30b4dec2-1800-4890-9a88-430a1b3b4d28 button.colab-df-convert');\n",
              "        buttonEl.style.display =\n",
              "          google.colab.kernel.accessAllowed ? 'block' : 'none';\n",
              "\n",
              "        async function convertToInteractive(key) {\n",
              "          const element = document.querySelector('#df-30b4dec2-1800-4890-9a88-430a1b3b4d28');\n",
              "          const dataTable =\n",
              "            await google.colab.kernel.invokeFunction('convertToInteractive',\n",
              "                                                     [key], {});\n",
              "          if (!dataTable) return;\n",
              "\n",
              "          const docLinkHtml = 'Like what you see? Visit the ' +\n",
              "            '<a target=\"_blank\" href=https://colab.research.google.com/notebooks/data_table.ipynb>data table notebook</a>'\n",
              "            + ' to learn more about interactive tables.';\n",
              "          element.innerHTML = '';\n",
              "          dataTable['output_type'] = 'display_data';\n",
              "          await google.colab.output.renderOutput(dataTable, element);\n",
              "          const docLink = document.createElement('div');\n",
              "          docLink.innerHTML = docLinkHtml;\n",
              "          element.appendChild(docLink);\n",
              "        }\n",
              "      </script>\n",
              "    </div>\n",
              "  </div>\n",
              "  "
            ],
            "text/plain": [
              "  category                                            message\n",
              "0      ham  I've been searching for the right words to tha...\n",
              "1     spam  Free entry in 2 a wkly comp to win FA Cup fina...\n",
              "2      ham  Nah I don't think he goes to usf, he lives aro...\n",
              "3      ham  Even my brother is not like to speak with me. ...\n",
              "4      ham                I HAVE A DATE ON SUNDAY WITH WILL!!"
            ]
          },
          "metadata": {},
          "execution_count": 2
        }
      ]
    },
    {
      "cell_type": "markdown",
      "source": [
        "Let's do some transformations!"
      ],
      "metadata": {
        "id": "6EfSpZTsXZn9"
      }
    },
    {
      "cell_type": "code",
      "source": [
        "data['category']=data['category'].map({'ham':0,'spam':1})\n",
        "data.head()"
      ],
      "metadata": {
        "colab": {
          "base_uri": "https://localhost:8080/",
          "height": 206
        },
        "id": "74RCM14h-l18",
        "outputId": "8c8ca0d7-d16a-44e4-b648-602d1b8e814d"
      },
      "execution_count": 3,
      "outputs": [
        {
          "output_type": "execute_result",
          "data": {
            "text/html": [
              "\n",
              "  <div id=\"df-eab0f917-151f-4d7a-ae5f-16fc05eadf6a\">\n",
              "    <div class=\"colab-df-container\">\n",
              "      <div>\n",
              "<style scoped>\n",
              "    .dataframe tbody tr th:only-of-type {\n",
              "        vertical-align: middle;\n",
              "    }\n",
              "\n",
              "    .dataframe tbody tr th {\n",
              "        vertical-align: top;\n",
              "    }\n",
              "\n",
              "    .dataframe thead th {\n",
              "        text-align: right;\n",
              "    }\n",
              "</style>\n",
              "<table border=\"1\" class=\"dataframe\">\n",
              "  <thead>\n",
              "    <tr style=\"text-align: right;\">\n",
              "      <th></th>\n",
              "      <th>category</th>\n",
              "      <th>message</th>\n",
              "    </tr>\n",
              "  </thead>\n",
              "  <tbody>\n",
              "    <tr>\n",
              "      <th>0</th>\n",
              "      <td>0</td>\n",
              "      <td>I've been searching for the right words to tha...</td>\n",
              "    </tr>\n",
              "    <tr>\n",
              "      <th>1</th>\n",
              "      <td>1</td>\n",
              "      <td>Free entry in 2 a wkly comp to win FA Cup fina...</td>\n",
              "    </tr>\n",
              "    <tr>\n",
              "      <th>2</th>\n",
              "      <td>0</td>\n",
              "      <td>Nah I don't think he goes to usf, he lives aro...</td>\n",
              "    </tr>\n",
              "    <tr>\n",
              "      <th>3</th>\n",
              "      <td>0</td>\n",
              "      <td>Even my brother is not like to speak with me. ...</td>\n",
              "    </tr>\n",
              "    <tr>\n",
              "      <th>4</th>\n",
              "      <td>0</td>\n",
              "      <td>I HAVE A DATE ON SUNDAY WITH WILL!!</td>\n",
              "    </tr>\n",
              "  </tbody>\n",
              "</table>\n",
              "</div>\n",
              "      <button class=\"colab-df-convert\" onclick=\"convertToInteractive('df-eab0f917-151f-4d7a-ae5f-16fc05eadf6a')\"\n",
              "              title=\"Convert this dataframe to an interactive table.\"\n",
              "              style=\"display:none;\">\n",
              "        \n",
              "  <svg xmlns=\"http://www.w3.org/2000/svg\" height=\"24px\"viewBox=\"0 0 24 24\"\n",
              "       width=\"24px\">\n",
              "    <path d=\"M0 0h24v24H0V0z\" fill=\"none\"/>\n",
              "    <path d=\"M18.56 5.44l.94 2.06.94-2.06 2.06-.94-2.06-.94-.94-2.06-.94 2.06-2.06.94zm-11 1L8.5 8.5l.94-2.06 2.06-.94-2.06-.94L8.5 2.5l-.94 2.06-2.06.94zm10 10l.94 2.06.94-2.06 2.06-.94-2.06-.94-.94-2.06-.94 2.06-2.06.94z\"/><path d=\"M17.41 7.96l-1.37-1.37c-.4-.4-.92-.59-1.43-.59-.52 0-1.04.2-1.43.59L10.3 9.45l-7.72 7.72c-.78.78-.78 2.05 0 2.83L4 21.41c.39.39.9.59 1.41.59.51 0 1.02-.2 1.41-.59l7.78-7.78 2.81-2.81c.8-.78.8-2.07 0-2.86zM5.41 20L4 18.59l7.72-7.72 1.47 1.35L5.41 20z\"/>\n",
              "  </svg>\n",
              "      </button>\n",
              "      \n",
              "  <style>\n",
              "    .colab-df-container {\n",
              "      display:flex;\n",
              "      flex-wrap:wrap;\n",
              "      gap: 12px;\n",
              "    }\n",
              "\n",
              "    .colab-df-convert {\n",
              "      background-color: #E8F0FE;\n",
              "      border: none;\n",
              "      border-radius: 50%;\n",
              "      cursor: pointer;\n",
              "      display: none;\n",
              "      fill: #1967D2;\n",
              "      height: 32px;\n",
              "      padding: 0 0 0 0;\n",
              "      width: 32px;\n",
              "    }\n",
              "\n",
              "    .colab-df-convert:hover {\n",
              "      background-color: #E2EBFA;\n",
              "      box-shadow: 0px 1px 2px rgba(60, 64, 67, 0.3), 0px 1px 3px 1px rgba(60, 64, 67, 0.15);\n",
              "      fill: #174EA6;\n",
              "    }\n",
              "\n",
              "    [theme=dark] .colab-df-convert {\n",
              "      background-color: #3B4455;\n",
              "      fill: #D2E3FC;\n",
              "    }\n",
              "\n",
              "    [theme=dark] .colab-df-convert:hover {\n",
              "      background-color: #434B5C;\n",
              "      box-shadow: 0px 1px 3px 1px rgba(0, 0, 0, 0.15);\n",
              "      filter: drop-shadow(0px 1px 2px rgba(0, 0, 0, 0.3));\n",
              "      fill: #FFFFFF;\n",
              "    }\n",
              "  </style>\n",
              "\n",
              "      <script>\n",
              "        const buttonEl =\n",
              "          document.querySelector('#df-eab0f917-151f-4d7a-ae5f-16fc05eadf6a button.colab-df-convert');\n",
              "        buttonEl.style.display =\n",
              "          google.colab.kernel.accessAllowed ? 'block' : 'none';\n",
              "\n",
              "        async function convertToInteractive(key) {\n",
              "          const element = document.querySelector('#df-eab0f917-151f-4d7a-ae5f-16fc05eadf6a');\n",
              "          const dataTable =\n",
              "            await google.colab.kernel.invokeFunction('convertToInteractive',\n",
              "                                                     [key], {});\n",
              "          if (!dataTable) return;\n",
              "\n",
              "          const docLinkHtml = 'Like what you see? Visit the ' +\n",
              "            '<a target=\"_blank\" href=https://colab.research.google.com/notebooks/data_table.ipynb>data table notebook</a>'\n",
              "            + ' to learn more about interactive tables.';\n",
              "          element.innerHTML = '';\n",
              "          dataTable['output_type'] = 'display_data';\n",
              "          await google.colab.output.renderOutput(dataTable, element);\n",
              "          const docLink = document.createElement('div');\n",
              "          docLink.innerHTML = docLinkHtml;\n",
              "          element.appendChild(docLink);\n",
              "        }\n",
              "      </script>\n",
              "    </div>\n",
              "  </div>\n",
              "  "
            ],
            "text/plain": [
              "   category                                            message\n",
              "0         0  I've been searching for the right words to tha...\n",
              "1         1  Free entry in 2 a wkly comp to win FA Cup fina...\n",
              "2         0  Nah I don't think he goes to usf, he lives aro...\n",
              "3         0  Even my brother is not like to speak with me. ...\n",
              "4         0                I HAVE A DATE ON SUNDAY WITH WILL!!"
            ]
          },
          "metadata": {},
          "execution_count": 3
        }
      ]
    },
    {
      "cell_type": "code",
      "source": [
        "# Making arrays for labels and features\n",
        "\n",
        "features=data.message.values\n",
        "labels=data.category.values\n",
        "print(features.shape)\n",
        "print(labels.shape)"
      ],
      "metadata": {
        "colab": {
          "base_uri": "https://localhost:8080/"
        },
        "id": "j1gvYhQg_HQX",
        "outputId": "3d2fb4bf-743e-4ef7-c458-c0b6c62ce3f7"
      },
      "execution_count": 4,
      "outputs": [
        {
          "output_type": "stream",
          "name": "stdout",
          "text": [
            "(5568,)\n",
            "(5568,)\n"
          ]
        }
      ]
    },
    {
      "cell_type": "code",
      "source": [
        "t = Tokenizer(num_words=1000)\n",
        "t.fit_on_texts(features)\n",
        "features = t.texts_to_matrix(features, mode='tfidf')"
      ],
      "metadata": {
        "id": "Se_T76KjZTDa"
      },
      "execution_count": 5,
      "outputs": []
    },
    {
      "cell_type": "code",
      "source": [
        "features.shape"
      ],
      "metadata": {
        "colab": {
          "base_uri": "https://localhost:8080/"
        },
        "id": "e-eRxH4xZZV4",
        "outputId": "f9e97a90-2231-4b52-eba0-6674ee7b5ea1"
      },
      "execution_count": 6,
      "outputs": [
        {
          "output_type": "execute_result",
          "data": {
            "text/plain": [
              "(5568, 1000)"
            ]
          },
          "metadata": {},
          "execution_count": 6
        }
      ]
    },
    {
      "cell_type": "markdown",
      "source": [
        "# Building Model"
      ],
      "metadata": {
        "id": "SHrcEJh1hDlC"
      }
    },
    {
      "cell_type": "code",
      "source": [
        "class Model(nn.Module):\n",
        "  def __init__(self,input,hidden,output):\n",
        "    super(Model,self).__init__()\n",
        "    self.l1=nn.Linear(input,hidden)\n",
        "    self.l2=nn.Linear(hidden,hidden)\n",
        "    self.l3=nn.Linear(hidden,output)\n",
        "\n",
        "  def forward(self,x):\n",
        "    x = self.l1(x)\n",
        "    out= F.relu(x)\n",
        "    out=F.relu(self.l2(out))\n",
        "    out=self.l3(out)\n",
        "    return out\n"
      ],
      "metadata": {
        "id": "aJnvOBL6bBSW"
      },
      "execution_count": 7,
      "outputs": []
    },
    {
      "cell_type": "code",
      "source": [
        "INPUT=1000\n",
        "HIDDEN=100\n",
        "OUTPUT=2\n",
        "model=Model(INPUT,HIDDEN,OUTPUT)"
      ],
      "metadata": {
        "id": "JUTJYlh1bJWk"
      },
      "execution_count": 8,
      "outputs": []
    },
    {
      "cell_type": "code",
      "source": [
        "# Calculaitng Params \n",
        "pytorch_total_params = sum(p.numel() for p in model.parameters() if p.requires_grad) #(1000*100+100)+(100*100+10)+(100*2+2)=110,402\n",
        "print(pytorch_total_params)"
      ],
      "metadata": {
        "colab": {
          "base_uri": "https://localhost:8080/"
        },
        "id": "BSCBf74Tk62R",
        "outputId": "e92a91bb-fb92-4ca0-f03f-e4012a57ca3f"
      },
      "execution_count": 9,
      "outputs": [
        {
          "output_type": "stream",
          "name": "stdout",
          "text": [
            "110402\n"
          ]
        }
      ]
    },
    {
      "cell_type": "code",
      "source": [
        "# Let's do train/test split\n",
        "X_train,X_test, y_train,y_test=train_test_split(features,labels,shuffle=True)"
      ],
      "metadata": {
        "id": "WmdIixigmvJu"
      },
      "execution_count": 10,
      "outputs": []
    },
    {
      "cell_type": "code",
      "source": [
        "# Let's define our loss function and optimization technique\n",
        "loss = nn.CrossEntropyLoss()\n",
        "optimizer = torch.optim.Adam(model.parameters(), lr=0.01)"
      ],
      "metadata": {
        "id": "wPItZILfu2gl"
      },
      "execution_count": 11,
      "outputs": []
    },
    {
      "cell_type": "markdown",
      "source": [
        "# Training and Testing Model\n",
        "Using:\n",
        "1. Using batch gradient descent\n",
        "2. Corssentropy loss function\n",
        "3. Adam optimizer"
      ],
      "metadata": {
        "id": "lBX7qSWWZsfQ"
      }
    },
    {
      "cell_type": "code",
      "source": [
        "# let's use batch gradient descent for training our baby that we created above! (if epochs=10 then 10 exposures to entire training data for learning)\n",
        "def train_test(epochs,lr=0.01):\n",
        "    optimizer = torch.optim.Adam(model.parameters(), lr)\n",
        "    x_train = Variable(torch.from_numpy(X_train)).float()\n",
        "    y_train_ = Variable(torch.from_numpy(y_train)).long()\n",
        "    x_test = Variable(torch.from_numpy(X_test)).float()\n",
        "    y_test_ = Variable(torch.from_numpy(y_test)).long()\n",
        "    train_losses=[]\n",
        "    test_losses=[]\n",
        "    model.train() # Each iteration of for loop updates our model's parameters through backpropagation\n",
        "    for epoch in range(epochs):\n",
        "        optimizer.zero_grad() \n",
        "        #let's forward pass and calculate train_loss\n",
        "        y_pred_train = model(x_train)\n",
        "        train_loss = loss(y_pred_train, y_train_)\n",
        "        #let's forward pass and calculate test_loss\n",
        "        y_pred_test = model(x_test)\n",
        "        test_loss = loss(y_pred_test, y_test_)\n",
        "        # Let's register train and test losses for each epoch by appending relevant lists\n",
        "        train_losses.append(train_loss.item())\n",
        "        test_losses.append(test_loss.item())\n",
        "        # Let's print train_loss and test_loss for each epoch\n",
        "        # print (\"epoch #\",epoch+1)\n",
        "        # print (\"train_loss: \", train_loss.item())\n",
        "        # print (\"test_loss: \", test_loss.item())\n",
        "        # Let's compute correct train and test predictions\n",
        "        pred_train = torch.max(y_pred_train, 1)[1].eq(y_train_).sum()######smokeeeeeeeeeeeeeeeeeees!(Expanded below)\n",
        "        pred_test = torch.max(y_pred_test, 1)[1].eq(y_test_).sum()\n",
        "        # Let's print train and test accuracies\n",
        "        # print (\"train acc:(%) \", (100*pred_train/len(x_train)))\n",
        "        # print (\"test acc:(%) \", (100*pred_test/len(x_test)))\n",
        "        train_loss.backward()\n",
        "        #test_loss.backward()\n",
        "        optimizer.step()\n",
        "    return (y_pred_train, train_losses,test_losses,model)"
      ],
      "metadata": {
        "id": "mDRim7vwu3ng"
      },
      "execution_count": 12,
      "outputs": []
    },
    {
      "cell_type": "markdown",
      "source": [
        "### Experimentation\n",
        "Let's expand `torch.max(y_pred, 1)[1].eq(y_train_).sum()` for comprehension"
      ],
      "metadata": {
        "id": "-wTWa0doaAKT"
      }
    },
    {
      "cell_type": "code",
      "source": [
        "# a=train_test(1)[0]\n",
        "# a # a is equivalent to y_pred from above"
      ],
      "metadata": {
        "id": "Yp9h0fm2wfOg"
      },
      "execution_count": 13,
      "outputs": []
    },
    {
      "cell_type": "code",
      "source": [
        "# torch.max(a) # collects max value of entire matrix"
      ],
      "metadata": {
        "id": "Go0VlN0oEbNL"
      },
      "execution_count": 14,
      "outputs": []
    },
    {
      "cell_type": "code",
      "source": [
        "# torch.max(a,1) # collections max value row-wise"
      ],
      "metadata": {
        "id": "cpDuPzlAwvNr"
      },
      "execution_count": 15,
      "outputs": []
    },
    {
      "cell_type": "code",
      "source": [
        "# torch.max(a,1)[1]"
      ],
      "metadata": {
        "id": "PhHWdJWxzmzA"
      },
      "execution_count": 16,
      "outputs": []
    },
    {
      "cell_type": "code",
      "source": [
        "# y_train_ = Variable(torch.from_numpy(y_train)).long()\n",
        "# torch.max(a,1)[1].eq(y_train_)\n"
      ],
      "metadata": {
        "id": "Bw6PokrY7wbS"
      },
      "execution_count": 17,
      "outputs": []
    },
    {
      "cell_type": "code",
      "source": [
        "# torch.max(a,1)[1].eq(y_train_).sum() # total number of correct predictions on training set"
      ],
      "metadata": {
        "id": "n3JNXiVUD0rO"
      },
      "execution_count": 18,
      "outputs": []
    },
    {
      "cell_type": "markdown",
      "source": [
        "# Plotting Train/Test Loss"
      ],
      "metadata": {
        "id": "3lFbVoBsaZUs"
      }
    },
    {
      "cell_type": "code",
      "source": [
        "plt.figure(figsize=(12,8))\n",
        "plt.plot([i for i in range(1,51,1)],train_test(50)[1],lw=2, color='green',label='training_loss')\n",
        "plt.xlabel('Epochs',size=14)\n",
        "plt.ylabel('Loss',size=14)\n",
        "plt.xticks([i for i in range(1,52,5)],labels=[i for i in range(1,52,5)])\n",
        "plt.legend()\n",
        "plt.show()"
      ],
      "metadata": {
        "colab": {
          "base_uri": "https://localhost:8080/",
          "height": 501
        },
        "id": "0UbDgJIJJVTn",
        "outputId": "660b04ec-736b-43e2-dc25-2f2416eeee79"
      },
      "execution_count": 19,
      "outputs": [
        {
          "output_type": "display_data",
          "data": {
            "image/png": "[encoded data removed]",
            "text/plain": [
              "<Figure size 864x576 with 1 Axes>"
            ]
          },
          "metadata": {
            "needs_background": "light"
          }
        }
      ]
    },
    {
      "cell_type": "code",
      "source": [
        "# plt.figure(figsize=(12,8))\n",
        "# plt.plot([i for i in range(1,51,1)],train_test(50)[2],lw=2, color='red',label='testing_loss')\n",
        "# plt.xlabel('Epochs',size=14)\n",
        "# plt.ylabel('Loss',size=14)\n",
        "# plt.xticks([i for i in range(1,52,5)],labels=[i for i in range(1,52,5)])\n",
        "# plt.legend()\n",
        "# plt.show()"
      ],
      "metadata": {
        "id": "xLASc_EKqlIA"
      },
      "execution_count": 20,
      "outputs": []
    },
    {
      "cell_type": "markdown",
      "source": [
        "# Classification Report"
      ],
      "metadata": {
        "id": "S3ezX_rOEQTH"
      }
    },
    {
      "cell_type": "code",
      "source": [
        "from sklearn.metrics import confusion_matrix\n",
        "model=train_test(11)[3] # epochs=11, getting 3rd element of tuple returned by train_test func\n",
        "test_pred=model(torch.from_numpy(X_test).float())\n",
        "test_pred= torch.max(test_pred,1)[1]\n",
        "test_pred.data.numpy()\n",
        "cm=confusion_matrix(y_test,test_pred)\n",
        "print('test\\n',cm)\n",
        "\n",
        "train_pred=model(torch.from_numpy(X_train).float())\n",
        "train_pred= torch.max(train_pred,1)[1]\n",
        "train_pred.data.numpy()\n",
        "cm=confusion_matrix(y_train,train_pred)\n",
        "print('train:\\n',cm)"
      ],
      "metadata": {
        "colab": {
          "base_uri": "https://localhost:8080/"
        },
        "id": "IwEEbn6P8f03",
        "outputId": "91908824-654b-4af7-b16c-7e0f847bd963"
      },
      "execution_count": 21,
      "outputs": [
        {
          "output_type": "stream",
          "name": "stdout",
          "text": [
            "test\n",
            " [[1201   12]\n",
            " [  13  166]]\n",
            "train:\n",
            " [[3609    0]\n",
            " [   0  567]]\n"
          ]
        }
      ]
    }
  ]
}